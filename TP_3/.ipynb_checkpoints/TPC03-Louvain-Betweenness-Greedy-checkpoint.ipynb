{
 "cells": [
  {
   "cell_type": "code",
   "execution_count": 1,
   "metadata": {},
   "outputs": [
    {
     "data": {
      "image/png": "[encoded data removed]",
      "text/plain": [
       "<matplotlib.figure.Figure at 0x7f5c6e3cb588>"
      ]
     },
     "metadata": {},
     "output_type": "display_data"
    }
   ],
   "source": [
    "import networkx as nx\n",
    "import matplotlib.pyplot as plt\n",
    "G = nx.balanced_tree(h=3,r=2)\n",
    "nx.draw(G,with_labels=True)\n",
    "plt.show()"
   ]
  },
  {
   "cell_type": "markdown",
   "metadata": {},
   "source": [
    "### Clustering por betweenness: \n",
    "Existe un algoritmo propio de NetworX para hacerlo. El mismo va quitando los ejes con mayor valor de betweenness (edge_beetweenness) y esto genera distintas comunidades. Luego puedo cortar en función de algún numero deaseado de clusters o buscando maximizar el valor de la modularidad.\n"
   ]
  },
  {
   "cell_type": "code",
   "execution_count": 3,
   "metadata": {
    "collapsed": true
   },
   "outputs": [],
   "source": [
    "com = nx.algorithms.community.centrality.girvan_newman(G)"
   ]
  },
  {
   "cell_type": "code",
   "execution_count": 4,
   "metadata": {
    "collapsed": true
   },
   "outputs": [],
   "source": [
    "a = [node for node in com]"
   ]
  },
  {
   "cell_type": "code",
   "execution_count": 5,
   "metadata": {},
   "outputs": [
    {
     "data": {
      "text/plain": [
       "[({0, 2, 5, 6, 11, 12, 13, 14}, {1, 3, 4, 7, 8, 9, 10}),\n",
       " ({0, 2, 5, 11, 12}, {1, 3, 4, 7, 8, 9, 10}, {6, 13, 14}),\n",
       " ({0, 2, 5, 11, 12}, {1, 4, 9, 10}, {3, 7, 8}, {6, 13, 14}),\n",
       " ({0, 2}, {1, 4, 9, 10}, {3, 7, 8}, {5, 11, 12}, {6, 13, 14}),\n",
       " ({0, 2}, {1}, {3, 7, 8}, {4, 9, 10}, {5, 11, 12}, {6, 13, 14}),\n",
       " ({0, 2}, {1}, {3, 8}, {4, 9, 10}, {5, 11, 12}, {6, 13, 14}, {7}),\n",
       " ({0, 2}, {1}, {3, 8}, {4, 9, 10}, {5, 11, 12}, {6, 13}, {7}, {14}),\n",
       " ({0, 2}, {1}, {3, 8}, {4, 10}, {5, 11, 12}, {6, 13}, {7}, {9}, {14}),\n",
       " ({0, 2}, {1}, {3, 8}, {4, 10}, {5, 12}, {6, 13}, {7}, {9}, {11}, {14}),\n",
       " ({0}, {1}, {2}, {3, 8}, {4, 10}, {5, 12}, {6, 13}, {7}, {9}, {11}, {14}),\n",
       " ({0}, {1}, {2}, {3}, {4, 10}, {5, 12}, {6, 13}, {7}, {8}, {9}, {11}, {14}),\n",
       " ({0}, {1}, {2}, {3}, {4, 10}, {5, 12}, {6}, {7}, {8}, {9}, {11}, {13}, {14}),\n",
       " ({0},\n",
       "  {1},\n",
       "  {2},\n",
       "  {3},\n",
       "  {4},\n",
       "  {5, 12},\n",
       "  {6},\n",
       "  {7},\n",
       "  {8},\n",
       "  {9},\n",
       "  {10},\n",
       "  {11},\n",
       "  {13},\n",
       "  {14}),\n",
       " ({0},\n",
       "  {1},\n",
       "  {2},\n",
       "  {3},\n",
       "  {4},\n",
       "  {5},\n",
       "  {6},\n",
       "  {7},\n",
       "  {8},\n",
       "  {9},\n",
       "  {10},\n",
       "  {11},\n",
       "  {12},\n",
       "  {13},\n",
       "  {14})]"
      ]
     },
     "execution_count": 5,
     "metadata": {},
     "output_type": "execute_result"
    }
   ],
   "source": [
    "a"
   ]
  },
  {
   "cell_type": "markdown",
   "metadata": {},
   "source": [
    "### Clustering por Louvain: \n",
    "Para esto necesitarán installar el paquete python-louvain. Para esto deben correr: pip3 install python-louvain. Recuerden agregar el flag --user si estan en las compus del labo. "
   ]
  },
  {
   "cell_type": "code",
   "execution_count": 6,
   "metadata": {},
   "outputs": [
    {
     "ename": "ImportError",
     "evalue": "No module named 'community'",
     "output_type": "error",
     "traceback": [
      "\u001b[0;31m---------------------------------------------------------------------------\u001b[0m",
      "\u001b[0;31mImportError\u001b[0m                               Traceback (most recent call last)",
      "\u001b[0;32m<ipython-input-6-9db09fb33799>\u001b[0m in \u001b[0;36m<module>\u001b[0;34m()\u001b[0m\n\u001b[0;32m----> 1\u001b[0;31m \u001b[0;32mimport\u001b[0m \u001b[0mcommunity\u001b[0m\u001b[0;34m\u001b[0m\u001b[0m\n\u001b[0m\u001b[1;32m      2\u001b[0m \u001b[0mG\u001b[0m \u001b[0;34m=\u001b[0m \u001b[0mnx\u001b[0m\u001b[0;34m.\u001b[0m\u001b[0mkarate_club_graph\u001b[0m\u001b[0;34m(\u001b[0m\u001b[0;34m)\u001b[0m\u001b[0;34m\u001b[0m\u001b[0m\n\u001b[1;32m      3\u001b[0m \u001b[0mnx\u001b[0m\u001b[0;34m.\u001b[0m\u001b[0mdraw\u001b[0m\u001b[0;34m(\u001b[0m\u001b[0mG\u001b[0m\u001b[0;34m,\u001b[0m\u001b[0mwith_labels\u001b[0m\u001b[0;34m=\u001b[0m\u001b[0;32mTrue\u001b[0m\u001b[0;34m)\u001b[0m\u001b[0;34m\u001b[0m\u001b[0m\n\u001b[1;32m      4\u001b[0m \u001b[0mplt\u001b[0m\u001b[0;34m.\u001b[0m\u001b[0mshow\u001b[0m\u001b[0;34m(\u001b[0m\u001b[0;34m)\u001b[0m\u001b[0;34m\u001b[0m\u001b[0m\n",
      "\u001b[0;31mImportError\u001b[0m: No module named 'community'"
     ]
    }
   ],
   "source": [
    "import community\n",
    "G = nx.karate_club_graph()\n",
    "nx.draw(G,with_labels=True)\n",
    "plt.show()"
   ]
  },
  {
   "cell_type": "code",
   "execution_count": 50,
   "metadata": {},
   "outputs": [
    {
     "data": {
      "text/plain": [
       "{0: 0,\n",
       " 1: 0,\n",
       " 2: 0,\n",
       " 3: 0,\n",
       " 4: 1,\n",
       " 5: 1,\n",
       " 6: 1,\n",
       " 7: 0,\n",
       " 8: 2,\n",
       " 9: 0,\n",
       " 10: 1,\n",
       " 11: 0,\n",
       " 12: 0,\n",
       " 13: 0,\n",
       " 14: 2,\n",
       " 15: 2,\n",
       " 16: 1,\n",
       " 17: 0,\n",
       " 18: 2,\n",
       " 19: 0,\n",
       " 20: 2,\n",
       " 21: 0,\n",
       " 22: 2,\n",
       " 23: 3,\n",
       " 24: 3,\n",
       " 25: 3,\n",
       " 26: 2,\n",
       " 27: 3,\n",
       " 28: 3,\n",
       " 29: 2,\n",
       " 30: 2,\n",
       " 31: 3,\n",
       " 32: 2,\n",
       " 33: 2}"
      ]
     },
     "execution_count": 50,
     "metadata": {},
     "output_type": "execute_result"
    }
   ],
   "source": [
    "# Compute the best partition\n",
    "partition = community.best_partition(G)\n",
    "partition"
   ]
  },
  {
   "cell_type": "markdown",
   "metadata": {},
   "source": [
    "### Clustering por maximizacion 'greedy' de modularidad: \n",
    "Existe un algoritmo propio de NetworX para hacerlo. Puede que tengan que actualizar networkx para que les funcione, ya que vien a partir de la versión 2.2. Para esto deben correr en la terminal: pip install --upgrade networkx. Pueden chusmear la [documentacion de este paquete](https://networkx.github.io/documentation/stable/reference/algorithms/community.html#module-networkx.algorithms.community.modularity_max)."
   ]
  },
  {
   "cell_type": "code",
   "execution_count": 2,
   "metadata": {},
   "outputs": [
    {
     "data": {
      "image/png": "[encoded data removed]",
      "text/plain": [
       "<matplotlib.figure.Figure at 0x7f044af2e400>"
      ]
     },
     "metadata": {},
     "output_type": "display_data"
    },
    {
     "data": {
      "text/plain": [
       "[frozenset({0, 1, 2}),\n",
       " frozenset({3, 7, 8}),\n",
       " frozenset({4, 9, 10}),\n",
       " frozenset({5, 11, 12}),\n",
       " frozenset({6, 13, 14})]"
      ]
     },
     "execution_count": 2,
     "metadata": {},
     "output_type": "execute_result"
    }
   ],
   "source": [
    "import networkx as nx\n",
    "import matplotlib.pyplot as plt\n",
    "G = nx.balanced_tree(h=3,r=2)\n",
    "nx.draw(G,with_labels=True)\n",
    "plt.show()\n",
    "comus = nx.algorithms.community.greedy_modularity_communities(G, weight=None)\n",
    "list(comus)"
   ]
  }
 ],
 "metadata": {
  "kernelspec": {
   "display_name": "Python 3",
   "language": "python",
   "name": "python3"
  },
  "language_info": {
   "codemirror_mode": {
    "name": "ipython",
    "version": 3
   },
   "file_extension": ".py",
   "mimetype": "text/x-python",
   "name": "python",
   "nbconvert_exporter": "python",
   "pygments_lexer": "ipython3",
   "version": "3.5.2"
  }
 },
 "nbformat": 4,
 "nbformat_minor": 2
}

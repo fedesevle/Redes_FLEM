{
 "cells": [
  {
   "cell_type": "code",
   "execution_count": 1,
   "metadata": {
    "collapsed": true
   },
   "outputs": [],
   "source": [
    "import networkx as nx\n",
    "import matplotlib.pylab as plt\n",
    "%matplotlib inline\n",
    "\n",
    "# from rpy2.robjects.packages import importr\n",
    "# igraph = importr('igraph')\n",
    "# import pandas as pd\n",
    "# from rpy2.robjects import r, pandas2ri\n",
    "# a = pandas2ri.py2ri(nx.to_pandas_adjacency(nxG))\n",
    "\n",
    "import os\n",
    "import numpy as np\n",
    "import rpy2.robjects as robjects"
   ]
  },
  {
   "cell_type": "code",
   "execution_count": 2,
   "metadata": {
    "collapsed": true
   },
   "outputs": [],
   "source": [
    "def community(nxG, algorithm, fig_name = \"G\"):\n",
    "    \"\"\"\n",
    "    In:\n",
    "        nxG: grafo de networkx.\n",
    "        algorithm: string, entre las siguientes opciones: \n",
    "            fast_greedy\n",
    "            edge_betweenness\n",
    "            louvain\n",
    "            infomap\n",
    "        fig_name: nombre de la figura que se genera al clsuterizar. Le agrega automaticamente el nombre del algoritmo usado y el nombre del grafo si lo tuviere\n",
    "    Out:\n",
    "        labels: numpy array con la pertenencia de cada nodo al cluster.\n",
    "    \n",
    "    \"\"\"\n",
    "    gml_file_name = \"G.gml\"\n",
    "    fig_name += \"_\"+nxG.name+\"_\"+algorithm+\".svg\"\n",
    "    nx.write_gml(nxG, gml_file_name)\n",
    "    \n",
    "    igG = robjects.r('''\n",
    "        f <- function(file, algorithm, fig_name){\n",
    "            require(\"igraph\")     \n",
    "            \n",
    "            G <- read_graph(file, \"gml\")\n",
    "            #format = c(\"edgelist\", \"pajek\", \"ncol\", \"lgl\", \"graphml\",\"dimacs\", \"graphdb\", \"gml\", \"dl\"), ...)\n",
    "            \n",
    "            if(algorithm == \"fast_greedy\"){\n",
    "                c <- cluster_fast_greedy(G, \n",
    "                    merges = TRUE, \n",
    "                    modularity = TRUE, \n",
    "                    membership = TRUE)\n",
    "            }\n",
    "            \n",
    "            if(algorithm == \"edge_betweenness\"){\n",
    "                c <- cluster_edge_betweenness(G,directed = FALSE,edge.betweenness = TRUE)\n",
    "            }\n",
    "            \n",
    "            if(algorithm == \"louvain\"){\n",
    "                c <- cluster_louvain(G)\n",
    "            }\n",
    "            \n",
    "            if(algorithm == \"infomap\"){\n",
    "                c <- cluster_infomap(G)\n",
    "            }\n",
    "            \n",
    "            svg(fig_name)\n",
    "            plot(c, G)\n",
    "            dev.off()\n",
    "            \n",
    "            return(membership(c))\n",
    "        }\n",
    "    ''')\n",
    "    \n",
    "    labels = igG(gml_file_name, algorithm, fig_name)\n",
    "    os.remove(gml_file_name)\n",
    "    return np.array(labels)"
   ]
  },
  {
   "cell_type": "code",
   "execution_count": 3,
   "metadata": {},
   "outputs": [
    {
     "name": "stderr",
     "output_type": "stream",
     "text": [
      "/usr/local/lib/python3.5/dist-packages/pandas/core/computation/__init__.py:18: UserWarning: The installed version of numexpr 2.4.3 is not supported in pandas and will be not be used\n",
      "The minimum supported version is 2.4.6\n",
      "\n",
      "  ver=ver, min_ver=_MIN_NUMEXPR_VERSION), UserWarning)\n"
     ]
    }
   ],
   "source": [
    "import matplotlib.pylab as plt\n",
    "import networkx as nx\n",
    "import numpy as np\n",
    "import pandas as pd\n",
    "\n",
    "G = nx.read_gml('dolphins.gml')\n",
    "\n",
    "#nx.draw(G,with_labels=True)\n",
    "#plt.show()"
   ]
  },
  {
   "cell_type": "code",
   "execution_count": 6,
   "metadata": {},
   "outputs": [
    {
     "ename": "NameError",
     "evalue": "name 'dolphins' is not defined",
     "output_type": "error",
     "traceback": [
      "\u001b[0;31m---------------------------------------------------------------------------\u001b[0m",
      "\u001b[0;31mNameError\u001b[0m                                 Traceback (most recent call last)",
      "\u001b[0;32m<ipython-input-6-21287f6bcf0f>\u001b[0m in \u001b[0;36m<module>\u001b[0;34m()\u001b[0m\n\u001b[0;32m----> 1\u001b[0;31m \u001b[0mlabels_infomap\u001b[0m \u001b[0;34m=\u001b[0m \u001b[0mcommunity\u001b[0m\u001b[0;34m(\u001b[0m\u001b[0mdolphins\u001b[0m\u001b[0;34m.\u001b[0m\u001b[0mgml\u001b[0m\u001b[0;34m,\u001b[0m \u001b[0;34m\"infomap\"\u001b[0m\u001b[0;34m)\u001b[0m\u001b[0;34m\u001b[0m\u001b[0m\n\u001b[0m\u001b[1;32m      2\u001b[0m \u001b[0mlabels_fastgreedy\u001b[0m \u001b[0;34m=\u001b[0m \u001b[0mcommunity\u001b[0m\u001b[0;34m(\u001b[0m\u001b[0mG\u001b[0m\u001b[0;34m,\u001b[0m \u001b[0;34m\"fast_greedy\"\u001b[0m\u001b[0;34m)\u001b[0m\u001b[0;34m\u001b[0m\u001b[0m\n\u001b[1;32m      3\u001b[0m \u001b[0mlabels_edgebetweenness\u001b[0m \u001b[0;34m=\u001b[0m \u001b[0mcommunity\u001b[0m\u001b[0;34m(\u001b[0m\u001b[0mG\u001b[0m\u001b[0;34m,\u001b[0m \u001b[0;34m\"edge_betweenness\"\u001b[0m\u001b[0;34m)\u001b[0m\u001b[0;34m\u001b[0m\u001b[0m\n\u001b[1;32m      4\u001b[0m \u001b[0mlabels_louvain\u001b[0m \u001b[0;34m=\u001b[0m \u001b[0mcommunity\u001b[0m\u001b[0;34m(\u001b[0m\u001b[0mG\u001b[0m\u001b[0;34m,\u001b[0m \u001b[0;34m\"louvain\"\u001b[0m\u001b[0;34m)\u001b[0m\u001b[0;34m\u001b[0m\u001b[0m\n",
      "\u001b[0;31mNameError\u001b[0m: name 'dolphins' is not defined"
     ]
    }
   ],
   "source": [
    "labels_infomap = community(dolphins.gml, \"infomap\")\n",
    "labels_fastgreedy = community(G, \"fast_greedy\")\n",
    "labels_edgebetweenness = community(G, \"edge_betweenness\")\n",
    "labels_louvain = community(G, \"louvain\")"
   ]
  },
  {
   "cell_type": "code",
   "execution_count": null,
   "metadata": {
    "collapsed": true
   },
   "outputs": [],
   "source": []
  }
 ],
 "metadata": {
  "kernelspec": {
   "display_name": "Python 3",
   "language": "python",
   "name": "python3"
  },
  "language_info": {
   "codemirror_mode": {
    "name": "ipython",
    "version": 3
   },
   "file_extension": ".py",
   "mimetype": "text/x-python",
   "name": "python",
   "nbconvert_exporter": "python",
   "pygments_lexer": "ipython3",
   "version": "3.5.2"
  }
 },
 "nbformat": 4,
 "nbformat_minor": 2
}

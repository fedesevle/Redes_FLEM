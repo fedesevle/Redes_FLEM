{
 "cells": [
  {
   "cell_type": "markdown",
   "metadata": {},
   "source": [
    "## Importando los datos"
   ]
  },
  {
   "cell_type": "code",
   "execution_count": 1,
   "metadata": {
    "collapsed": true
   },
   "outputs": [],
   "source": [
    "''' Definimos la funcion para leer el archivo geneX '''\n",
    "import re\n",
    "def ldata(archive):\n",
    "    f=open(archive)\n",
    "    data=[]\n",
    "    for line in f:\n",
    "        line = re.sub('[\"\\n]', '', line)\n",
    "        col=line.split(',')\n",
    "        data.append(col)\n",
    "    return data"
   ]
  },
  {
   "cell_type": "markdown",
   "metadata": {},
   "source": [
    "Al cargar los datos, la variable geneX tendra en su prmer fila (geneX[0]) los datos de los diferenctes momentos a los cuales se tomo la muestra. Luego en la filas subsiguientes (geneX[n]), el primer elemento corresponde al nombre del gen y los demas a los valores de expresion de dicho gen a cada tiempo."
   ]
  },
  {
   "cell_type": "code",
   "execution_count": 10,
   "metadata": {},
   "outputs": [
    {
     "data": {
      "text/plain": [
       "['AT5G67140',\n",
       " '4.58373575111406',\n",
       " '2.94259691514112',\n",
       " '0.827276383658361',\n",
       " '1.24688400499249',\n",
       " '1.17370924706566',\n",
       " '2.75510867263242',\n",
       " '3.83604714379448',\n",
       " '2.912978630411',\n",
       " '1.13706943028142',\n",
       " '1.42537268926943',\n",
       " '1.45907758271385',\n",
       " '2.84357797142346']"
      ]
     },
     "execution_count": 10,
     "metadata": {},
     "output_type": "execute_result"
    }
   ],
   "source": [
    "geneX=ldata('geneX.csv')\n",
    "geneX[500]\n",
    "#len(geneX)"
   ]
  },
  {
   "cell_type": "markdown",
   "metadata": {},
   "source": [
    "Asignamos los nombres a una lista y los valores a una matriz de numpy, donde las filas corresponden a cada gen y las columnas a cada tiempo."
   ]
  },
  {
   "cell_type": "code",
   "execution_count": 23,
   "metadata": {},
   "outputs": [
    {
     "name": "stdout",
     "output_type": "stream",
     "text": [
      "[ 10.31768664   7.65600446   3.39993568   1.3067949    5.35534801\n",
      "   9.00846891   9.88520408   7.18594496   3.05035783   1.70774514\n",
      "   5.1853588    9.02459456]\n"
     ]
    }
   ],
   "source": [
    "import numpy as np\n",
    "valores_genes=np.zeros((500, 12))\n",
    "nombre_genes=[]\n",
    "for j in range(1,501):\n",
    "    nombre_genes.append(geneX[j][0])\n",
    "    for i in range(1,13):\n",
    "        valores_genes[j-1,i-1]=float(geneX[j][i])\n",
    "        \n",
    "#print(nombre_genes)\n",
    "print(valores_genes[0])"
   ]
  },
  {
   "cell_type": "code",
   "execution_count": 54,
   "metadata": {},
   "outputs": [
    {
     "name": "stdout",
     "output_type": "stream",
     "text": [
      "[[ 1.          0.61598957  0.28563361 ...,  0.9435714   0.79372716\n",
      "   0.94432909]\n",
      " [ 0.61598957  1.          0.14070245 ...,  0.5415179   0.34485606\n",
      "   0.69727414]\n",
      " [ 0.28563361  0.14070245  1.         ...,  0.47631711  0.679995\n",
      "   0.34620371]\n",
      " ..., \n",
      " [ 0.9435714   0.5415179   0.47631711 ...,  1.          0.91797449\n",
      "   0.95214951]\n",
      " [ 0.79372716  0.34485606  0.679995   ...,  0.91797449  1.          0.84274472]\n",
      " [ 0.94432909  0.69727414  0.34620371 ...,  0.95214951  0.84274472  1.        ]]\n",
      "[[ 0.  0.  0. ...,  0.  0.  0.]\n",
      " [ 0.  0.  0. ...,  0.  0.  0.]\n",
      " [ 0.  0.  0. ...,  0.  0.  0.]\n",
      " ..., \n",
      " [ 0.  0.  0. ...,  0.  0.  1.]\n",
      " [ 0.  0.  0. ...,  0.  0.  0.]\n",
      " [ 0.  0.  0. ...,  1.  0.  0.]]\n"
     ]
    }
   ],
   "source": [
    "Corr=np.zeros((500, 500))\n",
    "mean_genes=[]\n",
    "for i in range(500):\n",
    "    mean_genes.append(np.mean(valores_genes[i,:]))\n",
    "for i in range(500):\n",
    "    for j in range(500):\n",
    "        Corr[i,j]=np.sum((valores_genes[i,:]-mean_genes[i])*(valores_genes[j,:]-mean_genes[j]))/np.sqrt((np.sum((valores_genes[i,:]-mean_genes[i])**2)*(np.sum((valores_genes[j,:]-mean_genes[j])**2))))\n",
    "#print(Corr)\n",
    "\n",
    "s=(1+Corr)/2\n",
    "print(s)\n",
    "\n",
    "Id=np.identity(500)\n",
    "Ad=s-Id\n",
    "for i in range(500):\n",
    "    for j in range(500):\n",
    "        if Ad[i,j]<0.95:\n",
    "            Ad[i,j]=0\n",
    "        else:\n",
    "            Ad[i,j]=1\n",
    "print(Ad)\n",
    "\n"
   ]
  },
  {
   "cell_type": "code",
   "execution_count": 55,
   "metadata": {},
   "outputs": [
    {
     "data": {
      "image/png": "[encoded data removed]",
      "text/plain": [
       "<matplotlib.figure.Figure at 0x7f91c02483c8>"
      ]
     },
     "metadata": {},
     "output_type": "display_data"
    }
   ],
   "source": [
    "G=nx.from_numpy_matrix(Ad)\n",
    "nx.draw(G, node_size=30)\n",
    "plt.show()"
   ]
  },
  {
   "cell_type": "code",
   "execution_count": 64,
   "metadata": {},
   "outputs": [
    {
     "ename": "AttributeError",
     "evalue": "module 'networkx.algorithms.community' has no attribute 'greedy_modularity_communities'",
     "output_type": "error",
     "traceback": [
      "\u001b[0;31m---------------------------------------------------------------------------\u001b[0m",
      "\u001b[0;31mAttributeError\u001b[0m                            Traceback (most recent call last)",
      "\u001b[0;32m<ipython-input-64-e358c5658fe5>\u001b[0m in \u001b[0;36m<module>\u001b[0;34m()\u001b[0m\n\u001b[1;32m      1\u001b[0m \u001b[0;32mfrom\u001b[0m \u001b[0mnetworkx\u001b[0m\u001b[0;34m.\u001b[0m\u001b[0malgorithms\u001b[0m \u001b[0;32mimport\u001b[0m \u001b[0mcommunity\u001b[0m\u001b[0;34m\u001b[0m\u001b[0m\n\u001b[1;32m      2\u001b[0m \u001b[0;31m#from networkx.algorithms.community import greedy_modularity_communities\u001b[0m\u001b[0;34m\u001b[0m\u001b[0;34m\u001b[0m\u001b[0m\n\u001b[0;32m----> 3\u001b[0;31m \u001b[0mc\u001b[0m \u001b[0;34m=\u001b[0m \u001b[0mlist\u001b[0m\u001b[0;34m(\u001b[0m\u001b[0mnx\u001b[0m\u001b[0;34m.\u001b[0m\u001b[0malgorithms\u001b[0m\u001b[0;34m.\u001b[0m\u001b[0mcommunity\u001b[0m\u001b[0;34m.\u001b[0m\u001b[0mgreedy_modularity_communities\u001b[0m\u001b[0;34m(\u001b[0m\u001b[0mG\u001b[0m\u001b[0;34m)\u001b[0m\u001b[0;34m)\u001b[0m\u001b[0;34m\u001b[0m\u001b[0m\n\u001b[0m",
      "\u001b[0;31mAttributeError\u001b[0m: module 'networkx.algorithms.community' has no attribute 'greedy_modularity_communities'"
     ]
    }
   ],
   "source": [
    "from networkx.algorithms import community\n",
    "#from networkx.algorithms.community import greedy_modularity_communities\n",
    "c = list(nx.algorithms.community.greedy_modularity_communities(G))"
   ]
  },
  {
   "cell_type": "markdown",
   "metadata": {},
   "source": [
    "## Defininendo funciones"
   ]
  },
  {
   "cell_type": "markdown",
   "metadata": {},
   "source": [
    "Definimos funciones para calcular infomap y para calcular la modularidad. Para poder calcular comunidades con el metodo infomap, deberan instalar el paqute de igraph para python. Para hacerlo deben abrir una terminal y escribir 'pip3 install --user python-igraph'."
   ]
  },
  {
   "cell_type": "code",
   "execution_count": 15,
   "metadata": {},
   "outputs": [],
   "source": [
    "#import igraph as igraph\n",
    "import networkx as nx\n",
    "import time\n",
    "\n",
    "# def calculate_infomap(np_adj_list, method=\"infomap\"):\n",
    "#     g = igraph.Graph.Weighted_Adjacency(np_adj_list.tolist(),mode=igraph.ADJ_UPPER)\n",
    "   \n",
    "#     t0=time.time()\n",
    "#     if method==\"infomap\":\n",
    "#         labels = g.community_infomap(edge_weights=\"weight\").membership\n",
    "# #    labels = g.community_label_propagation(weights=\"weight\").membership\n",
    "#     if method==\"fastgreedy\":\n",
    "#         labels = g.community_fastgreedy(edge_weights=\"weight\").membership\n",
    "   \n",
    "#     print(\"Duración: {}s\".format(time.time()-t0))\n",
    "           \n",
    "#     return labels\n",
    "\n",
    "from __future__ import division\n",
    "\n",
    "from functools import wraps\n",
    "from itertools import product\n",
    "\n",
    "import networkx as nx\n",
    "from networkx import NetworkXError\n",
    "from networkx.utils import not_implemented_for\n",
    "from networkx.algorithms.community.community_utils import is_partition\n",
    "\n",
    "__all__ = ['coverage', 'modularity', 'performance']\n",
    "\n",
    "\n",
    "class NotAPartition(NetworkXError):\n",
    "    \"\"\"Raised if a given collection is not a partition.\n",
    "\n",
    "    \"\"\"\n",
    "\n",
    "    def __init__(self, G, collection):\n",
    "        msg = '{} is not a valid partition of the graph {}'\n",
    "        msg = msg.format(G, collection)\n",
    "        super(NotAPartition, self).__init__(msg)\n",
    "\n",
    "\n",
    "def modularity(G, communities, weight='weight'):\n",
    "    r\"\"\"Returns the modularity of the given partition of the graph.\n",
    "\n",
    "    Modularity is defined in [1]_ as\n",
    "\n",
    "    .. math::\n",
    "\n",
    "        Q = \\frac{1}{2m} \\sum_{ij} \\left( A_{ij} - \\frac{k_ik_j}{2m}\\right)\n",
    "            \\delta(c_i,c_j)\n",
    "\n",
    "    where $m$ is the number of edges, $A$ is the adjacency matrix of\n",
    "    `G`, $k_i$ is the degree of $i$ and $\\delta(c_i, c_j)$\n",
    "    is 1 if $i$ and $j$ are in the same community and 0 otherwise.\n",
    "\n",
    "    Parameters\n",
    "    ----------\n",
    "    G : NetworkX Graph\n",
    "\n",
    "    communities : list\n",
    "        List of sets of nodes of `G` representing a partition of the\n",
    "        nodes.\n",
    "\n",
    "    Returns\n",
    "    -------\n",
    "    Q : float\n",
    "        The modularity of the paritition.\n",
    "\n",
    "    Raises\n",
    "    ------\n",
    "    NotAPartition\n",
    "        If `communities` is not a partition of the nodes of `G`.\n",
    "\n",
    "    Examples\n",
    "    --------\n",
    "    >>> G = nx.barbell_graph(3, 0)\n",
    "    >>> nx.algorithms.community.modularity(G, [{0, 1, 2}, {3, 4, 5}])\n",
    "    0.35714285714285704\n",
    "\n",
    "    References\n",
    "    ----------\n",
    "    .. [1] M. E. J. Newman *Networks: An Introduction*, page 224.\n",
    "       Oxford University Press, 2011.\n",
    "\n",
    "    \"\"\"\n",
    "    if not is_partition(G, communities):\n",
    "        raise NotAPartition(G, communities)\n",
    "\n",
    "    multigraph = G.is_multigraph()\n",
    "    directed = G.is_directed()\n",
    "    m = G.size(weight=weight)\n",
    "    if directed:\n",
    "        out_degree = dict(G.out_degree(weight=weight))\n",
    "        in_degree = dict(G.in_degree(weight=weight))\n",
    "        norm = 1 / m\n",
    "    else:\n",
    "        out_degree = dict(G.degree(weight=weight))\n",
    "        in_degree = out_degree\n",
    "        norm = 1 / (2 * m)\n",
    "\n",
    "    def val(u, v):\n",
    "        try:\n",
    "            if multigraph:\n",
    "                w = sum(d.get(weight, 1) for k, d in G[u][v].items())\n",
    "            else:\n",
    "                w = G[u][v].get(weight, 1)\n",
    "        except KeyError:\n",
    "            w = 0\n",
    "        # Double count self-loops if the graph is undirected.\n",
    "        if u == v and not directed:\n",
    "            w *= 2\n",
    "        return w - in_degree[u] * out_degree[v] * norm\n",
    "\n",
    "    Q = sum(val(u, v) for c in communities for u, v in product(c, repeat=2))\n",
    "    return Q * norm\n",
    "\n"
   ]
  },
  {
   "cell_type": "markdown",
   "metadata": {},
   "source": [
    "Probamos la funcion modularity"
   ]
  },
  {
   "cell_type": "code",
   "execution_count": 16,
   "metadata": {},
   "outputs": [
    {
     "data": {
      "image/png": "[encoded data removed]",
      "text/plain": [
       "<matplotlib.figure.Figure at 0x7f91c50fe5c0>"
      ]
     },
     "metadata": {},
     "output_type": "display_data"
    }
   ],
   "source": [
    "import matplotlib.pyplot as plt\n",
    "G = nx.balanced_tree(h=2,r=2)\n",
    "nx.draw(G,with_labels=True)\n",
    "plt.show()"
   ]
  },
  {
   "cell_type": "code",
   "execution_count": 17,
   "metadata": {},
   "outputs": [
    {
     "data": {
      "text/plain": [
       "0.3194444444444444"
      ]
     },
     "execution_count": 17,
     "metadata": {},
     "output_type": "execute_result"
    }
   ],
   "source": [
    "modularity(G,[[0,1,3,4],[5,2,6]])"
   ]
  },
  {
   "cell_type": "code",
   "execution_count": null,
   "metadata": {
    "collapsed": true
   },
   "outputs": [],
   "source": []
  },
  {
   "cell_type": "code",
   "execution_count": 18,
   "metadata": {},
   "outputs": [
    {
     "data": {
      "text/plain": [
       "-0.4999999999999996"
      ]
     },
     "execution_count": 18,
     "metadata": {},
     "output_type": "execute_result"
    }
   ],
   "source": [
    "modularity(G,[[1,2],[0,4,5,6,3]])"
   ]
  },
  {
   "cell_type": "code",
   "execution_count": 19,
   "metadata": {},
   "outputs": [
    {
     "ename": "NameError",
     "evalue": "name 'igraph' is not defined",
     "output_type": "error",
     "traceback": [
      "\u001b[0;31m---------------------------------------------------------------------------\u001b[0m",
      "\u001b[0;31mNameError\u001b[0m                                 Traceback (most recent call last)",
      "\u001b[0;32m<ipython-input-19-1a44ab1f6492>\u001b[0m in \u001b[0;36m<module>\u001b[0;34m()\u001b[0m\n\u001b[1;32m      1\u001b[0m \u001b[0medges\u001b[0m\u001b[0;34m=\u001b[0m\u001b[0mnp\u001b[0m\u001b[0;34m.\u001b[0m\u001b[0masarray\u001b[0m\u001b[0;34m(\u001b[0m\u001b[0;34m[\u001b[0m\u001b[0;34m[\u001b[0m\u001b[0;36m0\u001b[0m\u001b[0;34m,\u001b[0m\u001b[0;36m1\u001b[0m\u001b[0;34m,\u001b[0m\u001b[0;36m0\u001b[0m\u001b[0;34m,\u001b[0m\u001b[0;36m0\u001b[0m\u001b[0;34m]\u001b[0m\u001b[0;34m,\u001b[0m\u001b[0;34m[\u001b[0m\u001b[0;36m1\u001b[0m\u001b[0;34m,\u001b[0m\u001b[0;36m1\u001b[0m\u001b[0;34m,\u001b[0m\u001b[0;36m1\u001b[0m\u001b[0;34m,\u001b[0m\u001b[0;36m1\u001b[0m\u001b[0;34m]\u001b[0m\u001b[0;34m,\u001b[0m\u001b[0;34m[\u001b[0m\u001b[0;36m0\u001b[0m\u001b[0;34m,\u001b[0m\u001b[0;36m1\u001b[0m\u001b[0;34m,\u001b[0m\u001b[0;36m0\u001b[0m\u001b[0;34m,\u001b[0m\u001b[0;36m1\u001b[0m\u001b[0;34m]\u001b[0m\u001b[0;34m,\u001b[0m\u001b[0;34m[\u001b[0m\u001b[0;36m1\u001b[0m\u001b[0;34m,\u001b[0m\u001b[0;36m1\u001b[0m\u001b[0;34m,\u001b[0m\u001b[0;36m0\u001b[0m\u001b[0;34m,\u001b[0m\u001b[0;36m0\u001b[0m\u001b[0;34m]\u001b[0m\u001b[0;34m]\u001b[0m\u001b[0;34m)\u001b[0m \u001b[0;31m# Matriz de adyacencia\u001b[0m\u001b[0;34m\u001b[0m\u001b[0m\n\u001b[0;32m----> 2\u001b[0;31m \u001b[0mcalculate_infomap\u001b[0m\u001b[0;34m(\u001b[0m\u001b[0medges\u001b[0m\u001b[0;34m)\u001b[0m\u001b[0;34m\u001b[0m\u001b[0m\n\u001b[0m",
      "\u001b[0;32m<ipython-input-12-519b2bed8a75>\u001b[0m in \u001b[0;36mcalculate_infomap\u001b[0;34m(np_adj_list, method)\u001b[0m\n\u001b[1;32m      4\u001b[0m \u001b[0;34m\u001b[0m\u001b[0m\n\u001b[1;32m      5\u001b[0m \u001b[0;32mdef\u001b[0m \u001b[0mcalculate_infomap\u001b[0m\u001b[0;34m(\u001b[0m\u001b[0mnp_adj_list\u001b[0m\u001b[0;34m,\u001b[0m \u001b[0mmethod\u001b[0m\u001b[0;34m=\u001b[0m\u001b[0;34m\"infomap\"\u001b[0m\u001b[0;34m)\u001b[0m\u001b[0;34m:\u001b[0m\u001b[0;34m\u001b[0m\u001b[0m\n\u001b[0;32m----> 6\u001b[0;31m     \u001b[0mg\u001b[0m \u001b[0;34m=\u001b[0m \u001b[0migraph\u001b[0m\u001b[0;34m.\u001b[0m\u001b[0mGraph\u001b[0m\u001b[0;34m.\u001b[0m\u001b[0mWeighted_Adjacency\u001b[0m\u001b[0;34m(\u001b[0m\u001b[0mnp_adj_list\u001b[0m\u001b[0;34m.\u001b[0m\u001b[0mtolist\u001b[0m\u001b[0;34m(\u001b[0m\u001b[0;34m)\u001b[0m\u001b[0;34m,\u001b[0m\u001b[0mmode\u001b[0m\u001b[0;34m=\u001b[0m\u001b[0migraph\u001b[0m\u001b[0;34m.\u001b[0m\u001b[0mADJ_UPPER\u001b[0m\u001b[0;34m)\u001b[0m\u001b[0;34m\u001b[0m\u001b[0m\n\u001b[0m\u001b[1;32m      7\u001b[0m \u001b[0;34m\u001b[0m\u001b[0m\n\u001b[1;32m      8\u001b[0m     \u001b[0mt0\u001b[0m\u001b[0;34m=\u001b[0m\u001b[0mtime\u001b[0m\u001b[0;34m.\u001b[0m\u001b[0mtime\u001b[0m\u001b[0;34m(\u001b[0m\u001b[0;34m)\u001b[0m\u001b[0;34m\u001b[0m\u001b[0m\n",
      "\u001b[0;31mNameError\u001b[0m: name 'igraph' is not defined"
     ]
    }
   ],
   "source": [
    "edges=np.asarray([[0,1,0,0],[1,1,1,1],[0,1,0,1],[1,1,0,0]]) # Matriz de adyacencia\n",
    "calculate_infomap(edges)"
   ]
  },
  {
   "cell_type": "markdown",
   "metadata": {},
   "source": [
    "Algunos paquetes que les pueden serivr para hacer el dendograma: https://docs.scipy.org/doc/scipy-0.14.0/reference/generated/scipy.cluster.hierarchy.dendrogram.html"
   ]
  },
  {
   "cell_type": "code",
   "execution_count": null,
   "metadata": {
    "collapsed": true
   },
   "outputs": [],
   "source": [
    "# For dendogram\n",
    "from scipy.cluster.hierarchy import dendrogram\n",
    "from scipy.cluster.hierarchy import linkage\n",
    "from scipy.cluster.hierarchy import cophenet\n",
    "from scipy.spatial.distance import pdist"
   ]
  },
  {
   "cell_type": "code",
   "execution_count": null,
   "metadata": {
    "collapsed": true
   },
   "outputs": [],
   "source": [
    "#matriz de correlacion\n"
   ]
  }
 ],
 "metadata": {
  "kernelspec": {
   "display_name": "Python 3",
   "language": "python",
   "name": "python3"
  },
  "language_info": {
   "codemirror_mode": {
    "name": "ipython",
    "version": 3
   },
   "file_extension": ".py",
   "mimetype": "text/x-python",
   "name": "python",
   "nbconvert_exporter": "python",
   "pygments_lexer": "ipython3",
   "version": "3.5.2"
  }
 },
 "nbformat": 4,
 "nbformat_minor": 2
}

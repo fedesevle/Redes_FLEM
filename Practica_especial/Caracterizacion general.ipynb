{
 "cells": [
  {
   "cell_type": "markdown",
   "metadata": {},
   "source": [
    "### Caracterización general de la red\n",
    "\n",
    "1. Cantidad promedio de referencias por paper\n",
    "2. Cantidad de papers con \"n\" referencias\n",
    "3. Número medio de veces que un paper es citado\n",
    "4. Distribución de referencias por paper\n",
    "5. Distribución de grado de los papers\n",
    "6. Número de papers en función del tiempo\n",
    "7. Distribución de frecuencias de los campos temáticos"
   ]
  },
  {
   "cell_type": "markdown",
   "metadata": {},
   "source": [
    "#### Apertura de un archivo concreto\n",
    "\n",
    "Acá abrimos el archivo para hacer la caracterización de los papers."
   ]
  },
  {
   "cell_type": "code",
   "execution_count": 2,
   "metadata": {},
   "outputs": [],
   "source": [
    "import numpy as np\n",
    "import ast\n",
    "import networkx as nx\n",
    "import matplotlib.pyplot as plt\n",
    "from collections import Counter\n",
    "import matplotlib.cm as cmx\n",
    "# For color mapping\n",
    "import matplotlib.colors as colors\n",
    "\n",
    "path=\"D:\\\\Para procesar\\\\Académica\\\\Ciencias Físicas\\\\Doctorado\\\\Materias\\\\Redes complejas\\\\Trabajos_prácticos\\\\Practica_computacional\\\\\"\n",
    "version=1"
   ]
  },
  {
   "cell_type": "code",
   "execution_count": 9,
   "metadata": {},
   "outputs": [
    {
     "name": "stdout",
     "output_type": "stream",
     "text": [
      "166\n"
     ]
    }
   ],
   "source": [
    "paper_conjuntos = []\n",
    "\n",
    "#Saca el campo del diccionario\n",
    "def sacarcampo(paper,key):\n",
    "    if key in paper:\n",
    "        del paper[key]\n",
    "\n",
    "#Filtra papers, saca campos innecesarios y guarda en archivo \"papers_filtro_n.txt\"\n",
    "def abrir_papers(R_n,paper_conjuntos):\n",
    "    paper_conjuntos = []\n",
    "    \n",
    "    R = open(path+'\\mag_papers_'+R_n+'.txt', 'r') \n",
    "    N = 1000000\n",
    "    i = 0\n",
    "    for line in R:\n",
    "        paper=ast.literal_eval(line)\n",
    "        try:\n",
    "            paper['doc_type']\n",
    "            #paper['fos']\n",
    "            #paper['keywords']\n",
    "            paper['references']\n",
    "            #paper['venue']\n",
    "            if paper['doc_type']=='Journal' and paper['lang']=='en':\n",
    "                paper_conjuntos.append(paper)\n",
    "        except KeyError:\n",
    "            pass\n",
    "        i+=1\n",
    "        if i==N:\n",
    "            break\n",
    "    R.close()\n",
    "\n",
    "    return(paper_conjuntos)\n",
    "\n",
    "#Crea lista de papers filtrados y diccionario de papers citados y su frecuencia\n",
    "def contador(ides_in,ides_out,paper_conjuntos):\n",
    "    for line in range(len(paper_conjuntos)):\n",
    "        ides_out.append(paper_conjuntos[line]['id'])\n",
    "        a=paper_conjuntos[line]['references']\n",
    "        for tag in range(len(a)):\n",
    "            try:\n",
    "                b=ides_in[a[tag]]\n",
    "                b+=1\n",
    "                ides_in.update({a[tag]:b})\n",
    "            except:\n",
    "                ides_in[a[tag]]=1\n",
    "    return(ides_in)\n",
    "\n",
    "#Crea el archivo de papers filtrados, la lista y el diccionario de frecuencias de citas\n",
    "def agregar_contar(ides_in,ides_out,R_n,paper_conjuntos):\n",
    "    paper_conjuntos=abrir_papers(R_n,paper_conjuntos)\n",
    "    ides_in=contador(ides_in,ides_out,paper_conjuntos)\n",
    "    return(ides_in,ides_out)\n",
    "    \n",
    "ides_out=[]\n",
    "ides_in={}\n",
    "for i in range(166,167):\n",
    "    paper_conjuntos=abrir_papers(str(i),paper_conjuntos)\n",
    "    print(i)"
   ]
  },
  {
   "cell_type": "markdown",
   "metadata": {},
   "source": [
    "#### Número medio de referencias por paper"
   ]
  },
  {
   "cell_type": "code",
   "execution_count": 18,
   "metadata": {},
   "outputs": [],
   "source": [
    "def numero_medio_referencias(lista_papers):\n",
    "    numero_referencias = []\n",
    "    \n",
    "    for i in range(len(lista_papers)):\n",
    "        numero_referencias.append(len(lista_papers[i]['references']))\n",
    "    \n",
    "    return np.mean(np.array(numero_referencias))"
   ]
  },
  {
   "cell_type": "code",
   "execution_count": 21,
   "metadata": {},
   "outputs": [
    {
     "name": "stdout",
     "output_type": "stream",
     "text": [
      "# medio de referencias - 25.037186031574322\n"
     ]
    }
   ],
   "source": [
    "referencias = numero_medio_referencias(paper_conjuntos)\n",
    "print('# medio de referencias - '+str(referencias))"
   ]
  },
  {
   "cell_type": "markdown",
   "metadata": {},
   "source": [
    "#### Número de papers con n referencias"
   ]
  },
  {
   "cell_type": "code",
   "execution_count": 23,
   "metadata": {},
   "outputs": [],
   "source": [
    "def frequency(Lista):\n",
    "    grupo={}\n",
    "    for line in range(len(Lista)):\n",
    "        try:\n",
    "            b=grupo[Lista[line]]\n",
    "            b+=1\n",
    "            grupo.update({Lista[line]:b})\n",
    "        except:\n",
    "            grupo[Lista[line]]=1\n",
    "    return(grupo)"
   ]
  },
  {
   "cell_type": "code",
   "execution_count": 24,
   "metadata": {},
   "outputs": [],
   "source": [
    "def numero_papers_n_referencias(lista_papers):\n",
    "    numero_referencias = []\n",
    "    \n",
    "    for i in range(len(lista_papers)):\n",
    "        numero_referencias.append(len(lista_papers[i]['references']))\n",
    "    \n",
    "    numero_referencias.sort()\n",
    "    grupo = frequency(numero_referencias)\n",
    "    numero_refe = list(grupo.keys())\n",
    "    numero_papers = list(grupo.values())\n",
    "    return numero_refe, numero_papers"
   ]
  },
  {
   "cell_type": "code",
   "execution_count": 29,
   "metadata": {},
   "outputs": [
    {
     "data": {
      "text/plain": [
       "<function matplotlib.pyplot.show(*args, **kw)>"
      ]
     },
     "execution_count": 29,
     "metadata": {},
     "output_type": "execute_result"
    },
    {
     "data": {
      "image/png": "[encoded data removed]",
      "text/plain": [
       "<Figure size 432x288 with 1 Axes>"
      ]
     },
     "metadata": {},
     "output_type": "display_data"
    }
   ],
   "source": [
    "ref,freq=numero_papers_n_referencias(paper_conjuntos)\n",
    "plt.loglog(ref,freq,'.')\n",
    "plt.show"
   ]
  },
  {
   "cell_type": "code",
   "execution_count": null,
   "metadata": {},
   "outputs": [],
   "source": []
  },
  {
   "cell_type": "code",
   "execution_count": 30,
   "metadata": {},
   "outputs": [
    {
     "ename": "NameError",
     "evalue": "name 'G' is not defined",
     "output_type": "error",
     "traceback": [
      "\u001b[1;31m---------------------------------------------------------------------------\u001b[0m",
      "\u001b[1;31mNameError\u001b[0m                                 Traceback (most recent call last)",
      "\u001b[1;32m<ipython-input-30-f6298b679930>\u001b[0m in \u001b[0;36m<module>\u001b[1;34m()\u001b[0m\n\u001b[0;32m      1\u001b[0m \u001b[1;31m# Distribución de grado\u001b[0m\u001b[1;33m\u001b[0m\u001b[1;33m\u001b[0m\u001b[0m\n\u001b[0;32m      2\u001b[0m \u001b[0mplt\u001b[0m\u001b[1;33m.\u001b[0m\u001b[0msubplot\u001b[0m\u001b[1;33m(\u001b[0m\u001b[1;36m311\u001b[0m\u001b[1;33m)\u001b[0m\u001b[1;33m\u001b[0m\u001b[0m\n\u001b[1;32m----> 3\u001b[1;33m \u001b[0mgrados_G\u001b[0m \u001b[1;33m=\u001b[0m \u001b[1;33m[\u001b[0m\u001b[0mgra\u001b[0m \u001b[1;32mfor\u001b[0m \u001b[0mn\u001b[0m\u001b[1;33m,\u001b[0m\u001b[0mgra\u001b[0m \u001b[1;32min\u001b[0m \u001b[0mG\u001b[0m\u001b[1;33m.\u001b[0m\u001b[0mdegree\u001b[0m\u001b[1;33m(\u001b[0m\u001b[1;33m)\u001b[0m\u001b[1;33m]\u001b[0m\u001b[1;33m\u001b[0m\u001b[0m\n\u001b[0m\u001b[0;32m      4\u001b[0m \u001b[0mDatos\u001b[0m \u001b[1;33m=\u001b[0m \u001b[0mnp\u001b[0m\u001b[1;33m.\u001b[0m\u001b[0masarray\u001b[0m\u001b[1;33m(\u001b[0m\u001b[0mgrados_G\u001b[0m\u001b[1;33m)\u001b[0m\u001b[1;33m\u001b[0m\u001b[0m\n\u001b[0;32m      5\u001b[0m \u001b[0mb\u001b[0m\u001b[1;33m=\u001b[0m\u001b[0mnp\u001b[0m\u001b[1;33m.\u001b[0m\u001b[0mlogspace\u001b[0m\u001b[1;33m(\u001b[0m\u001b[1;36m0\u001b[0m\u001b[1;33m,\u001b[0m\u001b[1;36m3\u001b[0m\u001b[1;33m,\u001b[0m\u001b[1;36m50\u001b[0m\u001b[1;33m)\u001b[0m\u001b[1;33m\u001b[0m\u001b[0m\n",
      "\u001b[1;31mNameError\u001b[0m: name 'G' is not defined"
     ]
    },
    {
     "data": {
      "image/png": "[encoded data removed]",
      "text/plain": [
       "<Figure size 432x288 with 1 Axes>"
      ]
     },
     "metadata": {},
     "output_type": "display_data"
    }
   ],
   "source": [
    "# Distribución de grado\n",
    "plt.subplot(311)\n",
    "grados_G = [gra for n,gra in G.degree()]\n",
    "Datos = np.asarray(grados_G)\n",
    "b=np.logspace(0,3,50)\n",
    "plt.hist(Datos, bins=b, log=True) \n",
    "plt.xscale('log')\n",
    "plt.xlabel('k')\n",
    "#plt.yscale('log')\n",
    "plt.show()\n",
    "plt.subplot(312)\n",
    "# Distribución de grado IN\n",
    "grados_G = [gra for n,gra in G.in_degree()] \n",
    "Datos = np.asarray(grados_G)\n",
    "b=np.logspace(0,3,50)\n",
    "plt.hist(Datos, bins=b, log=True) \n",
    "plt.xscale('log')\n",
    "plt.xlabel('k_IN')\n",
    "#plt.yscale('log')\n",
    "plt.show()\n",
    "plt.subplot(313)\n",
    "# Distribución de grado OUT\n",
    "grados_G = [gra for n,gra in G.out_degree()]\n",
    "Datos = np.asarray(grados_G)\n",
    "b=np.logspace(0,3,50)\n",
    "plt.hist(Datos, bins=b, log=True) \n",
    "plt.xscale('log')\n",
    "plt.xlabel('k_OUT')\n",
    "#plt.yscale('log')\n",
    "plt.show()"
   ]
  },
  {
   "cell_type": "code",
   "execution_count": 31,
   "metadata": {},
   "outputs": [
    {
     "data": {
      "text/plain": [
       "29581"
      ]
     },
     "execution_count": 31,
     "metadata": {},
     "output_type": "execute_result"
    }
   ],
   "source": [
    "len(paper_conjuntos)"
   ]
  },
  {
   "cell_type": "code",
   "execution_count": null,
   "metadata": {},
   "outputs": [],
   "source": [
    "def referencias_por_anio(lista_papers):\n",
    "    for i in range(len(lista_papers)):\n",
    "        for year in lista_papers[i]['year']:"
   ]
  }
 ],
 "metadata": {
  "kernelspec": {
   "display_name": "Python 3",
   "language": "python",
   "name": "python3"
  },
  "language_info": {
   "codemirror_mode": {
    "name": "ipython",
    "version": 3
   },
   "file_extension": ".py",
   "mimetype": "text/x-python",
   "name": "python",
   "nbconvert_exporter": "python",
   "pygments_lexer": "ipython3",
   "version": "3.6.5"
  }
 },
 "nbformat": 4,
 "nbformat_minor": 2
}

{
 "cells": [
  {
   "cell_type": "code",
   "execution_count": 1,
   "metadata": {
    "collapsed": true
   },
   "outputs": [],
   "source": [
    "import numpy as np\n",
    "import ast\n",
    "import networkx as nx\n",
    "import matplotlib.pyplot as plt"
   ]
  },
  {
   "cell_type": "code",
   "execution_count": null,
   "metadata": {},
   "outputs": [],
   "source": [
    "#R = open('D:\\Para procesar\\Académica\\Ciencias Físicas\\Doctorado\\Materias\\Redes complejas\\Trabajos_prácticos\\Practica_computacional\\mag_papers_166.txt', 'r') \n",
    "version=13\n",
    "paper_conjuntos = []\n",
    "\n",
    "#Saca el campo del diccionario\n",
    "def sacarcampo(paper,key):\n",
    "    if key in paper:\n",
    "        del paper[key]\n",
    "\n",
    "#Filtra papers, saca campos innecesarios y guarda en archivo \"papers_filtro_n.txt\"\n",
    "def agregarpaper(R_n,paper_conjuntos,version):\n",
    "    paper_conjuntos = []\n",
    "    archivo_guardar = open('C:\\\\Users\\\\Usuario\\\\Documents\\\\GitHub\\\\Red\\\\papers_filtro_'+str(version)+'.txt','a',encoding='utf-8') \n",
    "    R = open('C:\\\\Users\\\\Usuario\\\\Documents\\\\GitHub\\\\Red\\\\mag_papers_'+R_n+'.txt', 'r') \n",
    "    N = 999999\n",
    "    i = 0\n",
    "    for line in R:\n",
    "        paper=ast.literal_eval(line)\n",
    "        try:\n",
    "            paper['doc_type']\n",
    "            paper['fos']\n",
    "            paper['keywords']\n",
    "            paper['references']\n",
    "            paper['venue']\n",
    "            if paper['doc_type']=='Journal' and paper['lang']=='en':\n",
    "                paper_conjuntos.append(paper)\n",
    "                key='abstract';sacarcampo(paper,key)\n",
    "                key='url';sacarcampo(paper,key)\n",
    "                key='lang';sacarcampo(paper,key)\n",
    "                key='page_start';sacarcampo(paper,key)\n",
    "                key='page_end';sacarcampo(paper,key)\n",
    "                key='doc_type';sacarcampo(paper,key)\n",
    "                key='pdf';sacarcampo(paper,key)\n",
    "                archivo_guardar.write(str(paper)+'\\n')\n",
    "        except KeyError:\n",
    "            pass\n",
    "        i+=1\n",
    "        if i==N:\n",
    "            break\n",
    "    R.close()\n",
    "    archivo_guardar.close()\n",
    "    return(paper_conjuntos)\n",
    "\n",
    "#Crea lista de papers filtrados y diccionario de papers citados y su frecuencia\n",
    "def contador(ides_in,ides_out,paper_conjuntos):\n",
    "    for line in range(len(paper_conjuntos)):\n",
    "        ides_out.append(paper_conjuntos[line]['id'])\n",
    "        a=paper_conjuntos[line]['references']\n",
    "        for tag in range(len(a)):\n",
    "            try:\n",
    "                b=ides_in[a[tag]]\n",
    "                b+=1\n",
    "                ides_in.update({a[tag]:b})\n",
    "            except:\n",
    "                ides_in[a[tag]]=1\n",
    "    return(ides_in)\n",
    "\n",
    "#Crea el archivo de papers filtrados, la lista y el diccionario de frecuencias de citas\n",
    "def agregar_contar(ides_in,ides_out,R_n,paper_conjuntos):\n",
    "    paper_conjuntos=agregarpaper(R_n,paper_conjuntos)\n",
    "    ides_in=contador(ides_in,ides_out,paper_conjuntos)\n",
    "    return(ides_in,ides_out)\n",
    "    \n",
    "ides_out=[]\n",
    "ides_in={}\n",
    "for i in range(5):\n",
    "    ides_in,ides_out=agregar_contar(ides_in,ides_out,str(i),[])\n",
    "    print(i)"
   ]
  },
  {
   "cell_type": "code",
   "execution_count": null,
   "metadata": {},
   "outputs": [],
   "source": [
    "interseccion=(set(ides_out).intersection(list(ides_in.keys())))\n",
    "print(len(interseccion))\n",
    "interseccion_archivo = open('C:\\\\Users\\\\Usuario\\\\Documents\\\\GitHub\\\\Red\\\\papers_filtro_12.txt','a',encoding='utf-8') \n",
    "for i in interseccion:\n",
    "    interseccion_archivo.write(i+'\\n')\n",
    "interseccion_archivo.close()"
   ]
  },
  {
   "cell_type": "code",
   "execution_count": 16,
   "metadata": {},
   "outputs": [
    {
     "ename": "UnicodeEncodeError",
     "evalue": "'utf-8' codec can't encode characters in position 183-184: surrogates not allowed",
     "output_type": "error",
     "traceback": [
      "\u001b[0;31m---------------------------------------------------------------------------\u001b[0m",
      "\u001b[0;31mUnicodeEncodeError\u001b[0m                        Traceback (most recent call last)",
      "\u001b[0;32m<ipython-input-16-8d9c7db1ddeb>\u001b[0m in \u001b[0;36m<module>\u001b[0;34m()\u001b[0m\n\u001b[1;32m     44\u001b[0m \u001b[1;33m\u001b[0m\u001b[0m\n\u001b[1;32m     45\u001b[0m \u001b[0mG\u001b[0m\u001b[1;33m=\u001b[0m\u001b[0mnx\u001b[0m\u001b[1;33m.\u001b[0m\u001b[0mDiGraph\u001b[0m\u001b[1;33m(\u001b[0m\u001b[1;33m)\u001b[0m\u001b[1;33m\u001b[0m\u001b[0m\n\u001b[0;32m---> 46\u001b[0;31m \u001b[0mG\u001b[0m\u001b[1;33m=\u001b[0m\u001b[0mfiltrar_paper\u001b[0m\u001b[1;33m(\u001b[0m\u001b[0mG\u001b[0m\u001b[1;33m,\u001b[0m\u001b[0minterseccion\u001b[0m\u001b[1;33m)\u001b[0m\u001b[1;33m\u001b[0m\u001b[0m\n\u001b[0m",
      "\u001b[0;32m<ipython-input-16-8d9c7db1ddeb>\u001b[0m in \u001b[0;36mfiltrar_paper\u001b[0;34m(G, interseccion)\u001b[0m\n\u001b[1;32m     25\u001b[0m                 \u001b[1;32mpass\u001b[0m\u001b[1;33m\u001b[0m\u001b[0m\n\u001b[1;32m     26\u001b[0m             \u001b[1;32mtry\u001b[0m\u001b[1;33m:\u001b[0m\u001b[1;33m\u001b[0m\u001b[0m\n\u001b[0;32m---> 27\u001b[0;31m                 \u001b[0marchivo_org\u001b[0m\u001b[1;33m.\u001b[0m\u001b[0mwrite\u001b[0m\u001b[1;33m(\u001b[0m\u001b[0mpaper\u001b[0m\u001b[1;33m[\u001b[0m\u001b[1;34m'id'\u001b[0m\u001b[1;33m]\u001b[0m\u001b[1;33m+\u001b[0m\u001b[1;34m' '\u001b[0m\u001b[1;33m+\u001b[0m\u001b[0mpaper\u001b[0m\u001b[1;33m[\u001b[0m\u001b[1;34m'authors'\u001b[0m\u001b[1;33m]\u001b[0m\u001b[1;33m[\u001b[0m\u001b[1;36m0\u001b[0m\u001b[1;33m]\u001b[0m\u001b[1;33m[\u001b[0m\u001b[1;34m'org'\u001b[0m\u001b[1;33m]\u001b[0m\u001b[1;33m+\u001b[0m\u001b[1;34m'\\n'\u001b[0m\u001b[1;33m)\u001b[0m\u001b[1;33m\u001b[0m\u001b[0m\n\u001b[0m\u001b[1;32m     28\u001b[0m             \u001b[1;32mexcept\u001b[0m \u001b[0mKeyError\u001b[0m\u001b[1;33m:\u001b[0m\u001b[1;33m\u001b[0m\u001b[0m\n\u001b[1;32m     29\u001b[0m                 \u001b[1;32mpass\u001b[0m\u001b[1;33m\u001b[0m\u001b[0m\n",
      "\u001b[0;31mUnicodeEncodeError\u001b[0m: 'utf-8' codec can't encode characters in position 183-184: surrogates not allowed"
     ]
    }
   ],
   "source": [
    "def filtrar_paper(G,interseccion):\n",
    "    paper_conjuntos = []\n",
    "    version=str(12)\n",
    "    R = open('C:\\\\Users\\\\Usuario\\\\Documents\\\\GitHub\\\\Red\\\\papers_filtro_12.txt','r',encoding='utf-8') \n",
    "    archivo_red = open('C:\\\\Users\\\\Usuario\\\\Documents\\\\GitHub\\\\Red\\\\archivo_red'+version+'.txt','a',encoding='utf-8')\n",
    "    archivo_year = open('C:\\\\Users\\\\Usuario\\\\Documents\\\\GitHub\\\\Red\\\\archivo_year'+version+'.txt','a',encoding='utf-8')\n",
    "    archivo_venue = open('C:\\\\Users\\\\Usuario\\\\Documents\\\\GitHub\\\\Red\\\\archivo_venue'+version+'.txt','a',encoding='utf-8')\n",
    "    archivo_fos = open('C:\\\\Users\\\\Usuario\\\\Documents\\\\GitHub\\\\Red\\\\archivo_fos'+version+'.txt','a',encoding='utf-8')\n",
    "    archivo_keywords = open('C:\\\\Users\\\\Usuario\\\\Documents\\\\GitHub\\\\Red\\\\archivo_keywords'+version+'.txt','a',encoding='utf-8')\n",
    "    archivo_name = open('C:\\\\Users\\\\Usuario\\\\Documents\\\\GitHub\\\\Red\\\\archivo_name'+version+'.txt','a',encoding='utf-8')\n",
    "    archivo_org = open('C:\\\\Users\\\\Usuario\\\\Documents\\\\GitHub\\\\Red\\\\archivo_org'+version+'.txt','a',encoding='utf-8')\n",
    "    for line in R:\n",
    "        paper=ast.literal_eval(line)\n",
    "        if paper['id'] in interseccion:\n",
    "            archivo_year.write(paper['id']+' '+str(paper['year'])+'\\n')\n",
    "            archivo_fos.write(paper['id']+' '+str(paper['fos'])+'\\n')\n",
    "            archivo_venue.write(paper['id']+' '+str(paper['venue'])+'\\n')\n",
    "            try:\n",
    "                archivo_keywords.write(paper['id']+' '+str(paper['keywords'])+'\\n')\n",
    "            except KeyError:\n",
    "                pass\n",
    "            try:\n",
    "                archivo_name.write(paper['id']+' '+paper['authors'][0]['name']+'\\n')\n",
    "            except KeyError:\n",
    "                pass\n",
    "            try:\n",
    "                archivo_org.write(paper['id']+' '+paper['authors'][0]['org']+'\\n')\n",
    "            except KeyError:\n",
    "                pass\n",
    "            \n",
    "            for cita in paper['references']:\n",
    "                if cita in interseccion:\n",
    "                    G.add_edge(paper['id'],cita)  \n",
    "                    archivo_red.write(paper['id']+' '+cita+'\\n')\n",
    "    R.close()\n",
    "    archivo_red.close()\n",
    "    archivo_year.close()\n",
    "    archivo_venue.close()\n",
    "    archivo_fos.close()\n",
    "    archivo_keywords.close()\n",
    "    archivo_name.close()\n",
    "    archivo_org.close()\n",
    "    return(G)\n",
    "\n",
    "G=nx.DiGraph()\n",
    "G=filtrar_paper(G,interseccion)"
   ]
  },
  {
   "cell_type": "code",
   "execution_count": 42,
   "metadata": {},
   "outputs": [],
   "source": [
    "R = open('C:\\\\Users\\\\Usuario\\\\Documents\\\\GitHub\\\\Red\\\\papers_filtro_12.txt','r',encoding='utf-8')\n",
    "i=0\n",
    "for paper in R:\n",
    "    i+=1\n",
    "    if line==paper:\n",
    "        break\n",
    "R.close()"
   ]
  },
  {
   "cell_type": "code",
   "execution_count": 44,
   "metadata": {},
   "outputs": [
    {
     "data": {
      "text/plain": [
       "2486289"
      ]
     },
     "execution_count": 44,
     "metadata": {},
     "output_type": "execute_result"
    }
   ],
   "source": [
    "i\n",
    "len(G)"
   ]
  },
  {
   "cell_type": "code",
   "execution_count": 31,
   "metadata": {},
   "outputs": [
    {
     "ename": "KeyboardInterrupt",
     "evalue": "",
     "output_type": "error",
     "traceback": [
      "\u001b[0;31m---------------------------------------------------------------------------\u001b[0m",
      "\u001b[0;31mKeyboardInterrupt\u001b[0m                         Traceback (most recent call last)",
      "\u001b[0;32m<ipython-input-31-85b54eee7992>\u001b[0m in \u001b[0;36m<module>\u001b[0;34m()\u001b[0m\n\u001b[1;32m      1\u001b[0m \u001b[1;31m# Distribución de grado\u001b[0m\u001b[1;33m\u001b[0m\u001b[1;33m\u001b[0m\u001b[0m\n\u001b[1;32m      2\u001b[0m \u001b[0mplt\u001b[0m\u001b[1;33m.\u001b[0m\u001b[0msubplot\u001b[0m\u001b[1;33m(\u001b[0m\u001b[1;36m311\u001b[0m\u001b[1;33m)\u001b[0m\u001b[1;33m\u001b[0m\u001b[0m\n\u001b[0;32m----> 3\u001b[0;31m \u001b[0mgrados_G\u001b[0m \u001b[1;33m=\u001b[0m \u001b[1;33m[\u001b[0m\u001b[0mgra\u001b[0m \u001b[1;32mfor\u001b[0m \u001b[0mgra\u001b[0m \u001b[1;32min\u001b[0m \u001b[0mG\u001b[0m\u001b[1;33m.\u001b[0m\u001b[0mdegree\u001b[0m\u001b[1;33m(\u001b[0m\u001b[1;33m)\u001b[0m\u001b[1;33m.\u001b[0m\u001b[0mvalues\u001b[0m\u001b[1;33m(\u001b[0m\u001b[1;33m)\u001b[0m\u001b[1;33m]\u001b[0m\u001b[1;33m\u001b[0m\u001b[0m\n\u001b[0m\u001b[1;32m      4\u001b[0m \u001b[0mDatos\u001b[0m \u001b[1;33m=\u001b[0m \u001b[0mnp\u001b[0m\u001b[1;33m.\u001b[0m\u001b[0masarray\u001b[0m\u001b[1;33m(\u001b[0m\u001b[0mgrados_G\u001b[0m\u001b[1;33m)\u001b[0m\u001b[1;33m\u001b[0m\u001b[0m\n\u001b[1;32m      5\u001b[0m \u001b[0mb\u001b[0m\u001b[1;33m=\u001b[0m\u001b[0mnp\u001b[0m\u001b[1;33m.\u001b[0m\u001b[0mlogspace\u001b[0m\u001b[1;33m(\u001b[0m\u001b[1;36m0\u001b[0m\u001b[1;33m,\u001b[0m\u001b[1;36m3\u001b[0m\u001b[1;33m,\u001b[0m\u001b[1;36m50\u001b[0m\u001b[1;33m)\u001b[0m\u001b[1;33m\u001b[0m\u001b[0m\n",
      "\u001b[0;32mC:\\Users\\Usuario\\Anaconda3\\lib\\site-packages\\networkx\\classes\\graph.py\u001b[0m in \u001b[0;36mdegree\u001b[0;34m(self, nbunch, weight)\u001b[0m\n\u001b[1;32m   1350\u001b[0m             \u001b[1;32mreturn\u001b[0m \u001b[0mnext\u001b[0m\u001b[1;33m(\u001b[0m\u001b[0mself\u001b[0m\u001b[1;33m.\u001b[0m\u001b[0mdegree_iter\u001b[0m\u001b[1;33m(\u001b[0m\u001b[0mnbunch\u001b[0m\u001b[1;33m,\u001b[0m \u001b[0mweight\u001b[0m\u001b[1;33m)\u001b[0m\u001b[1;33m)\u001b[0m\u001b[1;33m[\u001b[0m\u001b[1;36m1\u001b[0m\u001b[1;33m]\u001b[0m\u001b[1;33m\u001b[0m\u001b[0m\n\u001b[1;32m   1351\u001b[0m         \u001b[1;32melse\u001b[0m\u001b[1;33m:\u001b[0m           \u001b[1;31m# return a dict\u001b[0m\u001b[1;33m\u001b[0m\u001b[0m\n\u001b[0;32m-> 1352\u001b[0;31m             \u001b[1;32mreturn\u001b[0m \u001b[0mdict\u001b[0m\u001b[1;33m(\u001b[0m\u001b[0mself\u001b[0m\u001b[1;33m.\u001b[0m\u001b[0mdegree_iter\u001b[0m\u001b[1;33m(\u001b[0m\u001b[0mnbunch\u001b[0m\u001b[1;33m,\u001b[0m \u001b[0mweight\u001b[0m\u001b[1;33m)\u001b[0m\u001b[1;33m)\u001b[0m\u001b[1;33m\u001b[0m\u001b[0m\n\u001b[0m\u001b[1;32m   1353\u001b[0m \u001b[1;33m\u001b[0m\u001b[0m\n\u001b[1;32m   1354\u001b[0m     \u001b[1;32mdef\u001b[0m \u001b[0mdegree_iter\u001b[0m\u001b[1;33m(\u001b[0m\u001b[0mself\u001b[0m\u001b[1;33m,\u001b[0m \u001b[0mnbunch\u001b[0m\u001b[1;33m=\u001b[0m\u001b[1;32mNone\u001b[0m\u001b[1;33m,\u001b[0m \u001b[0mweight\u001b[0m\u001b[1;33m=\u001b[0m\u001b[1;32mNone\u001b[0m\u001b[1;33m)\u001b[0m\u001b[1;33m:\u001b[0m\u001b[1;33m\u001b[0m\u001b[0m\n",
      "\u001b[0;32mC:\\Users\\Usuario\\Anaconda3\\lib\\site-packages\\networkx\\classes\\digraph.py\u001b[0m in \u001b[0;36mdegree_iter\u001b[0;34m(self, nbunch, weight)\u001b[0m\n\u001b[1;32m    929\u001b[0m \u001b[1;33m\u001b[0m\u001b[0m\n\u001b[1;32m    930\u001b[0m         \u001b[1;32mif\u001b[0m \u001b[0mweight\u001b[0m \u001b[1;32mis\u001b[0m \u001b[1;32mNone\u001b[0m\u001b[1;33m:\u001b[0m\u001b[1;33m\u001b[0m\u001b[0m\n\u001b[0;32m--> 931\u001b[0;31m             \u001b[1;32mfor\u001b[0m \u001b[0mn\u001b[0m\u001b[1;33m,\u001b[0m\u001b[0msucc\u001b[0m\u001b[1;33m,\u001b[0m\u001b[0mpred\u001b[0m \u001b[1;32min\u001b[0m \u001b[0mnodes_nbrs\u001b[0m\u001b[1;33m:\u001b[0m\u001b[1;33m\u001b[0m\u001b[0m\n\u001b[0m\u001b[1;32m    932\u001b[0m                 \u001b[1;32myield\u001b[0m \u001b[1;33m(\u001b[0m\u001b[0mn\u001b[0m\u001b[1;33m,\u001b[0m\u001b[0mlen\u001b[0m\u001b[1;33m(\u001b[0m\u001b[0msucc\u001b[0m\u001b[1;33m)\u001b[0m\u001b[1;33m+\u001b[0m\u001b[0mlen\u001b[0m\u001b[1;33m(\u001b[0m\u001b[0mpred\u001b[0m\u001b[1;33m)\u001b[0m\u001b[1;33m)\u001b[0m\u001b[1;33m\u001b[0m\u001b[0m\n\u001b[1;32m    933\u001b[0m         \u001b[1;32melse\u001b[0m\u001b[1;33m:\u001b[0m\u001b[1;33m\u001b[0m\u001b[0m\n",
      "\u001b[0;32mC:\\Users\\Usuario\\Anaconda3\\lib\\site-packages\\networkx\\classes\\digraph.py\u001b[0m in \u001b[0;36m<genexpr>\u001b[0;34m(.0)\u001b[0m\n\u001b[1;32m    924\u001b[0m         \"\"\"\n\u001b[1;32m    925\u001b[0m         \u001b[1;32mif\u001b[0m \u001b[0mnbunch\u001b[0m \u001b[1;32mis\u001b[0m \u001b[1;32mNone\u001b[0m\u001b[1;33m:\u001b[0m\u001b[1;33m\u001b[0m\u001b[0m\n\u001b[0;32m--> 926\u001b[0;31m             \u001b[0mnodes_nbrs\u001b[0m\u001b[1;33m=\u001b[0m\u001b[1;33m(\u001b[0m \u001b[1;33m(\u001b[0m\u001b[0mn\u001b[0m\u001b[1;33m,\u001b[0m\u001b[0msuccs\u001b[0m\u001b[1;33m,\u001b[0m\u001b[0mself\u001b[0m\u001b[1;33m.\u001b[0m\u001b[0mpred\u001b[0m\u001b[1;33m[\u001b[0m\u001b[0mn\u001b[0m\u001b[1;33m]\u001b[0m\u001b[1;33m)\u001b[0m \u001b[1;32mfor\u001b[0m \u001b[0mn\u001b[0m\u001b[1;33m,\u001b[0m\u001b[0msuccs\u001b[0m \u001b[1;32min\u001b[0m \u001b[0mself\u001b[0m\u001b[1;33m.\u001b[0m\u001b[0msucc\u001b[0m\u001b[1;33m.\u001b[0m\u001b[0mitems\u001b[0m\u001b[1;33m(\u001b[0m\u001b[1;33m)\u001b[0m\u001b[1;33m)\u001b[0m\u001b[1;33m\u001b[0m\u001b[0m\n\u001b[0m\u001b[1;32m    927\u001b[0m         \u001b[1;32melse\u001b[0m\u001b[1;33m:\u001b[0m\u001b[1;33m\u001b[0m\u001b[0m\n\u001b[1;32m    928\u001b[0m             \u001b[0mnodes_nbrs\u001b[0m\u001b[1;33m=\u001b[0m\u001b[1;33m(\u001b[0m \u001b[1;33m(\u001b[0m\u001b[0mn\u001b[0m\u001b[1;33m,\u001b[0m\u001b[0mself\u001b[0m\u001b[1;33m.\u001b[0m\u001b[0msucc\u001b[0m\u001b[1;33m[\u001b[0m\u001b[0mn\u001b[0m\u001b[1;33m]\u001b[0m\u001b[1;33m,\u001b[0m\u001b[0mself\u001b[0m\u001b[1;33m.\u001b[0m\u001b[0mpred\u001b[0m\u001b[1;33m[\u001b[0m\u001b[0mn\u001b[0m\u001b[1;33m]\u001b[0m\u001b[1;33m)\u001b[0m \u001b[1;32mfor\u001b[0m \u001b[0mn\u001b[0m \u001b[1;32min\u001b[0m \u001b[0mself\u001b[0m\u001b[1;33m.\u001b[0m\u001b[0mnbunch_iter\u001b[0m\u001b[1;33m(\u001b[0m\u001b[0mnbunch\u001b[0m\u001b[1;33m)\u001b[0m\u001b[1;33m)\u001b[0m\u001b[1;33m\u001b[0m\u001b[0m\n",
      "\u001b[0;31mKeyboardInterrupt\u001b[0m: "
     ]
    }
   ],
   "source": [
    "# Distribución de grado\n",
    "plt.subplot(311)\n",
    "grados_G = [gra for gra in G.degree().values()]\n",
    "Datos = np.asarray(grados_G)\n",
    "b=np.logspace(0,3,50)\n",
    "plt.hist(Datos, bins=b, log=True) \n",
    "plt.xscale('log')\n",
    "plt.xlabel('k')\n",
    "#plt.yscale('log')\n",
    "plt.show()\n",
    "plt.subplot(312)\n",
    "# Distribución de grado IN\n",
    "grados_G = [gra for gra in G.in_degree().values()] \n",
    "Datos = np.asarray(grados_G)\n",
    "b=np.logspace(0,3,50)\n",
    "plt.hist(Datos, bins=b, log=True) \n",
    "plt.xscale('log')\n",
    "plt.xlabel('k_IN')\n",
    "#plt.yscale('log')\n",
    "plt.show()\n",
    "plt.subplot(313)\n",
    "# Distribución de grado OUT\n",
    "grados_G = [gra for gra in G.out_degree().values()]\n",
    "Datos = np.asarray(grados_G)\n",
    "b=np.logspace(0,3,50)\n",
    "plt.hist(Datos, bins=b, log=True) \n",
    "plt.xscale('log')\n",
    "plt.xlabel('k_OUT')\n",
    "#plt.yscale('log')\n",
    "plt.show()"
   ]
  },
  {
   "cell_type": "code",
   "execution_count": 45,
   "metadata": {},
   "outputs": [
    {
     "name": "stdout",
     "output_type": "stream",
     "text": [
      "23240\n",
      "124148\n"
     ]
    }
   ],
   "source": [
    "GG=G.to_undirected()\n",
    "Componente_INT=sorted(nx.connected_components(GG), key=len, reverse=True)\n",
    "Componentes=[]\n",
    "\n",
    "for i in Componente_INT:\n",
    "    Componentes.append(GG.subgraph(i))\n",
    "largo=[]\n",
    "for i in Componentes:\n",
    "    largo.append(len(i))\n",
    "\n",
    "plt.semilogy(largo)"
   ]
  },
  {
   "cell_type": "code",
   "execution_count": null,
   "metadata": {},
   "outputs": [
    {
     "name": "stderr",
     "output_type": "stream",
     "text": [
      "C:\\Users\\Usuario\\Anaconda3\\lib\\site-packages\\networkx\\drawing\\nx_pylab.py:126: MatplotlibDeprecationWarning: pyplot.hold is deprecated.\n",
      "    Future behavior will be consistent with the long-time default:\n",
      "    plot commands add elements without first clearing the\n",
      "    Axes and/or Figure.\n",
      "  b = plt.ishold()\n"
     ]
    }
   ],
   "source": [
    "M=1\n",
    "\n",
    "options = {\n",
    "'node_size': 1,\n",
    "'width': 0.01,\n",
    "}\n",
    "\n",
    "for i in Componentes[:M]:\n",
    "    nx.draw(i, **options)\n",
    "    plt.show()"
   ]
  },
  {
   "cell_type": "code",
   "execution_count": 59,
   "metadata": {
    "scrolled": true
   },
   "outputs": [
    {
     "data": {
      "text/plain": [
       "10163"
      ]
     },
     "execution_count": 59,
     "metadata": {},
     "output_type": "execute_result"
    }
   ],
   "source": [
    "len(Componentes[0])"
   ]
  },
  {
   "cell_type": "code",
   "execution_count": 60,
   "metadata": {},
   "outputs": [
    {
     "data": {
      "image/png": "[encoded data removed]",
      "text/plain": [
       "<matplotlib.figure.Figure at 0x787c1ef0>"
      ]
     },
     "metadata": {},
     "output_type": "display_data"
    }
   ],
   "source": [
    "# Distribución de grado\n",
    "grados_G = [gra for gra in Componentes[0].degree().values()]\n",
    "Datos = np.asarray(grados_G)\n",
    "b=np.logspace(0,3,50)\n",
    "plt.hist(Datos, bins=b, log=True) \n",
    "plt.xscale('log')\n",
    "plt.xlabel('k')\n",
    "#plt.yscale('log')\n",
    "plt.show()"
   ]
  },
  {
   "cell_type": "code",
   "execution_count": null,
   "metadata": {
    "collapsed": true
   },
   "outputs": [],
   "source": []
  }
 ],
 "metadata": {
  "kernelspec": {
   "display_name": "Python 3",
   "language": "python",
   "name": "python3"
  },
  "language_info": {
   "codemirror_mode": {
    "name": "ipython",
    "version": 3
   },
   "file_extension": ".py",
   "mimetype": "text/x-python",
   "name": "python",
   "nbconvert_exporter": "python",
   "pygments_lexer": "ipython3",
   "version": "3.6.0"
  }
 },
 "nbformat": 4,
 "nbformat_minor": 2
}

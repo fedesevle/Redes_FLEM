{
 "cells": [
  {
   "cell_type": "code",
   "execution_count": 7,
   "metadata": {},
   "outputs": [],
   "source": [
    "import numpy as np\n",
    "import ast\n",
    "import networkx as nx\n",
    "import matplotlib.pyplot as plt\n",
    "import json"
   ]
  },
  {
   "cell_type": "code",
   "execution_count": 37,
   "metadata": {},
   "outputs": [
    {
     "name": "stdout",
     "output_type": "stream",
     "text": [
      "161\n",
      "162\n"
     ]
    }
   ],
   "source": [
    "#R = open('D:\\Para procesar\\Académica\\Ciencias Físicas\\Doctorado\\Materias\\Redes complejas\\Trabajos_prácticos\\Practica_computacional\\mag_papers_166.txt', 'r') \n",
    "version=161162\n",
    "paper_conjuntos = []\n",
    "\n",
    "#Saca el campo del diccionario\n",
    "def sacarcampo(paper,key):\n",
    "    if key in paper:\n",
    "        del paper[key]\n",
    "\n",
    "#Filtra papers, saca campos innecesarios y guarda en archivo \"papers_filtro_n.txt\"\n",
    "def agregarpaper(R_n,paper_conjuntos):\n",
    "    paper_conjuntos = []\n",
    "    \n",
    "    with open('/media/fede/My Passport/tp redes/papers_filtro_'+str(version)+'.txt', 'a',encoding='utf8') as archivo_guardar:\n",
    "         \n",
    "    #archivo_guardar = open('C:\\\\Users\\\\Usuario\\\\Documents\\\\GitHub\\\\Red\\\\papers_filtro_'+str(version)+'.txt','a',encoding='utf-8') \n",
    "    \n",
    "        R = open('/media/fede/My Passport/tp redes/mag_papers_'+R_n+'.txt', 'r') \n",
    "        N = 999999\n",
    "        i = 0\n",
    "        for line in R:\n",
    "            paper=ast.literal_eval(line)\n",
    "            try:\n",
    "                paper['doc_type']\n",
    "                paper['fos']\n",
    "                paper['keywords']\n",
    "                paper['references']\n",
    "                paper['venue']\n",
    "                if paper['doc_type']=='Journal' and paper['lang']=='en':\n",
    "                    paper_conjuntos.append(paper)\n",
    "                    key='abstract';sacarcampo(paper,key)\n",
    "                    key='url';sacarcampo(paper,key)\n",
    "                    key='lang';sacarcampo(paper,key)\n",
    "                    key='page_start';sacarcampo(paper,key)\n",
    "                    key='page_end';sacarcampo(paper,key)\n",
    "                    key='doc_type';sacarcampo(paper,key)\n",
    "                    key='pdf';sacarcampo(paper,key)\n",
    "                    json.dump(paper, archivo_guardar, ensure_ascii=False)\n",
    "                    archivo_guardar.write('\\n')\n",
    "            except KeyError:\n",
    "                pass\n",
    "            i+=1\n",
    "            if i==N:\n",
    "                break\n",
    "        R.close()\n",
    "    archivo_guardar.close()\n",
    "    return(paper_conjuntos)\n",
    "\n",
    "#Crea lista de papers filtrados y diccionario de papers citados y su frecuencia\n",
    "def contador(ides_in,ides_out,paper_conjuntos):\n",
    "    for line in range(len(paper_conjuntos)):\n",
    "        ides_out.append(paper_conjuntos[line]['id'])\n",
    "        a=paper_conjuntos[line]['references']\n",
    "        for tag in range(len(a)):\n",
    "            try:\n",
    "                b=ides_in[a[tag]]\n",
    "                b+=1\n",
    "                ides_in.update({a[tag]:b})\n",
    "            except:\n",
    "                ides_in[a[tag]]=1\n",
    "    return(ides_in)\n",
    "\n",
    "#Crea el archivo de papers filtrados, la lista y el diccionario de frecuencias de citas\n",
    "def agregar_contar(ides_in,ides_out,R_n,paper_conjuntos):\n",
    "    paper_conjuntos=agregarpaper(R_n,paper_conjuntos)\n",
    "    ides_in=contador(ides_in,ides_out,paper_conjuntos)\n",
    "    return(ides_in,ides_out)\n",
    "    \n",
    "ides_out=[]\n",
    "ides_in={}\n",
    "for i in range(161,163):\n",
    "    ides_in,ides_out=agregar_contar(ides_in,ides_out,str(i),[])\n",
    "    print(i)\n",
    "    \n",
    "#ides_in,ides_out=agregar_contar(ides_in,ides_out,str(162),[])"
   ]
  },
  {
   "cell_type": "code",
   "execution_count": 38,
   "metadata": {},
   "outputs": [
    {
     "name": "stdout",
     "output_type": "stream",
     "text": [
      "27459\n"
     ]
    }
   ],
   "source": [
    "interseccion=(set(ides_out).intersection(list(ides_in.keys())))\n",
    "print(len(interseccion))"
   ]
  },
  {
   "cell_type": "code",
   "execution_count": 40,
   "metadata": {},
   "outputs": [
    {
     "data": {
      "text/plain": [
       "4402681"
      ]
     },
     "execution_count": 40,
     "metadata": {},
     "output_type": "execute_result"
    }
   ],
   "source": [
    "len(ides_in)"
   ]
  },
  {
   "cell_type": "code",
   "execution_count": null,
   "metadata": {},
   "outputs": [],
   "source": [
    "interseccion_archivo = open('C:\\\\Users\\\\Usuario\\\\Documents\\\\GitHub\\\\Red\\\\papers_filtro_'+str(version)+'.txt','a',encoding='utf-8') \n",
    "for i in interseccion:\n",
    "    interseccion_archivo.write(i+'\\n')\n",
    "interseccion_archivo.close()"
   ]
  },
  {
   "cell_type": "code",
   "execution_count": 10,
   "metadata": {},
   "outputs": [
    {
     "ename": "AttributeError",
     "evalue": "'str' object has no attribute 'read'",
     "output_type": "error",
     "traceback": [
      "\u001b[0;31m---------------------------------------------------------------------------\u001b[0m",
      "\u001b[0;31mAttributeError\u001b[0m                            Traceback (most recent call last)",
      "\u001b[0;32m<ipython-input-10-76341f593a20>\u001b[0m in \u001b[0;36m<module>\u001b[0;34m\u001b[0m\n\u001b[0;32m----> 1\u001b[0;31m \u001b[0mf\u001b[0m \u001b[0;34m=\u001b[0m \u001b[0mjson\u001b[0m\u001b[0;34m.\u001b[0m\u001b[0mload\u001b[0m\u001b[0;34m(\u001b[0m\u001b[0;34m'/home/fede/Desktop/papers_filtro_1.json'\u001b[0m\u001b[0;34m)\u001b[0m\u001b[0;34m\u001b[0m\u001b[0m\n\u001b[0m",
      "\u001b[0;32m/usr/lib/python3.5/json/__init__.py\u001b[0m in \u001b[0;36mload\u001b[0;34m(fp, cls, object_hook, parse_float, parse_int, parse_constant, object_pairs_hook, **kw)\u001b[0m\n\u001b[1;32m    263\u001b[0m \u001b[0;34m\u001b[0m\u001b[0m\n\u001b[1;32m    264\u001b[0m     \"\"\"\n\u001b[0;32m--> 265\u001b[0;31m     return loads(fp.read(),\n\u001b[0m\u001b[1;32m    266\u001b[0m         \u001b[0mcls\u001b[0m\u001b[0;34m=\u001b[0m\u001b[0mcls\u001b[0m\u001b[0;34m,\u001b[0m \u001b[0mobject_hook\u001b[0m\u001b[0;34m=\u001b[0m\u001b[0mobject_hook\u001b[0m\u001b[0;34m,\u001b[0m\u001b[0;34m\u001b[0m\u001b[0m\n\u001b[1;32m    267\u001b[0m         \u001b[0mparse_float\u001b[0m\u001b[0;34m=\u001b[0m\u001b[0mparse_float\u001b[0m\u001b[0;34m,\u001b[0m \u001b[0mparse_int\u001b[0m\u001b[0;34m=\u001b[0m\u001b[0mparse_int\u001b[0m\u001b[0;34m,\u001b[0m\u001b[0;34m\u001b[0m\u001b[0m\n",
      "\u001b[0;31mAttributeError\u001b[0m: 'str' object has no attribute 'read'"
     ]
    }
   ],
   "source": [
    "f = json.load('/home/fede/Desktop/papers_filtro_1.txt')"
   ]
  },
  {
   "cell_type": "code",
   "execution_count": 16,
   "metadata": {},
   "outputs": [],
   "source": [
    " R = open('/home/fede/Desktop/papers_filtro_1.txt','r') "
   ]
  },
  {
   "cell_type": "code",
   "execution_count": 17,
   "metadata": {},
   "outputs": [
    {
     "data": {
      "text/plain": [
       "<_io.TextIOWrapper name='/home/fede/Desktop/papers_filtro_1.txt' mode='r' encoding='UTF-8'>"
      ]
     },
     "execution_count": 17,
     "metadata": {},
     "output_type": "execute_result"
    }
   ],
   "source": [
    "R"
   ]
  },
  {
   "cell_type": "code",
   "execution_count": 13,
   "metadata": {},
   "outputs": [
    {
     "name": "stdout",
     "output_type": "stream",
     "text": [
      "7588\n"
     ]
    }
   ],
   "source": [
    "#version=str(version)\n",
    "def filtrar_paper(G,interseccion):\n",
    "    i=0\n",
    "    paper_conjuntos = []\n",
    "    #R = open('C:\\\\Users\\\\Usuario\\\\Documents\\\\GitHub\\\\Red\\\\papers_filtro_'+version+'.txt','r') \n",
    "    R = open('/home/fede/Desktop/papers_filtro_1.txt','r',encoding = 'UTF-8') \n",
    "#     archivo_red = open('C:\\\\Users\\\\Usuario\\\\Documents\\\\GitHub\\\\Red\\\\archivo_red'+version+'.txt','a',encoding='utf-8')\n",
    "#     archivo_year = open('C:\\\\Users\\\\Usuario\\\\Documents\\\\GitHub\\\\Red\\\\archivo_year'+version+'.txt','a',encoding='utf-8')\n",
    "#     archivo_venue = open('C:\\\\Users\\\\Usuario\\\\Documents\\\\GitHub\\\\Red\\\\archivo_venue'+version+'.txt','a',encoding='utf-8')\n",
    "#     archivo_fos = open('C:\\\\Users\\\\Usuario\\\\Documents\\\\GitHub\\\\Red\\\\archivo_fos'+version+'.txt','a',encoding='utf-8')\n",
    "#     archivo_keywords = open('C:\\\\Users\\\\Usuario\\\\Documents\\\\GitHub\\\\Red\\\\archivo_keywords'+version+'.txt','a',encoding='utf-8')\n",
    "#     archivo_name = open('C:\\\\Users\\\\Usuario\\\\Documents\\\\GitHub\\\\Red\\\\archivo_name'+version+'.txt','a',encoding='utf-8')\n",
    "#     archivo_org = open('C:\\\\Users\\\\Usuario\\\\Documents\\\\GitHub\\\\Red\\\\archivo_org'+version+'.txt','a',encoding='utf-8')\n",
    "    for line in R:\n",
    "        try:\n",
    "            paper=ast.literal_eval(line)\n",
    "        except:\n",
    "            i+=1\n",
    "#         if paper['id'] in interseccion:\n",
    "#             pass\n",
    "            #archivo_year.write(str(paper['id'])+' '+str(paper['year'])+'\\n')\n",
    "            #archivo_fos.write(str(paper['id'])+' '+str(paper['fos'])+'\\n')\n",
    "            #archivo_venue.write(str(paper['id'])+' '+str(paper['venue'])+'\\n')\n",
    "#             try:\n",
    "#                 archivo_keywords.write(paper['id']+' '+str(paper['keywords'])+'\\n')\n",
    "#             except KeyError:\n",
    "#                 pass\n",
    "#             try:\n",
    "#                 archivo_name.write(paper['id']+' '+paper['authors'][0]['name']+'\\n')\n",
    "#             except KeyError:\n",
    "#                 pass\n",
    "#             try:\n",
    "#                 archivo_org.write(paper['id']+' '+paper['authors'][0]['org']+'\\n')\n",
    "#             except KeyError:\n",
    "#                 pass\n",
    "            \n",
    "#             for cita in paper['references']:\n",
    "#                 if cita in interseccion:\n",
    "#                     pass\n",
    "                    #G.add_edge(paper['id'],cita)  \n",
    "                    #archivo_red.write(str(paper['id'])+' '+cita+'\\n')\n",
    "    R.close()\n",
    "#     archivo_red.close()\n",
    "#     archivo_year.close()\n",
    "#     archivo_venue.close()\n",
    "#     archivo_fos.close()\n",
    "#     archivo_keywords.close()\n",
    "#     archivo_name.close()\n",
    "#     archivo_org.close()\n",
    "    print(i)\n",
    "    return(G)\n",
    "\n",
    "G=nx.DiGraph()\n",
    "G=filtrar_paper(G,interseccion=2)"
   ]
  },
  {
   "cell_type": "code",
   "execution_count": 14,
   "metadata": {},
   "outputs": [
    {
     "ename": "FileNotFoundError",
     "evalue": "[Errno 2] No such file or directory: 'C:\\\\Users\\\\Usuario\\\\Documents\\\\GitHub\\\\Red\\\\papers_filtro_12.txt'",
     "output_type": "error",
     "traceback": [
      "\u001b[0;31m---------------------------------------------------------------------------\u001b[0m",
      "\u001b[0;31mFileNotFoundError\u001b[0m                         Traceback (most recent call last)",
      "\u001b[0;32m<ipython-input-14-1ee5219f56d6>\u001b[0m in \u001b[0;36m<module>\u001b[0;34m\u001b[0m\n\u001b[0;32m----> 1\u001b[0;31m \u001b[0mR\u001b[0m \u001b[0;34m=\u001b[0m \u001b[0mopen\u001b[0m\u001b[0;34m(\u001b[0m\u001b[0;34m'C:\\\\Users\\\\Usuario\\\\Documents\\\\GitHub\\\\Red\\\\papers_filtro_12.txt'\u001b[0m\u001b[0;34m,\u001b[0m\u001b[0;34m'r'\u001b[0m\u001b[0;34m,\u001b[0m\u001b[0mencoding\u001b[0m\u001b[0;34m=\u001b[0m\u001b[0;34m'utf-8'\u001b[0m\u001b[0;34m)\u001b[0m\u001b[0;34m\u001b[0m\u001b[0m\n\u001b[0m\u001b[1;32m      2\u001b[0m \u001b[0mi\u001b[0m\u001b[0;34m=\u001b[0m\u001b[0;36m0\u001b[0m\u001b[0;34m\u001b[0m\u001b[0m\n\u001b[1;32m      3\u001b[0m \u001b[0;32mfor\u001b[0m \u001b[0mpaper\u001b[0m \u001b[0;32min\u001b[0m \u001b[0mR\u001b[0m\u001b[0;34m:\u001b[0m\u001b[0;34m\u001b[0m\u001b[0m\n\u001b[1;32m      4\u001b[0m     \u001b[0mi\u001b[0m\u001b[0;34m+=\u001b[0m\u001b[0;36m1\u001b[0m\u001b[0;34m\u001b[0m\u001b[0m\n\u001b[1;32m      5\u001b[0m     \u001b[0;32mif\u001b[0m \u001b[0mline\u001b[0m\u001b[0;34m==\u001b[0m\u001b[0mpaper\u001b[0m\u001b[0;34m:\u001b[0m\u001b[0;34m\u001b[0m\u001b[0m\n",
      "\u001b[0;31mFileNotFoundError\u001b[0m: [Errno 2] No such file or directory: 'C:\\\\Users\\\\Usuario\\\\Documents\\\\GitHub\\\\Red\\\\papers_filtro_12.txt'"
     ]
    }
   ],
   "source": [
    "R = open('C:\\\\Users\\\\Usuario\\\\Documents\\\\GitHub\\\\Red\\\\papers_filtro_12.txt','r',encoding='utf-8')\n",
    "i=0\n",
    "for paper in R:\n",
    "    i+=1\n",
    "    if line==paper:\n",
    "        break\n",
    "R.close()"
   ]
  },
  {
   "cell_type": "code",
   "execution_count": 19,
   "metadata": {},
   "outputs": [
    {
     "data": {
      "text/plain": [
       "72539"
      ]
     },
     "execution_count": 19,
     "metadata": {},
     "output_type": "execute_result"
    }
   ],
   "source": [
    "i\n",
    "len(G)"
   ]
  },
  {
   "cell_type": "code",
   "execution_count": 9,
   "metadata": {},
   "outputs": [
    {
     "data": {
      "image/png": "[encoded data removed]",
      "text/plain": [
       "<matplotlib.figure.Figure at 0x26b72b70>"
      ]
     },
     "metadata": {},
     "output_type": "display_data"
    },
    {
     "data": {
      "image/png": "[encoded data removed]",
      "text/plain": [
       "<matplotlib.figure.Figure at 0x4e9857f0>"
      ]
     },
     "metadata": {},
     "output_type": "display_data"
    },
    {
     "data": {
      "image/png": "[encoded data removed]",
      "text/plain": [
       "<matplotlib.figure.Figure at 0x126bb438>"
      ]
     },
     "metadata": {},
     "output_type": "display_data"
    }
   ],
   "source": [
    "# Distribución de grado\n",
    "plt.subplot(311)\n",
    "grados_G = [gra for gra in G.degree().values()]\n",
    "Datos = np.asarray(grados_G)\n",
    "b=np.logspace(0,3,50)\n",
    "plt.hist(Datos, bins=b, log=True) \n",
    "plt.xscale('log')\n",
    "plt.xlabel('k')\n",
    "#plt.yscale('log')\n",
    "plt.show()\n",
    "plt.subplot(312)\n",
    "# Distribución de grado IN\n",
    "grados_G = [gra for gra in G.in_degree().values()] \n",
    "Datos = np.asarray(grados_G)\n",
    "b=np.logspace(0,3,50)\n",
    "plt.hist(Datos, bins=b, log=True) \n",
    "plt.xscale('log')\n",
    "plt.xlabel('k_IN')\n",
    "#plt.yscale('log')\n",
    "plt.show()\n",
    "plt.subplot(313)\n",
    "# Distribución de grado OUT\n",
    "grados_G = [gra for gra in G.out_degree().values()]\n",
    "Datos = np.asarray(grados_G)\n",
    "b=np.logspace(0,3,50)\n",
    "plt.hist(Datos, bins=b, log=True) \n",
    "plt.xscale('log')\n",
    "plt.xlabel('k_OUT')\n",
    "#plt.yscale('log')\n",
    "plt.show()"
   ]
  },
  {
   "cell_type": "code",
   "execution_count": 45,
   "metadata": {},
   "outputs": [
    {
     "name": "stdout",
     "output_type": "stream",
     "text": [
      "23240\n",
      "124148\n"
     ]
    }
   ],
   "source": [
    "GG=G.to_undirected()\n",
    "Componente_INT=sorted(nx.connected_components(GG), key=len, reverse=True)\n",
    "Componentes=[]\n",
    "\n",
    "for i in Componente_INT:\n",
    "    Componentes.append(GG.subgraph(i))\n",
    "largo=[]\n",
    "for i in Componentes:\n",
    "    largo.append(len(i))\n",
    "\n",
    "plt.semilogy(largo)"
   ]
  },
  {
   "cell_type": "code",
   "execution_count": null,
   "metadata": {},
   "outputs": [
    {
     "name": "stderr",
     "output_type": "stream",
     "text": [
      "C:\\Users\\Usuario\\Anaconda3\\lib\\site-packages\\networkx\\drawing\\nx_pylab.py:126: MatplotlibDeprecationWarning: pyplot.hold is deprecated.\n",
      "    Future behavior will be consistent with the long-time default:\n",
      "    plot commands add elements without first clearing the\n",
      "    Axes and/or Figure.\n",
      "  b = plt.ishold()\n"
     ]
    }
   ],
   "source": [
    "M=1\n",
    "\n",
    "options = {\n",
    "'node_size': 1,\n",
    "'width': 0.01,\n",
    "}\n",
    "\n",
    "for i in Componentes[:M]:\n",
    "    nx.draw(i, **options)\n",
    "    plt.show()"
   ]
  },
  {
   "cell_type": "code",
   "execution_count": 59,
   "metadata": {
    "scrolled": true
   },
   "outputs": [
    {
     "data": {
      "text/plain": [
       "10163"
      ]
     },
     "execution_count": 59,
     "metadata": {},
     "output_type": "execute_result"
    }
   ],
   "source": [
    "len(Componentes[0])"
   ]
  },
  {
   "cell_type": "code",
   "execution_count": 60,
   "metadata": {},
   "outputs": [
    {
     "data": {
      "image/png": "[encoded data removed]",
      "text/plain": [
       "<matplotlib.figure.Figure at 0x787c1ef0>"
      ]
     },
     "metadata": {},
     "output_type": "display_data"
    }
   ],
   "source": [
    "# Distribución de grado\n",
    "grados_G = [gra for gra in Componentes[0].degree().values()]\n",
    "Datos = np.asarray(grados_G)\n",
    "b=np.logspace(0,3,50)\n",
    "plt.hist(Datos, bins=b, log=True) \n",
    "plt.xscale('log')\n",
    "plt.xlabel('k')\n",
    "#plt.yscale('log')\n",
    "plt.show()"
   ]
  },
  {
   "cell_type": "code",
   "execution_count": null,
   "metadata": {
    "collapsed": true
   },
   "outputs": [],
   "source": []
  }
 ],
 "metadata": {
  "kernelspec": {
   "display_name": "Python 3",
   "language": "python",
   "name": "python3"
  },
  "language_info": {
   "codemirror_mode": {
    "name": "ipython",
    "version": 3
   },
   "file_extension": ".py",
   "mimetype": "text/x-python",
   "name": "python",
   "nbconvert_exporter": "python",
   "pygments_lexer": "ipython3",
   "version": "3.5.2"
  }
 },
 "nbformat": 4,
 "nbformat_minor": 2
}

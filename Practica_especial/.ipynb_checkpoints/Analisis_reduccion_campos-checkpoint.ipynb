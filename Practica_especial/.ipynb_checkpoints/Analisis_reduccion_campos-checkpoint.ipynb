{
 "cells": [
  {
   "cell_type": "code",
   "execution_count": 1,
   "metadata": {},
   "outputs": [],
   "source": [
    "import numpy as np\n",
    "import ast\n",
    "import networkx as nx\n",
    "import matplotlib.pyplot as plt\n",
    "from collections import Counter\n",
    "\n",
    "directorio='G:\\\\Redes\\\\'\n",
    "version=5"
   ]
  },
  {
   "cell_type": "code",
   "execution_count": 12,
   "metadata": {},
   "outputs": [],
   "source": [
    "def frequency(Lista):\n",
    "    grupo={}\n",
    "    for line in range(len(Lista)):\n",
    "        try:\n",
    "            b=grupo[Lista[line]]\n",
    "            b+=1\n",
    "            grupo.update({Lista[line]:b})\n",
    "        except:\n",
    "            grupo[Lista[line]]=1\n",
    "    return(grupo)"
   ]
  },
  {
   "cell_type": "code",
   "execution_count": 9,
   "metadata": {},
   "outputs": [],
   "source": [
    "def red_filtrada_campos(G,n):\n",
    "    # Establecemos la lista de los campos que vamos a conservar\n",
    "    lista_comp=[]\n",
    "    subred=[]\n",
    "    for paper in G:\n",
    "        lista_comp.append(G.node[paper]['campo'])\n",
    "    freq_comp = frequency(lista_comp)\n",
    "    fre_sorted_comp = sorted(freq_comp.items(), key=lambda kv: kv[1],reverse=True)\n",
    "    if n == -1:\n",
    "        campos = set(dict(fre_sorted_comp[0:len(fre_sorted_comp)+1]).keys())\n",
    "    else:\n",
    "        campos = set(dict(fre_sorted_comp[0:n+1]).keys())\n",
    "   # print(len(campos))\n",
    "    for paper in G:\n",
    "        if G.node[paper]['campo'] in campos:\n",
    "            subred.append(paper)\n",
    "            \n",
    "    G1=G.subgraph(set(subred)).to_undirected()\n",
    "    #Componente_INT=sorted(nx.connected_components(G1), key=len, reverse=True)       \n",
    "    #return np.divide(len(Componente_INT[0]),len(G)),G.subgraph(Componente_INT[0])\n",
    "    return np.divide(len(G1),len(G))#,G.subgraph(G1)"
   ]
  },
  {
   "cell_type": "code",
   "execution_count": 15,
   "metadata": {},
   "outputs": [],
   "source": [
    "def number_tags(fre_sorted,limit):\n",
    "    frqp=[]\n",
    "    frq = []\n",
    "    for i in range(len(fre_sorted)):\n",
    "        frq.append(fre_sorted[i][1])\n",
    "    sum(frq)\n",
    "    for i in range(len(fre_sorted)):\n",
    "        frqp.append(fre_sorted[i][1])\n",
    "        if np.divide(sum(frqp),sum(frq))<=limit:\n",
    "            pass\n",
    "        else:\n",
    "            #print(i)\n",
    "            break\n",
    "    return(i,sum(frqp))\n"
   ]
  },
  {
   "cell_type": "code",
   "execution_count": 31,
   "metadata": {},
   "outputs": [],
   "source": [
    "def reemplazar_valor(G,atributo,valor_viejo,valor_nuevo):\n",
    "    for paper in G.nodes():\n",
    "        for i in range(len(valor_viejo)):\n",
    "            if G.node[paper][atributo] == valor_viejo[i]:\n",
    "                G.node[paper][atributo] = valor_nuevo[i]\n"
   ]
  },
  {
   "cell_type": "markdown",
   "metadata": {},
   "source": [
    "### A partir de aca comenzamos a aplicar las funciones"
   ]
  },
  {
   "cell_type": "markdown",
   "metadata": {},
   "source": [
    "##### Armamos la red dirigida"
   ]
  },
  {
   "cell_type": "code",
   "execution_count": 4,
   "metadata": {},
   "outputs": [
    {
     "name": "stdout",
     "output_type": "stream",
     "text": [
      "2751733 9908260\n"
     ]
    }
   ],
   "source": [
    "N=10000000\n",
    "i=0\n",
    "G=nx.DiGraph()\n",
    "archivo = open(directorio+'archivo_red_'+str(version)+'.txt','r',encoding='utf-8')\n",
    "for line in archivo:\n",
    "    i+=1\n",
    "    G.add_edges_from([(line.split()[0],line.split()[1])])\n",
    "    if i==N:\n",
    "        break\n",
    "archivo.close()\n",
    "print(len(G),i)"
   ]
  },
  {
   "cell_type": "code",
   "execution_count": 6,
   "metadata": {},
   "outputs": [],
   "source": [
    "GG=G.to_undirected()\n",
    "Componente_INT=sorted(nx.connected_components(GG), key=len, reverse=True)\n",
    "Componentes=[]\n",
    "\n",
    "for i in Componente_INT:\n",
    "    Componentes.append(G.subgraph(i))"
   ]
  },
  {
   "cell_type": "code",
   "execution_count": 7,
   "metadata": {},
   "outputs": [
    {
     "name": "stdout",
     "output_type": "stream",
     "text": [
      "2885496\n"
     ]
    }
   ],
   "source": [
    "# Se abre el archivo de atributos que necesitamos y se almacenan las frecuencias en la variables \"fos\"\n",
    "\n",
    "archivo = open(directorio+'archivo_fos_'+str(version)+'.txt','r',encoding='utf-8')\n",
    "i=0\n",
    "j=0\n",
    "\n",
    "fos = {}\n",
    "for line in archivo:\n",
    "    j+=1\n",
    "    i+=1\n",
    "    a=line.split('[')[1].split(']')[0].split(', ')\n",
    "    for tag in range(len(a)):\n",
    "            try:\n",
    "                b=fos[a[tag]]\n",
    "                b+=1\n",
    "                fos.update({a[tag]:b})\n",
    "            except:\n",
    "                fos[a[tag]]=1\n",
    "    if i==N:\n",
    "        break\n",
    "print(j)\n",
    "archivo.close()"
   ]
  },
  {
   "cell_type": "code",
   "execution_count": 8,
   "metadata": {},
   "outputs": [],
   "source": [
    "# Cargamos los atributos a cada uno de los nodos\n",
    "\n",
    "archivo = open(directorio+'archivo_fos_'+str(version)+'.txt','r',encoding='utf-8')\n",
    "\n",
    "i=0\n",
    "j=0\n",
    "for line in archivo:\n",
    "    i+=1\n",
    "    a=line.split('[')[1].split(']')[0].split(', ')\n",
    "    freq=np.zeros(len(a))\n",
    "    try:\n",
    "        for k in range(len(a)):\n",
    "            freq[k]=fos[a[k]]\n",
    "        key=a[np.argmax(freq)]    \n",
    "        G.node[line.split()[0]]['campo']=key\n",
    "        j+=1\n",
    "    except KeyError:\n",
    "        pass\n",
    "    if i==N:\n",
    "        break\n",
    "archivo.close()"
   ]
  },
  {
   "cell_type": "code",
   "execution_count": 10,
   "metadata": {},
   "outputs": [],
   "source": [
    "archivo = open(directorio+'archivo_year_'+str(version)+'.txt','r',encoding='utf-8')\n",
    "i=0\n",
    "for line in archivo:\n",
    "    i+=1\n",
    "    try:\n",
    "        G.node[line.split()[0]]['year']=int(line.split()[1])\n",
    "    except KeyError:\n",
    "        pass\n",
    "    if i==N:\n",
    "        break\n",
    "archivo.close()"
   ]
  },
  {
   "cell_type": "code",
   "execution_count": 39,
   "metadata": {},
   "outputs": [
    {
     "name": "stdout",
     "output_type": "stream",
     "text": [
      "fraccion de nodos 0.9717378103180796\n"
     ]
    }
   ],
   "source": [
    "n=26\n",
    "a=red_filtrada_campos(G,n)\n",
    "print('fraccion de nodos '+str(a))\n",
    "#print(b)"
   ]
  },
  {
   "cell_type": "code",
   "execution_count": 19,
   "metadata": {},
   "outputs": [
    {
     "name": "stdout",
     "output_type": "stream",
     "text": [
      "(\"'Biology'\", 841907)\n",
      "(\"'Medicine'\", 542201)\n",
      "(\"'Chemistry'\", 381027)\n",
      "(\"'Physics'\", 321917)\n",
      "(\"'Psychology'\", 132487)\n",
      "(\"'Mathematics'\", 103700)\n",
      "(\"'Economics'\", 61900)\n",
      "(\"'Computer Science'\", 49298)\n",
      "(\"'Engineering'\", 28997)\n",
      "(\"'Geology'\", 26737)\n",
      "(\"'Surgery'\", 22381)\n",
      "(\"'Materials Science'\", 22314)\n",
      "(\"'Statistics'\", 20659)\n",
      "(\"'Ecology'\", 19316)\n",
      "(\"'Sociology'\", 14189)\n",
      "(\"'Social psychology'\", 12274)\n",
      "(\"'Pathology'\", 11242)\n",
      "(\"'Endocrinology'\", 10360)\n",
      "(\"'Biochemistry'\", 9681)\n",
      "(\"'Optics'\", 7570)\n",
      "(\"'Mineralogy'\", 7548)\n",
      "(\"'Quantum mechanics'\", 6573)\n",
      "(\"'Organic chemistry'\", 4855)\n",
      "(\"'Immunology'\", 4166)\n",
      "(\"'Genetics'\", 3832)\n"
     ]
    }
   ],
   "source": [
    "# Creamos un diagrama de frecuencia de los campos en la componente comp-\n",
    "m=25\n",
    "lista_comp=[]\n",
    "for paper in G:\n",
    "    lista_comp.append(G.node[paper]['campo'])\n",
    "freq_comp = frequency(lista_comp)\n",
    "\n",
    "fre_sorted_comp = sorted(freq_comp.items(), key=lambda kv: kv[1],reverse=True)\n",
    "for i in range(len(fre_sorted_comp[:m])):\n",
    "    print(fre_sorted_comp[i])"
   ]
  },
  {
   "cell_type": "code",
   "execution_count": 34,
   "metadata": {},
   "outputs": [],
   "source": [
    "G1 = G.copy()\n",
    "valores_viejos = [\"'Surgery'\",\"'Statistics'\",\"'Ecology'\",\"'Social psychology'\",\"'Pathology'\",\"'Endocrinology'\",\"'Optics'\",\"'Mineralogy'\",\"'Quantum mechanics'\",\"'Organic chemistry'\",\"'Immunology'\",\"'Genetics'\",\"'Anatomy'\"]\n",
    "valores_nuevos = [\"'Medicine'\",\"'Mathematics'\",\"'Biology'\",\"'Psychology'\",\"'Medicine'\",\"'Medicine'\",\"'Physics'\",\"'Geology'\",\"'Physics'\",\"'Chemistry'\",\"'Medicine'\",\"'Biology'\",\"'Medicine'\"]\n",
    "\n",
    "reemplazar_valor(G1,'campo',valores_viejos,valores_nuevos)"
   ]
  },
  {
   "cell_type": "code",
   "execution_count": 38,
   "metadata": {},
   "outputs": [
    {
     "name": "stdout",
     "output_type": "stream",
     "text": [
      "(\"'Biology'\", 865055)\n",
      "(\"'Medicine'\", 593961)\n",
      "(\"'Chemistry'\", 385882)\n",
      "(\"'Physics'\", 336060)\n",
      "(\"'Psychology'\", 144761)\n",
      "(\"'Mathematics'\", 124359)\n",
      "(\"'Economics'\", 61900)\n",
      "(\"'Computer Science'\", 49298)\n",
      "(\"'Geology'\", 34285)\n",
      "(\"'Engineering'\", 28997)\n",
      "(\"'Materials Science'\", 22314)\n",
      "(\"'Sociology'\", 14189)\n",
      "(\"'Biochemistry'\", 9681)\n",
      "[\"'Biology'\", \"'Medicine'\", \"'Chemistry'\", \"'Physics'\", \"'Psychology'\", \"'Mathematics'\", \"'Economics'\", \"'Computer Science'\", \"'Geology'\", \"'Engineering'\", \"'Materials Science'\", \"'Sociology'\", \"'Biochemistry'\"]\n"
     ]
    }
   ],
   "source": [
    "m=13\n",
    "lista_comp=[]\n",
    "lista_keys=[]\n",
    "for paper in G1:\n",
    "    lista_comp.append(G1.node[paper]['campo'])\n",
    "freq_comp = frequency(lista_comp)\n",
    "\n",
    "fre_sorted_comp = sorted(freq_comp.items(), key=lambda kv: kv[1],reverse=True)\n",
    "for i in range(len(fre_sorted_comp[:m])):\n",
    "    print(fre_sorted_comp[i])\n",
    "    lista_keys.append(fre_sorted_comp[i][0])\n",
    "print(lista_keys)\n",
    "    "
   ]
  },
  {
   "cell_type": "code",
   "execution_count": 41,
   "metadata": {},
   "outputs": [],
   "source": [
    "G2=G1.copy()\n",
    "for i in G1.nodes():\n",
    "    if (G1.node[i]['campo'] in lista_keys)==False:\n",
    "        G2.remove_node(i)"
   ]
  },
  {
   "cell_type": "markdown",
   "metadata": {},
   "source": [
    "Armamos una lista de papers de cada año"
   ]
  },
  {
   "cell_type": "code",
   "execution_count": 42,
   "metadata": {},
   "outputs": [],
   "source": [
    "def red_year(G):\n",
    "    G_year={}\n",
    "    for i in range(1850,2019):\n",
    "        lista_nodos=[]\n",
    "        for node in G.nodes:\n",
    "            try:\n",
    "                KEY=G.nodes[node]['year']<i+1\n",
    "                if KEY:\n",
    "                    lista_nodos.append(node)\n",
    "            except KeyError:\n",
    "                pass\n",
    "        G_year[str(i)]=G.subgraph(lista_nodos)\n",
    "    return(G_year)"
   ]
  },
  {
   "cell_type": "code",
   "execution_count": 43,
   "metadata": {},
   "outputs": [],
   "source": [
    "G_year=red_year(G2)"
   ]
  },
  {
   "cell_type": "markdown",
   "metadata": {},
   "source": [
    "### Calculamos el tamaño de la red total y la componenete gigante año a año"
   ]
  },
  {
   "cell_type": "code",
   "execution_count": 86,
   "metadata": {},
   "outputs": [],
   "source": [
    "Tamanos_year={}\n",
    "Campos_year={}\n",
    "years=[]\n",
    "for year in G_year.keys():\n",
    "    GG=G_year[year].to_undirected()\n",
    "    Componente=sorted(nx.connected_components(GG), key=len, reverse=True)[:5]\n",
    "    Tamano_year=[]\n",
    "    Campo_year=[]\n",
    "    if len(Componente)>4:\n",
    "        for j in range(5):\n",
    "            GGsub=GG.subgraph(Componente[j])\n",
    "            Tamano_year.append(len(GGsub))\n",
    "            campo=[]\n",
    "            for node in GGsub.nodes():\n",
    "                try:\n",
    "                    campo.append(GGsub.nodes[node]['campo'])\n",
    "                except KeyError:\n",
    "                    pass\n",
    "            Campo_year.append(Counter(campo))\n",
    "        Campos_year.update({year:Campo_year})\n",
    "        Tamanos_year.update({year:Tamano_year})\n",
    "        years.append(int(year))"
   ]
  },
  {
   "cell_type": "code",
   "execution_count": 94,
   "metadata": {},
   "outputs": [
    {
     "data": {
      "image/png": "[encoded data removed]",
      "text/plain": [
       "<Figure size 432x288 with 1 Axes>"
      ]
     },
     "metadata": {},
     "output_type": "display_data"
    }
   ],
   "source": [
    "for year in Tamanos_year.keys():\n",
    "    plt.semilogy(int(year),len(G_year[year]),'o')\n",
    "    for compo in Tamanos_year[year]:  \n",
    "        plt.semilogy(int(year),compo,'o')\n",
    "plt.xlabel('Año');plt.ylabel('Tamaño Red');plt.show()"
   ]
  },
  {
   "cell_type": "code",
   "execution_count": 96,
   "metadata": {},
   "outputs": [
    {
     "ename": "AttributeError",
     "evalue": "'list' object has no attribute 'keys'",
     "output_type": "error",
     "traceback": [
      "\u001b[1;31m---------------------------------------------------------------------------\u001b[0m",
      "\u001b[1;31mAttributeError\u001b[0m                            Traceback (most recent call last)",
      "\u001b[1;32m<ipython-input-96-0c0cfd22a551>\u001b[0m in \u001b[0;36m<module>\u001b[1;34m()\u001b[0m\n\u001b[0;32m      1\u001b[0m \u001b[1;32mfor\u001b[0m \u001b[0myear\u001b[0m \u001b[1;32min\u001b[0m \u001b[0mCampos_year\u001b[0m\u001b[1;33m.\u001b[0m\u001b[0mkeys\u001b[0m\u001b[1;33m(\u001b[0m\u001b[1;33m)\u001b[0m\u001b[1;33m:\u001b[0m\u001b[1;33m\u001b[0m\u001b[0m\n\u001b[1;32m----> 2\u001b[1;33m     \u001b[1;32mfor\u001b[0m \u001b[0mcampo\u001b[0m \u001b[1;32min\u001b[0m \u001b[0mCampos_year\u001b[0m\u001b[1;33m[\u001b[0m\u001b[0myear\u001b[0m\u001b[1;33m]\u001b[0m\u001b[1;33m.\u001b[0m\u001b[0mkeys\u001b[0m\u001b[1;33m(\u001b[0m\u001b[1;33m)\u001b[0m\u001b[1;33m:\u001b[0m\u001b[1;33m\u001b[0m\u001b[0m\n\u001b[0m\u001b[0;32m      3\u001b[0m         \u001b[0mplt\u001b[0m\u001b[1;33m.\u001b[0m\u001b[0msemilogy\u001b[0m\u001b[1;33m(\u001b[0m\u001b[0mint\u001b[0m\u001b[1;33m(\u001b[0m\u001b[0myear\u001b[0m\u001b[1;33m)\u001b[0m\u001b[1;33m,\u001b[0m\u001b[0mCampos_year\u001b[0m\u001b[1;33m[\u001b[0m\u001b[0myear\u001b[0m\u001b[1;33m]\u001b[0m\u001b[1;33m[\u001b[0m\u001b[0mcampo\u001b[0m\u001b[1;33m]\u001b[0m\u001b[1;33m,\u001b[0m\u001b[1;34m'o'\u001b[0m\u001b[1;33m)\u001b[0m\u001b[1;33m\u001b[0m\u001b[0m\n\u001b[0;32m      4\u001b[0m \u001b[0mplt\u001b[0m\u001b[1;33m.\u001b[0m\u001b[0mxlabel\u001b[0m\u001b[1;33m(\u001b[0m\u001b[1;34m'Año'\u001b[0m\u001b[1;33m)\u001b[0m\u001b[1;33m;\u001b[0m\u001b[0mplt\u001b[0m\u001b[1;33m.\u001b[0m\u001b[0mylabel\u001b[0m\u001b[1;33m(\u001b[0m\u001b[1;34m'Tamaño Campo'\u001b[0m\u001b[1;33m)\u001b[0m\u001b[1;33m;\u001b[0m\u001b[0mplt\u001b[0m\u001b[1;33m.\u001b[0m\u001b[0mlegend\u001b[0m\u001b[1;33m(\u001b[0m\u001b[1;33m)\u001b[0m\u001b[1;33m\u001b[0m\u001b[0m\n",
      "\u001b[1;31mAttributeError\u001b[0m: 'list' object has no attribute 'keys'"
     ]
    }
   ],
   "source": [
    "for year in Campos_year.keys():\n",
    "    for campo in Campos_year[year].keys():\n",
    "        plt.semilogy(int(year),Campos_year[year][campo],'o')\n",
    "plt.xlabel('Año');plt.ylabel('Tamaño Campo');plt.legend()    \n"
   ]
  },
  {
   "cell_type": "code",
   "execution_count": 99,
   "metadata": {},
   "outputs": [
    {
     "data": {
      "text/plain": [
       "116784"
      ]
     },
     "execution_count": 99,
     "metadata": {},
     "output_type": "execute_result"
    }
   ],
   "source": [
    "Campos_year['2018'][0][\"'Mathematics'\"]"
   ]
  },
  {
   "cell_type": "code",
   "execution_count": null,
   "metadata": {},
   "outputs": [],
   "source": []
  }
 ],
 "metadata": {
  "kernelspec": {
   "display_name": "Python 3",
   "language": "python",
   "name": "python3"
  },
  "language_info": {
   "codemirror_mode": {
    "name": "ipython",
    "version": 3
   },
   "file_extension": ".py",
   "mimetype": "text/x-python",
   "name": "python",
   "nbconvert_exporter": "python",
   "pygments_lexer": "ipython3",
   "version": "3.6.5"
  }
 },
 "nbformat": 4,
 "nbformat_minor": 2
}

{
 "cells": [
  {
   "cell_type": "code",
   "execution_count": 1,
   "metadata": {},
   "outputs": [],
   "source": [
    "import numpy as np\n",
    "import ast\n",
    "import networkx as nx\n",
    "import matplotlib.pyplot as plt\n",
    "from collections import Counter\n",
    "import matplotlib.cm as cmx\n",
    "# For color mapping\n",
    "import matplotlib.colors as colors\n",
    "from operator import itemgetter\n",
    "\n",
    "directorio=\"D:\\\\Para procesar\\\\Académica\\\\Ciencias Físicas\\\\Doctorado\\\\Materias\\\\Redes complejas\\\\Trabajos_prácticos\\\\Practica_computacional\\\\\"#Redes\\\\\"\n",
    "#directorio='G:\\\\Redes\\\\'\n",
    "version=1"
   ]
  },
  {
   "cell_type": "code",
   "execution_count": 2,
   "metadata": {},
   "outputs": [],
   "source": [
    "def frequency(Lista):\n",
    "    grupo={}\n",
    "    for line in range(len(Lista)):\n",
    "        try:\n",
    "            b=grupo[Lista[line]]\n",
    "            b+=1\n",
    "            grupo.update({Lista[line]:b})\n",
    "        except:\n",
    "            grupo[Lista[line]]=1\n",
    "    return(grupo)"
   ]
  },
  {
   "cell_type": "code",
   "execution_count": 3,
   "metadata": {},
   "outputs": [
    {
     "name": "stdout",
     "output_type": "stream",
     "text": [
      "117650 111957\n"
     ]
    }
   ],
   "source": [
    "# Cargamos una red previamente guardada en un archivo\n",
    "\n",
    "N=10000000\n",
    "i=0\n",
    "G=nx.DiGraph()\n",
    "archivo = open(directorio+'archivo_red_'+str(version)+'.txt','r',encoding='utf-8')\n",
    "for line in archivo:\n",
    "    i+=1\n",
    "    G.add_edges_from([(line.split()[0],line.split()[1])])\n",
    "    if i==N:\n",
    "        break\n",
    "archivo.close()\n",
    "print(len(G),i)"
   ]
  },
  {
   "cell_type": "code",
   "execution_count": 4,
   "metadata": {},
   "outputs": [],
   "source": [
    "GG=G.to_undirected()\n",
    "Componente_INT=sorted(nx.connected_components(GG), key=len, reverse=True)\n",
    "Componentes=[]\n",
    "\n",
    "for i in Componente_INT:\n",
    "    Componentes.append(G.subgraph(i))"
   ]
  },
  {
   "cell_type": "code",
   "execution_count": 5,
   "metadata": {},
   "outputs": [
    {
     "name": "stdout",
     "output_type": "stream",
     "text": [
      "190492\n"
     ]
    }
   ],
   "source": [
    "# Se abre el archivo de atributos que necesitamos y se almacenan las frecuencias en la variables \"fos\"\n",
    "\n",
    "archivo = open(directorio+'archivo_fos_'+str(version)+'.txt','r',encoding='utf-8')\n",
    "i=0\n",
    "j=0\n",
    "\n",
    "fos = {}\n",
    "for line in archivo:\n",
    "    j+=1\n",
    "    i+=1\n",
    "    a=line.split('[')[1].split(']')[0].split(', ')\n",
    "    for tag in range(len(a)):\n",
    "            try:\n",
    "                b=fos[a[tag]]\n",
    "                b+=1\n",
    "                fos.update({a[tag]:b})\n",
    "            except:\n",
    "                fos[a[tag]]=1\n",
    "    if i==N:\n",
    "        break\n",
    "print(j)\n",
    "archivo.close()"
   ]
  },
  {
   "cell_type": "code",
   "execution_count": 6,
   "metadata": {},
   "outputs": [],
   "source": [
    "# Cargamos los atributos a cada uno de los nodos\n",
    "\n",
    "archivo = open(directorio+'archivo_fos_'+str(version)+'.txt','r',encoding='utf-8')\n",
    "\n",
    "i=0\n",
    "j=0\n",
    "for line in archivo:\n",
    "    i+=1\n",
    "    a=line.split('[')[1].split(']')[0].split(', ')\n",
    "    freq=np.zeros(len(a))\n",
    "    try:\n",
    "        for k in range(len(a)):\n",
    "            freq[k]=fos[a[k]]\n",
    "        key=a[np.argmax(freq)]    \n",
    "        G.node[line.split()[0]]['campo']=key\n",
    "        j+=1\n",
    "    except KeyError:\n",
    "        pass\n",
    "    if i==N:\n",
    "        break\n",
    "archivo.close()"
   ]
  },
  {
   "cell_type": "code",
   "execution_count": 76,
   "metadata": {},
   "outputs": [],
   "source": [
    "def number_tags(fre_sorted,limit):\n",
    "    frqp=[]\n",
    "    frq = []\n",
    "    for i in range(len(fre_sorted)):\n",
    "        frq.append(fre_sorted[i][1])\n",
    "    sum(frq)\n",
    "    for i in range(len(fre_sorted)):\n",
    "        frqp.append(fre_sorted[i][1])\n",
    "        if np.divide(sum(frqp),sum(frq))<=limit:\n",
    "            pass\n",
    "        else:\n",
    "            #print(i)\n",
    "            break\n",
    "    return(i,sum(frqp))\n"
   ]
  },
  {
   "cell_type": "code",
   "execution_count": 8,
   "metadata": {},
   "outputs": [
    {
     "name": "stdout",
     "output_type": "stream",
     "text": [
      "190492\n"
     ]
    }
   ],
   "source": [
    "# Se abre el archivo de atributos que necesitamos y se almacenan las frecuencias en la variables \"keys\"\n",
    "\n",
    "archivo = open(directorio+'archivo_keywords_'+str(version)+'.txt','r',encoding='utf-8')\n",
    "i=0\n",
    "j=0\n",
    "\n",
    "keys = {}\n",
    "for line in archivo:\n",
    "    j+=1\n",
    "    i+=1\n",
    "    a=line.split('[')[1].split(']')[0].split(', ')\n",
    "    for tag in range(len(a)):\n",
    "            try:\n",
    "                b=keys[a[tag]]\n",
    "                b+=1\n",
    "                keys.update({a[tag]:b})\n",
    "            except:\n",
    "                keys[a[tag]]=1\n",
    "    if i==N:\n",
    "        break\n",
    "print(j)\n",
    "archivo.close()"
   ]
  },
  {
   "cell_type": "code",
   "execution_count": 9,
   "metadata": {},
   "outputs": [],
   "source": [
    "fre_sorted_1 = sorted(keys.items(), key=lambda kv: kv[1],reverse=True)"
   ]
  },
  {
   "cell_type": "markdown",
   "metadata": {},
   "source": [
    "##### Calculamos las frecuencias y la cantidad de etiquetas que cubren una cierta proporción de papers en el total de la commponente conectada que se esté analizando"
   ]
  },
  {
   "cell_type": "code",
   "execution_count": 10,
   "metadata": {},
   "outputs": [],
   "source": [
    "lista_nodos=list(Componentes[0].nodes())\n",
    "pila=[]\n",
    "for i in lista_nodos:\n",
    "    pila.append(G.node[i]['campo'])"
   ]
  },
  {
   "cell_type": "code",
   "execution_count": 11,
   "metadata": {},
   "outputs": [],
   "source": [
    "# Creamos un diagrama de frecuencia de los campos en la componente comp-\n",
    "comp=0\n",
    "lista_comp=[]\n",
    "for paper in Componentes[comp]:\n",
    "    lista_comp.append(Componentes[comp].node[paper]['campo'])\n",
    "freq_comp = frequency(lista_comp)\n",
    "\n",
    "fre_sorted_comp = sorted(freq_comp.items(), key=lambda kv: kv[1],reverse=True)"
   ]
  },
  {
   "cell_type": "code",
   "execution_count": 77,
   "metadata": {},
   "outputs": [
    {
     "name": "stdout",
     "output_type": "stream",
     "text": [
      "(14, 111781)\n"
     ]
    }
   ],
   "source": [
    "print(number_tags(fre_sorted_comp,.95))"
   ]
  },
  {
   "cell_type": "markdown",
   "metadata": {},
   "source": [
    "### Detectar potenciales clasicos\n",
    "\n",
    "Se define la funcion \"grado_nodos_red\" que encuentra los \"n\" nodos de mayor grado y los ordena de mayor a menor, contando la cantidad de citas que tiene cada nodo. \n",
    " "
   ]
  },
  {
   "cell_type": "code",
   "execution_count": 192,
   "metadata": {},
   "outputs": [],
   "source": [
    "def grado_nodos_red(G,n):\n",
    "\n",
    "    fre_sorted_2 = sorted(dict(G.in_degree()).items(), key=lambda kv: kv[1],reverse=True)\n",
    "    datos = []\n",
    "    hubs = []\n",
    "    for i in range(n):\n",
    "            hubs.append(fre_sorted_2[i][0])\n",
    "    for i in range(len(hubs)):\n",
    "        datos.append(str(G.node[hubs[i]]['campo'])+'-'+str(fre_sorted_2[i][1]))\n",
    "        \n",
    "    return hubs,datos"
   ]
  },
  {
   "cell_type": "code",
   "execution_count": 193,
   "metadata": {},
   "outputs": [],
   "source": [
    " h,d=grado_nodos_red(G,10)"
   ]
  },
  {
   "cell_type": "code",
   "execution_count": 196,
   "metadata": {},
   "outputs": [],
   "source": [
    "# Creamos un diagrama de frecuencia de los campos en la componente comp-\n",
    "comp=0\n",
    "lista_comp=[]\n",
    "for paper in G:\n",
    "    lista_comp.append(G.node[paper]['campo'])\n",
    "freq_comp = frequency(lista_comp)\n",
    "\n",
    "fre_sorted_comp = sorted(freq_comp.items(), key=lambda kv: kv[1],reverse=True)"
   ]
  },
  {
   "cell_type": "code",
   "execution_count": 78,
   "metadata": {},
   "outputs": [
    {
     "name": "stdout",
     "output_type": "stream",
     "text": [
      "(17, 113022)\n"
     ]
    }
   ],
   "source": [
    "print(number_tags(fre_sorted_comp,.96))"
   ]
  },
  {
   "cell_type": "markdown",
   "metadata": {},
   "source": [
    "### Graficar la red Ego\n",
    "\n",
    "Se define la función \"graficar_red_ego\" que toma una red GG y grafica la red ego correspondiente, centrada en aquel nodo de la red que tiene el mayor grado."
   ]
  },
  {
   "cell_type": "code",
   "execution_count": 74,
   "metadata": {},
   "outputs": [],
   "source": [
    "def graficar_red_ego(GG):\n",
    "    # find node with largest degree\n",
    "    node_and_degree=GG.degree()\n",
    "    (largest_hub,degree)=sorted(node_and_degree,key=itemgetter(1))[-1]\n",
    "    # Create ego graph of main hub\n",
    "    hub_ego=nx.ego_graph(GG,largest_hub,undirected=True)\n",
    "    # Draw graph\n",
    "    pos=nx.spring_layout(hub_ego)\n",
    "    nx.draw(hub_ego,pos,node_color='b',node_size=50,with_labels=False)\n",
    "    # Draw ego as large and red\n",
    "    nx.draw_networkx(hub_ego,pos,nodelist=[largest_hub],node_size=300,node_color='r',with_labels=False)\n",
    "    plt.savefig(directorio+'ego_graph.png')\n",
    "    plt.show()"
   ]
  },
  {
   "cell_type": "code",
   "execution_count": 75,
   "metadata": {},
   "outputs": [
    {
     "data": {
      "image/png": "[encoded data removed]",
      "text/plain": [
       "<Figure size 432x288 with 1 Axes>"
      ]
     },
     "metadata": {},
     "output_type": "display_data"
    }
   ],
   "source": [
    "graficar_red_ego(GG)"
   ]
  },
  {
   "cell_type": "markdown",
   "metadata": {},
   "source": [
    "### Fracción de edges interdisciplinarios"
   ]
  },
  {
   "cell_type": "markdown",
   "metadata": {},
   "source": [
    "La idea de esta parte del programa es tomar, para una dada red G, los edges de la red y determinar si esos edges conectan nodos del mismo campo o de distinto campo y luego tomar la fracción de edges distintos sobre el total"
   ]
  },
  {
   "cell_type": "code",
   "execution_count": 1,
   "metadata": {},
   "outputs": [],
   "source": [
    "def edges_interdisciplinarios(G):\n",
    "    count=0\n",
    "    Edges = list(G.edges())\n",
    "    for i in range(len(Edges)):\n",
    "        #print(str(G.node[Edges[i][0]]['campo'])+' - '+str(G.node[Edges[i][1]]['campo']))\n",
    "        if G.node[Edges[i][0]]['campo']!=G.node[Edges[i][1]]['campo']:\n",
    "            count+=1\n",
    "    return(np.divide(count,len(Edges)))"
   ]
  },
  {
   "cell_type": "code",
   "execution_count": 2,
   "metadata": {},
   "outputs": [
    {
     "ename": "NameError",
     "evalue": "name 'Componente' is not defined",
     "output_type": "error",
     "traceback": [
      "\u001b[1;31m---------------------------------------------------------------------------\u001b[0m",
      "\u001b[1;31mNameError\u001b[0m                                 Traceback (most recent call last)",
      "\u001b[1;32m<ipython-input-2-60a042711b7a>\u001b[0m in \u001b[0;36m<module>\u001b[1;34m()\u001b[0m\n\u001b[1;32m----> 1\u001b[1;33m \u001b[0medges_interdisciplinarios\u001b[0m\u001b[1;33m(\u001b[0m\u001b[0mComponente\u001b[0m\u001b[1;33m)\u001b[0m\u001b[1;33m\u001b[0m\u001b[0m\n\u001b[0m",
      "\u001b[1;31mNameError\u001b[0m: name 'Componente' is not defined"
     ]
    }
   ],
   "source": [
    "edges_interdisciplinarios(Componentes[800])"
   ]
  },
  {
   "cell_type": "markdown",
   "metadata": {},
   "source": [
    "### Subred de campos mayoritarios\n",
    "\n",
    "La idea acá es tomar una red G y conservar solo aquellos nodos que corresponden a los N campos de estudio que aparecen con mayor frecuencia.\n",
    "\n",
    "A continuación definimos la función \"red_filtrada_campos\", que toma una red G y el número n de campos más frecuentes y devuelve la red G' que queda luego de quitar los nodos sobrantes y recalcular la componente gigante, así como también devuelve la proporción de papers de la red original que quedan para el valor n seleccionado."
   ]
  },
  {
   "cell_type": "code",
   "execution_count": 171,
   "metadata": {},
   "outputs": [],
   "source": [
    "def red_filtrada_campos(G,n):\n",
    "    # Establecemos la lista de los campos que vamos a conservar\n",
    "    lista_comp=[]\n",
    "    subred=[]\n",
    "    for paper in G:\n",
    "        lista_comp.append(G.node[paper]['campo'])\n",
    "    freq_comp = frequency(lista_comp)\n",
    "    fre_sorted_comp = sorted(freq_comp.items(), key=lambda kv: kv[1],reverse=True)\n",
    "    if n == -1:\n",
    "        campos = set(dict(fre_sorted_comp[0:len(fre_sorted_comp)+1]).keys())\n",
    "    else:\n",
    "        campos = set(dict(fre_sorted_comp[0:n+1]).keys())\n",
    "   # print(len(campos))\n",
    "    for paper in G:\n",
    "        if G.node[paper]['campo'] in campos:\n",
    "            subred.append(paper)\n",
    "            \n",
    "    G1=G.subgraph(set(subred)).to_undirected()\n",
    "    Componente_INT=sorted(nx.connected_components(G1), key=len, reverse=True)       \n",
    "    return np.divide(len(Componente_INT[0]),len(G)),G.subgraph(Componente_INT[0])\n",
    "            "
   ]
  },
  {
   "cell_type": "code",
   "execution_count": 174,
   "metadata": {},
   "outputs": [
    {
     "name": "stdout",
     "output_type": "stream",
     "text": [
      "red - 60836\n",
      "0.9197021500427378\n"
     ]
    }
   ],
   "source": [
    "n=0\n",
    "a,b=red_filtrada_campos(Componentes[n],20)\n",
    "print('red - '+str(len(Componentes[n])))\n",
    "#print('red - '+str(len(probando)))\n",
    "print(a)"
   ]
  },
  {
   "cell_type": "markdown",
   "metadata": {},
   "source": [
    "### Reemplazar valor\n",
    "\n",
    "Se define la función \"reemplazar_valor\", que toma una red y reemplaza los valores del atributo \"atributo\", \"valor_viejo\" por los valores de \"valor_nuevo\". De ese modo, podremos reducir la cantidad de campos diversos de la lista de campos más frecuentes. Habrá que aplicar esta funcion valor por valor."
   ]
  },
  {
   "cell_type": "code",
   "execution_count": 183,
   "metadata": {},
   "outputs": [],
   "source": [
    "def reemplazar_valor(G,atributo,valor_viejo,valor_nuevo):\n",
    "    for paper in G:\n",
    "        if G.node[paper][atributo] == valor_viejo:\n",
    "            G.node[paper][atributo] = valor_nuevo\n"
   ]
  },
  {
   "cell_type": "code",
   "execution_count": null,
   "metadata": {},
   "outputs": [],
   "source": []
  }
 ],
 "metadata": {
  "kernelspec": {
   "display_name": "Python 3",
   "language": "python",
   "name": "python3"
  },
  "language_info": {
   "codemirror_mode": {
    "name": "ipython",
    "version": 3
   },
   "file_extension": ".py",
   "mimetype": "text/x-python",
   "name": "python",
   "nbconvert_exporter": "python",
   "pygments_lexer": "ipython3",
   "version": "3.6.5"
  }
 },
 "nbformat": 4,
 "nbformat_minor": 2
}

{
 "cells": [
  {
   "cell_type": "code",
   "execution_count": 1,
   "metadata": {},
   "outputs": [],
   "source": [
    "import numpy as np\n",
    "import ast\n",
    "import networkx as nx\n",
    "import matplotlib.pyplot as plt\n",
    "from collections import Counter\n",
    "import matplotlib.cm as cmx\n",
    "# For color mapping\n",
    "import matplotlib.colors as colors\n",
    "\n",
    "#directorio=\"D:\\\\Para procesar\\\\Académica\\\\Ciencias Físicas\\\\Doctorado\\\\Materias\\\\Redes complejas\\\\Trabajos_prácticos\\\\Practica_computacional\\\\\"\n",
    "directorio='G:\\\\Redes\\\\'\n",
    "version=1"
   ]
  },
  {
   "cell_type": "code",
   "execution_count": 2,
   "metadata": {},
   "outputs": [],
   "source": [
    "def frequency(Lista):\n",
    "    grupo={}\n",
    "    for line in range(len(Lista)):\n",
    "        try:\n",
    "            b=grupo[Lista[line]]\n",
    "            b+=1\n",
    "            grupo.update({Lista[line]:b})\n",
    "        except:\n",
    "            grupo[Lista[line]]=1\n",
    "    return(grupo)"
   ]
  },
  {
   "cell_type": "code",
   "execution_count": 3,
   "metadata": {},
   "outputs": [
    {
     "name": "stdout",
     "output_type": "stream",
     "text": [
      "110415 103456\n"
     ]
    }
   ],
   "source": [
    "# Cargamos una red previamente guardada en un archivo\n",
    "\n",
    "N=3000000\n",
    "i=0\n",
    "G=nx.DiGraph()\n",
    "archivo = open(directorio+'archivo_red_'+str(version)+'.txt','r',encoding='utf-8')\n",
    "for line in archivo:\n",
    "    i+=1\n",
    "    G.add_edges_from([(line.split()[0],line.split()[1])])\n",
    "    if i==N:\n",
    "        break\n",
    "archivo.close()\n",
    "print(len(G),i)"
   ]
  },
  {
   "cell_type": "code",
   "execution_count": 4,
   "metadata": {},
   "outputs": [],
   "source": [
    "# Separamos las componentes conectadas, al costo de volver a una red no dirigida\n",
    "\n",
    "GG=G.to_undirected()\n",
    "Componente_INT=sorted(nx.connected_components(GG), key=len, reverse=True)\n",
    "Componentes=[]\n",
    "\n",
    "for i in Componente_INT:\n",
    "    Componentes.append(GG.subgraph(i))"
   ]
  },
  {
   "cell_type": "code",
   "execution_count": 5,
   "metadata": {},
   "outputs": [],
   "source": [
    "# Se abre el archivo de atributos que necesitamos\n",
    "\n",
    "archivo = open(directorio+'archivo_fos_'+str(version)+'.txt','r',encoding='utf-8')\n",
    "i=0\n",
    "j=0\n",
    "N=1000000\n",
    "fos = {}\n",
    "for line in archivo:\n",
    "    i+=1\n",
    "    a=line.split('[')[1].split(']')[0].split(', ')\n",
    "    for tag in range(len(a)):\n",
    "            try:\n",
    "                b=fos[a[tag]]\n",
    "                b+=1\n",
    "                fos.update({a[tag]:b})\n",
    "            except:\n",
    "                fos[a[tag]]=1\n",
    "    if i==N:\n",
    "        break\n",
    "archivo.close()"
   ]
  },
  {
   "cell_type": "code",
   "execution_count": 6,
   "metadata": {},
   "outputs": [],
   "source": [
    "# Cargamos los atributos a cada uno de los nodos\n",
    "\n",
    "archivo = open(directorio+'archivo_fos_'+str(version)+'.txt','r',encoding='utf-8')\n",
    "i=0\n",
    "j=0\n",
    "for line in archivo:\n",
    "    i+=1\n",
    "    a=line.split('[')[1].split(']')[0].split(', ')\n",
    "    freq=np.zeros(len(a))\n",
    "    try:\n",
    "        for k in range(len(a)):\n",
    "            freq[k]=fos[a[k]]\n",
    "        key=a[np.argmax(freq)]    \n",
    "        G.node[line.split()[0]]['campo']=key\n",
    "        j+=1\n",
    "    except KeyError:\n",
    "        pass\n",
    "    if i==N:\n",
    "        break\n",
    "archivo.close()"
   ]
  },
  {
   "cell_type": "code",
   "execution_count": 7,
   "metadata": {},
   "outputs": [],
   "source": [
    "def graficar_componente(G,comp,atributo,ancho):\n",
    "    #comp=comp-1\n",
    "    GG=[]\n",
    "    GG=G.to_undirected()\n",
    "    Componente_INT=sorted(nx.connected_components(GG), key=len, reverse=True)\n",
    "    prueba_red=[]\n",
    "    prueba_red=Componente_INT[comp].copy()\n",
    "\n",
    "    Componente=G.subgraph(Componentes[comp:comp+1][0])\n",
    "    campos_list=[]\n",
    "\n",
    "    Componente=G.subgraph(Componentes[comp:comp+1][0])\n",
    "    val_map = {}\n",
    "    campos_list=[]\n",
    "\n",
    "\n",
    "    for paper in Componente:\n",
    "        campos_list.append(Componente.node[paper][atributo])\n",
    "        val_map.update({paper: Componente.node[paper][atributo]})\n",
    "    \n",
    "    grupo={}\n",
    "    \n",
    "    x={}\n",
    "    sorted_by_value = []\n",
    "    \n",
    "    if atributo == 'year':\n",
    "        y={}\n",
    "        x=frequency(campos_list)\n",
    "        \n",
    "        for line in x.keys():\n",
    "            y[line]=line\n",
    "        sorted_by_value = sorted(y.items(), key=lambda kv: kv[1],reverse=True)\n",
    "    else:   \n",
    "        x=frequency(campos_list)\n",
    "        sorted_by_value = sorted(x.items(), key=lambda kv: kv[1],reverse=True)\n",
    "    \n",
    "    cmap =[]\n",
    "    cmap = cmx.rainbow(np.linspace(0.0, 1.0, len(sorted_by_value)))\n",
    "    \n",
    "    keys={}\n",
    "    #keys=sorted_by_value\n",
    "    conversion={}\n",
    "    for i in range(len(sorted_by_value)):\n",
    "        conversion.update({sorted_by_value[i][0]: cmap[i]})\n",
    "   # print(conversion)\n",
    "\n",
    "    color_map =[]  \n",
    "\n",
    "    for paper in campos_list:\n",
    "        color_map.append(conversion[paper])\n",
    "    #print(campos_list)\n",
    "    \n",
    "    options = {\n",
    "    'node_size': 85,\n",
    "    'width': 3,\n",
    "    }\n",
    "    pos=nx.kamada_kawai_layout(Componente)\n",
    "    \n",
    "    # Using a figure to use it as a parameter when calling nx.draw_networkx\n",
    "    f = plt.figure(1)\n",
    "    ax = f.add_subplot(1,1,1)\n",
    "    for label in conversion:\n",
    "        #pass\n",
    "        ax.plot([ancho],[1],color=conversion[label],label=label,linestyle='',marker='.')\n",
    "        ax.legend(loc=\"lower right\", bbox_to_anchor=(0.6,0.5))\n",
    "    # Just fixed the color map\n",
    "    nx.draw_networkx(Componente,pos, node_color=color_map,with_labels=False,ax=ax, **options)\n",
    "\n",
    "    # Setting it to how it was looking before.                                                                                                              \n",
    "    plt.axis('off')\n",
    "    f.set_facecolor('w')\n",
    "\n",
    "    plt.legend(numpoints = 1)\n",
    "\n",
    "    f.tight_layout()\n",
    "    plt.show()"
   ]
  },
  {
   "cell_type": "code",
   "execution_count": 8,
   "metadata": {},
   "outputs": [],
   "source": [
    "archivo = open(directorio+'archivo_venue_'+str(version)+'.txt','r',encoding='utf-8')\n",
    "i=0\n",
    "for line in archivo:\n",
    "    i+=1\n",
    "    try:\n",
    "        G.node[line.split()[0]]['venue']=' '.join(line.split()[1:len(line)-1])\n",
    "        #print(' '.join(line.split()[1:len(line)-1]))\n",
    "    except KeyError:\n",
    "        pass\n",
    "    if i==N:\n",
    "        break\n",
    "archivo.close()"
   ]
  },
  {
   "cell_type": "code",
   "execution_count": 9,
   "metadata": {},
   "outputs": [
    {
     "name": "stdout",
     "output_type": "stream",
     "text": [
      "1982\n"
     ]
    }
   ],
   "source": [
    "archivo = open(directorio+'archivo_year_'+str(version)+'.txt','r',encoding='utf-8')\n",
    "i=0\n",
    "for line in archivo:\n",
    "    i+=1\n",
    "    if line.split()[0]==\"ff1c14bf-1682-4703-b7bd-625810c45808\":\n",
    "        print(int(line.split()[1]))\n",
    "    try:\n",
    "        G.node[line.split()[0]]['year']=int(line.split()[1])\n",
    "    except KeyError:\n",
    "        pass\n",
    "    if i==N:\n",
    "        break\n",
    "archivo.close()"
   ]
  },
  {
   "cell_type": "code",
   "execution_count": 10,
   "metadata": {},
   "outputs": [
    {
     "data": {
      "image/png": "[encoded data removed]",
      "text/plain": [
       "<Figure size 432x288 with 1 Axes>"
      ]
     },
     "metadata": {},
     "output_type": "display_data"
    }
   ],
   "source": [
    "graficar_componente(G,800,'year',4)"
   ]
  },
  {
   "cell_type": "code",
   "execution_count": null,
   "metadata": {},
   "outputs": [],
   "source": []
  }
 ],
 "metadata": {
  "kernelspec": {
   "display_name": "Python 3",
   "language": "python",
   "name": "python3"
  },
  "language_info": {
   "codemirror_mode": {
    "name": "ipython",
    "version": 3
   },
   "file_extension": ".py",
   "mimetype": "text/x-python",
   "name": "python",
   "nbconvert_exporter": "python",
   "pygments_lexer": "ipython3",
   "version": "3.6.5"
  }
 },
 "nbformat": 4,
 "nbformat_minor": 2
}

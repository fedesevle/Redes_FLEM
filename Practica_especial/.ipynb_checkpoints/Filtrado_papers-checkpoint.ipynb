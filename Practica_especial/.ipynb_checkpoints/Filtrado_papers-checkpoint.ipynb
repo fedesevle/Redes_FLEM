{
 "cells": [
  {
   "cell_type": "code",
   "execution_count": null,
   "metadata": {},
   "outputs": [],
   "source": [
    "import numpy as np\n",
    "import ast\n",
    "import networkx as nx\n",
    "import matplotlib.pyplot as plt"
   ]
  },
  {
   "cell_type": "code",
   "execution_count": null,
   "metadata": {},
   "outputs": [],
   "source": [
    "R = open('D:\\Para procesar\\Académica\\Ciencias Físicas\\Doctorado\\Materias\\Redes complejas\\Trabajos_prácticos\\Practica_computacional\\mag_papers_166.txt', 'r') \n",
    "N = 999999\n",
    "i = 0\n",
    "doctype=[]\n",
    "paper_conjuntos = []\n",
    "\n",
    "for line in R:\n",
    "    paper=ast.literal_eval(line)\n",
    "    try:\n",
    "        doctype.append(paper['doc_type'])\n",
    "        if paper['doc_type']=='Journal':\n",
    "            paper_conjuntos.append(paper)\n",
    "    except KeyError:\n",
    "        doctype.append(0)\n",
    "    i+=1\n",
    "    if i==N:\n",
    "        break\n",
    "R.close()\n",
    "\n",
    "paper_conjuntos_1 = []\n",
    "\n",
    "for line in range(len(paper_conjuntos)):\n",
    "    #paper=ast.literal_eval(line)\n",
    "    try:\n",
    "        paper_conjuntos[line]['fos']\n",
    "        paper_conjuntos_1.append(paper_conjuntos[line])\n",
    "    except KeyError:\n",
    "        print()\n",
    "        \n",
    "    i+=1\n",
    "    if i==N:\n",
    "        break\n",
    "\n",
    "paper_conjuntos_2 = []\n",
    "\n",
    "for line in range(len(paper_conjuntos_1)):\n",
    "    #paper=ast.literal_eval(line)\n",
    "    try:\n",
    "        paper_conjuntos[line]['references']\n",
    "        paper_conjuntos_2.append(paper_conjuntos_1[line])\n",
    "    except KeyError:\n",
    "        print()\n",
    "        \n",
    "    i+=1\n",
    "    if i==N:\n",
    "        break        \n",
    "\n",
    "# Esta última parte hace un raconto de las revistas para después hacer análisis de frecuencias.\n",
    "\n",
    "journals=[]\n",
    "\n",
    "for line in range(len(paper_conjuntos_2)):\n",
    "    try:\n",
    "        b=paper_conjuntos_2[line]['venue']\n",
    "        journals.append(b)\n",
    "    except KeyError:\n",
    "        journals.append(0)\n",
    "    i+=1\n",
    "    if i==N:\n",
    "        break      "
   ]
  },
  {
   "cell_type": "code",
   "execution_count": null,
   "metadata": {},
   "outputs": [],
   "source": []
  },
  {
   "cell_type": "code",
   "execution_count": null,
   "metadata": {},
   "outputs": [],
   "source": [
    "# Esto es para crear la red de citas. No tarda mucho en correr.\n",
    "\n",
    "N = 20000\n",
    "i = 0\n",
    "G = nx.DiGraph() # Red Dirigida\n",
    "for line in range(len(paper_conjuntos_2)):\n",
    "    try:\n",
    "        for cita in paper_conjuntos_2[line]['references']:                                                                                                                                                                                                                                                                                                                                                                       \n",
    "            G.add_edge(paper_conjuntos_2[line]['id'],cita)\n",
    "    except KeyError:\n",
    "        G.add_node(paper_conjuntos_2[line]['id'])\n",
    "    #nx.set_node_attributes(G, 'year', {paper['id']:paper['year']})\n",
    "    nx.set_node_attributes(G, {paper_conjuntos_2[line]['id']:{'year':paper_conjuntos_2[line]['year']}})\n",
    "    i+=1\n",
    "    if i==N:\n",
    "        break"
   ]
  },
  {
   "cell_type": "code",
   "execution_count": null,
   "metadata": {},
   "outputs": [],
   "source": [
    "# Esto es obviamente para graficar la red. Cuidado porque tarda una banda.\n",
    "\n",
    "options = {\n",
    "'node_size': 20,\n",
    "'width': 0.01,\n",
    "}\n",
    "nx.draw(G,node_color = 'violet', **options)\n",
    "plt.show()"
   ]
  }
 ],
 "metadata": {
  "kernelspec": {
   "display_name": "Python 3",
   "language": "python",
   "name": "python3"
  },
  "language_info": {
   "codemirror_mode": {
    "name": "ipython",
    "version": 3
   },
   "file_extension": ".py",
   "mimetype": "text/x-python",
   "name": "python",
   "nbconvert_exporter": "python",
   "pygments_lexer": "ipython3",
   "version": "3.5.2"
  }
 },
 "nbformat": 4,
 "nbformat_minor": 2
}

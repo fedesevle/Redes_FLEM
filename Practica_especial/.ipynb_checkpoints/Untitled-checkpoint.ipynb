{
 "cells": [
  {
   "cell_type": "code",
   "execution_count": 232,
   "metadata": {},
   "outputs": [],
   "source": [
    "import numpy as np\n",
    "import ast\n",
    "import networkx as nx\n",
    "import matplotlib.pyplot as plt\n",
    "from collections import Counter\n",
    "import matplotlib.cm as cmx\n",
    "# For color mapping\n",
    "import matplotlib.colors as colors\n",
    "\n",
    "directorio='G:\\\\Redes\\\\'\n",
    "version=1"
   ]
  },
  {
   "cell_type": "code",
   "execution_count": 138,
   "metadata": {},
   "outputs": [
    {
     "name": "stdout",
     "output_type": "stream",
     "text": [
      "110415 103456\n"
     ]
    }
   ],
   "source": [
    "N=3000000\n",
    "i=0\n",
    "G=nx.DiGraph()\n",
    "archivo = open(directorio+'archivo_red_'+str(version)+'.txt','r',encoding='utf-8')\n",
    "for line in archivo:\n",
    "    i+=1\n",
    "    G.add_edges_from([(line.split()[0],line.split()[1])])\n",
    "    if i==N:\n",
    "        break\n",
    "archivo.close()\n",
    "print(len(G),i)"
   ]
  },
  {
   "cell_type": "code",
   "execution_count": 139,
   "metadata": {},
   "outputs": [],
   "source": [
    "GG=G.to_undirected()\n",
    "Componente_INT=sorted(nx.connected_components(GG), key=len, reverse=True)\n",
    "Componentes=[]\n",
    "\n",
    "for i in Componente_INT:\n",
    "    Componentes.append(GG.subgraph(i))"
   ]
  },
  {
   "cell_type": "code",
   "execution_count": 140,
   "metadata": {},
   "outputs": [],
   "source": [
    "archivo = open(directorio+'archivo_fos_'+str(version)+'.txt','r',encoding='utf-8')\n",
    "i=0\n",
    "j=0\n",
    "N=1000000\n",
    "fos = {}\n",
    "for line in archivo:\n",
    "    i+=1\n",
    "    a=line.split('[')[1].split(']')[0].split(', ')\n",
    "    for tag in range(len(a)):\n",
    "            try:\n",
    "                b=fos[a[tag]]\n",
    "                b+=1\n",
    "                fos.update({a[tag]:b})\n",
    "            except:\n",
    "                fos[a[tag]]=1\n",
    "    if i==N:\n",
    "        break\n",
    "archivo.close()"
   ]
  },
  {
   "cell_type": "code",
   "execution_count": 141,
   "metadata": {},
   "outputs": [],
   "source": [
    "#version=1\n",
    "archivo = open(directorio+'archivo_fos_'+str(version)+'.txt','r',encoding='utf-8')\n",
    "i=0\n",
    "j=0\n",
    "for line in archivo:\n",
    "    i+=1\n",
    "    a=line.split('[')[1].split(']')[0].split(', ')\n",
    "    freq=np.zeros(len(a))\n",
    "    try:\n",
    "        for k in range(len(a)):\n",
    "            freq[k]=fos[a[k]]\n",
    "        key=a[np.argmax(freq)]    \n",
    "        G.node[line.split()[0]]['campo']=key\n",
    "        j+=1\n",
    "    except KeyError:\n",
    "        pass\n",
    "    if i==N:\n",
    "        break\n",
    "archivo.close()"
   ]
  },
  {
   "cell_type": "code",
   "execution_count": 200,
   "metadata": {},
   "outputs": [],
   "source": [
    "#cmap=plt.cm.rainbow\n",
    "comp=4\n",
    "prueba_red=Componente_INT[comp]\n",
    "\n",
    "campos_list=[]\n",
    "\n",
    "for paper in prueba_red:\n",
    "    campos_list.append(G.node[paper]['campo'])"
   ]
  },
  {
   "cell_type": "code",
   "execution_count": 201,
   "metadata": {},
   "outputs": [],
   "source": [
    "def frequency(Lista):\n",
    "    for line in range(len(Lista)):\n",
    "        try:\n",
    "            b=grupo[Lista[line]]\n",
    "            b+=1\n",
    "            grupo.update({Lista[line]:b})\n",
    "        except:\n",
    "            grupo[Lista[line]]=1\n",
    "    return(grupo)"
   ]
  },
  {
   "cell_type": "code",
   "execution_count": 202,
   "metadata": {},
   "outputs": [],
   "source": [
    "grupo={}\n",
    "x=frequency(campos_list)\n",
    "sorted_by_value = sorted(x.items(), key=lambda kv: kv[1],reverse=True)"
   ]
  },
  {
   "cell_type": "code",
   "execution_count": 203,
   "metadata": {},
   "outputs": [],
   "source": [
    "cmap = cmx.rainbow(np.linspace(0.0, 1.0, len(sorted_by_value)))"
   ]
  },
  {
   "cell_type": "code",
   "execution_count": 204,
   "metadata": {},
   "outputs": [],
   "source": [
    "keys=sorted_by_value\n",
    "conversion={}\n",
    "for i in range(len(sorted_by_value)):\n",
    "    conversion.update({sorted_by_value[i][0]: cmap[i]})\n",
    "\n",
    "color_map =[]  \n",
    "\n",
    "for paper in campos_list:\n",
    "    color_map.append(conversion[paper])"
   ]
  },
  {
   "cell_type": "code",
   "execution_count": 205,
   "metadata": {},
   "outputs": [],
   "source": [
    "val_map = {}\n",
    "Lista_nodos =list(Componente_INT[comp])\n",
    "for i in range(len(list(Componente_INT[comp]))):\n",
    "    val_map.update({Lista_nodos[i]: color_map[i]})"
   ]
  },
  {
   "cell_type": "code",
   "execution_count": 206,
   "metadata": {},
   "outputs": [
    {
     "data": {
      "image/png": "[encoded data removed]",
      "text/plain": [
       "<Figure size 432x288 with 1 Axes>"
      ]
     },
     "metadata": {},
     "output_type": "display_data"
    }
   ],
   "source": [
    "# You were missing the position.\n",
    "options = {\n",
    "'node_size': 25,\n",
    "'width': 1,\n",
    "}\n",
    "pos=nx.spring_layout(Componentes[comp+1:comp+2][0])\n",
    "#val_map = {'kind1': 2,'kind2': 2,'kind3': 2,'kind4': 1,'kind5':4,'kind6': 3}\n",
    "#I had this list for the name corresponding t the color but different from the node name\n",
    "#ColorLegend = {'Obsolete': 2,'Initialisation': 1,'Draft': 4,'Release': 3}\n",
    "values = [val_map.get(node, 0) for node in Componentes[comp+1:comp+2][0].nodes()]\n",
    "# Color mapping\n",
    "jet = cm = plt.get_cmap('jet')\n",
    "cNorm  = colors.Normalize(vmin=0, vmax=max(values))\n",
    "scalarMap = cmx.ScalarMappable(norm=cNorm, cmap=jet)\n",
    "\n",
    "# Using a figure to use it as a parameter when calling nx.draw_networkx\n",
    "f = plt.figure(1)\n",
    "ax = f.add_subplot(1,1,1)\n",
    "for label in conversion:\n",
    "    #ax.plot([0],[0],color=scalarMap.to_rgba(conversion[label]),label=label,linestyle='',marker='.')\n",
    "    ax.plot([2],[1],color=conversion[label],label=label,linestyle='',marker='.')\n",
    "    ax.legend(loc=\"lower right\", bbox_to_anchor=(0.6,0.5))\n",
    "# Just fixed the color map\n",
    "nx.draw_networkx(Componentes[comp+1:comp+2][0],pos, cmap = jet, vmin=0, vmax= max(values),node_color=color_map,with_labels=False,ax=ax, **options)\n",
    "\n",
    "# Setting it to how it was looking before.                                                                                                              \n",
    "plt.axis('off')\n",
    "f.set_facecolor('w')\n",
    "\n",
    "plt.legend(numpoints = 1)\n",
    "\n",
    "f.tight_layout()\n",
    "plt.show()"
   ]
  },
  {
   "cell_type": "code",
   "execution_count": 210,
   "metadata": {},
   "outputs": [],
   "source": [
    "Componente=G.subgraph(Componentes[comp+1:comp+2][0])"
   ]
  },
  {
   "cell_type": "code",
   "execution_count": 228,
   "metadata": {},
   "outputs": [
    {
     "ename": "NameError",
     "evalue": "name 'hierarchy_pos' is not defined",
     "output_type": "error",
     "traceback": [
      "\u001b[1;31m---------------------------------------------------------------------------\u001b[0m",
      "\u001b[1;31mNameError\u001b[0m                                 Traceback (most recent call last)",
      "\u001b[1;32m<ipython-input-228-a1a8c228f444>\u001b[0m in \u001b[0;36m<module>\u001b[1;34m()\u001b[0m\n\u001b[0;32m      1\u001b[0m \u001b[1;31m#pos=nx.kamada_kawai_layout(Componente)\u001b[0m\u001b[1;33m\u001b[0m\u001b[1;33m\u001b[0m\u001b[0m\n\u001b[1;32m----> 2\u001b[1;33m \u001b[0mpos\u001b[0m \u001b[1;33m=\u001b[0m \u001b[0mhierarchy_pos\u001b[0m\u001b[1;33m(\u001b[0m\u001b[0mComponente\u001b[0m\u001b[1;33m,\u001b[0m\u001b[1;36m1\u001b[0m\u001b[1;33m)\u001b[0m\u001b[1;33m\u001b[0m\u001b[0m\n\u001b[0m\u001b[0;32m      3\u001b[0m \u001b[0mnx\u001b[0m\u001b[1;33m.\u001b[0m\u001b[0mdraw_networkx\u001b[0m\u001b[1;33m(\u001b[0m\u001b[0mComponente\u001b[0m\u001b[1;33m,\u001b[0m\u001b[0mpos\u001b[0m\u001b[1;33m=\u001b[0m\u001b[0mpos\u001b[0m\u001b[1;33m,\u001b[0m \u001b[0mwith_labels\u001b[0m\u001b[1;33m=\u001b[0m\u001b[1;32mFalse\u001b[0m\u001b[1;33m,\u001b[0m \u001b[1;33m**\u001b[0m\u001b[0moptions\u001b[0m\u001b[1;33m)\u001b[0m\u001b[1;33m\u001b[0m\u001b[0m\n",
      "\u001b[1;31mNameError\u001b[0m: name 'hierarchy_pos' is not defined"
     ]
    }
   ],
   "source": [
    "#pos=nx.kamada_kawai_layout(Componente)\n",
    "pos = hierarchy_pos(Componente,1)  \n",
    "nx.draw_networkx(Componente,pos=pos, with_labels=False, **options)"
   ]
  },
  {
   "cell_type": "code",
   "execution_count": 239,
   "metadata": {},
   "outputs": [],
   "source": [
    "#nx.draw_kamada_kawai(Componente,node_color = color_map, **options)\n",
    "p=nx.drawing.nx_pydot.to_pydot(Componente)\n",
    "plt.show()\n",
    "#p.write_png('example.png')"
   ]
  },
  {
   "cell_type": "code",
   "execution_count": 227,
   "metadata": {},
   "outputs": [
    {
     "ename": "NameError",
     "evalue": "name 'flow_hierarchy' is not defined",
     "output_type": "error",
     "traceback": [
      "\u001b[1;31m---------------------------------------------------------------------------\u001b[0m",
      "\u001b[1;31mNameError\u001b[0m                                 Traceback (most recent call last)",
      "\u001b[1;32m<ipython-input-227-6f3e84617086>\u001b[0m in \u001b[0;36m<module>\u001b[1;34m()\u001b[0m\n\u001b[1;32m----> 1\u001b[1;33m \u001b[0mflow_hierarchy\u001b[0m\u001b[1;33m(\u001b[0m\u001b[0mComponente\u001b[0m\u001b[1;33m,\u001b[0m \u001b[0mweight\u001b[0m\u001b[1;33m=\u001b[0m\u001b[1;32mNone\u001b[0m\u001b[1;33m)\u001b[0m\u001b[1;33m\u001b[0m\u001b[0m\n\u001b[0m",
      "\u001b[1;31mNameError\u001b[0m: name 'flow_hierarchy' is not defined"
     ]
    }
   ],
   "source": [
    "flow_hierarchy(Componente, weight=None)"
   ]
  },
  {
   "cell_type": "code",
   "execution_count": null,
   "metadata": {},
   "outputs": [],
   "source": []
  }
 ],
 "metadata": {
  "kernelspec": {
   "display_name": "Python 3",
   "language": "python",
   "name": "python3"
  },
  "language_info": {
   "codemirror_mode": {
    "name": "ipython",
    "version": 3
   },
   "file_extension": ".py",
   "mimetype": "text/x-python",
   "name": "python",
   "nbconvert_exporter": "python",
   "pygments_lexer": "ipython3",
   "version": "3.6.5"
  }
 },
 "nbformat": 4,
 "nbformat_minor": 2
}

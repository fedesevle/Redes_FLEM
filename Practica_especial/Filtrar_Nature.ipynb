{
 "cells": [
  {
   "cell_type": "code",
   "execution_count": 4,
   "metadata": {},
   "outputs": [],
   "source": [
    "import numpy as np\n",
    "import ast\n",
    "import networkx as nx\n",
    "import matplotlib.pyplot as plt\n",
    "from collections import Counter\n",
    "import matplotlib.cm as cmx\n",
    "import json\n",
    "# For color mapping\n",
    "import matplotlib.colors as colors\n",
    "from operator import itemgetter\n",
    "\n",
    "#directorio=\"D:\\\\Para procesar\\\\Académica\\\\Ciencias Físicas\\\\Doctorado\\\\Materias\\\\Redes complejas\\\\Trabajos_prácticos\\\\Practica_computacional\\\\\"#Redes\\\\\"\n",
    "#directorio='G:\\\\Redes\\\\'\n",
    "path=\"D:\\\\Para procesar\\\\Académica\\\\Ciencias Físicas\\\\Doctorado\\\\Materias\\\\Redes complejas\\\\Trabajos_prácticos\\\\Practica_computacional\\\\\"\n",
    "version=1"
   ]
  },
  {
   "cell_type": "code",
   "execution_count": 7,
   "metadata": {},
   "outputs": [
    {
     "ename": "NameError",
     "evalue": "name 'paper' is not defined",
     "output_type": "error",
     "traceback": [
      "\u001b[1;31m---------------------------------------------------------------------------\u001b[0m",
      "\u001b[1;31mNameError\u001b[0m                                 Traceback (most recent call last)",
      "\u001b[1;32m<ipython-input-7-90639055a512>\u001b[0m in \u001b[0;36m<module>\u001b[1;34m()\u001b[0m\n\u001b[1;32m----> 1\u001b[1;33m \u001b[0mpaper\u001b[0m\u001b[1;33m\u001b[0m\u001b[0m\n\u001b[0m",
      "\u001b[1;31mNameError\u001b[0m: name 'paper' is not defined"
     ]
    }
   ],
   "source": [
    "paper"
   ]
  },
  {
   "cell_type": "code",
   "execution_count": 21,
   "metadata": {},
   "outputs": [
    {
     "name": "stdout",
     "output_type": "stream",
     "text": [
      "606\n",
      "160\n",
      "651\n",
      "161\n",
      "640\n",
      "162\n",
      "630\n",
      "163\n",
      "617\n",
      "164\n",
      "625\n",
      "165\n",
      "129\n",
      "166\n"
     ]
    }
   ],
   "source": [
    "#Filtra papers, saca campos innecesarios y guarda en archivo \"papers_filtro_n.txt\"\n",
    "def filtrar_papers(R_n,revista,version):\n",
    "    paper_conjuntos = []\n",
    "    \n",
    "    with open(path+'papers_filtro_'+str(revista)+'_'+str(version)+'.txt','a',encoding='utf-8') as archivo_guardar:\n",
    "            \n",
    "        R = open(path+'\\mag_papers_'+R_n+'.txt', 'r') \n",
    "        N = 10000000\n",
    "        i = 0\n",
    "        j=0\n",
    "        for line in R:\n",
    "            paper=ast.literal_eval(line)\n",
    "            try:\n",
    "                paper['doc_type']\n",
    "                paper['fos']\n",
    "                paper['keywords']\n",
    "                paper['references']\n",
    "                paper['venue']\n",
    "                if paper['doc_type']=='Journal' and paper['lang']=='en' and paper['venue'].split()[0]==revista:\n",
    "                    j+=1\n",
    "                    paper_conjuntos.append(paper)\n",
    "                    key='abstract';sacarcampo(paper,key)\n",
    "                    key='url';sacarcampo(paper,key)\n",
    "                    key='lang';sacarcampo(paper,key)\n",
    "                    key='page_start';sacarcampo(paper,key)\n",
    "                    key='page_end';sacarcampo(paper,key)\n",
    "                    key='doc_type';sacarcampo(paper,key)\n",
    "                    key='pdf';sacarcampo(paper,key)\n",
    "                    json.dump(paper, archivo_guardar, ensure_ascii=False)\n",
    "                    archivo_guardar.write('\\n')\n",
    "            except KeyError:\n",
    "                pass\n",
    "            i+=1\n",
    "            if i==N:\n",
    "                break\n",
    "        R.close()\n",
    "        print(j)\n",
    "    archivo_guardar.close()\n",
    "    return(paper_conjuntos)\n",
    "\n",
    "#Crea lista de papers filtrados y diccionario de papers citados y su frecuencia\n",
    "def contador(ides_in,ides_out,paper_conjuntos):\n",
    "    for line in range(len(paper_conjuntos)):\n",
    "        ides_out.append(paper_conjuntos[line]['id'])\n",
    "        a=paper_conjuntos[line]['references']\n",
    "        for tag in range(len(a)):\n",
    "            try:\n",
    "                b=ides_in[a[tag]]\n",
    "                b+=1\n",
    "                ides_in.update({a[tag]:b})\n",
    "            except:\n",
    "                ides_in[a[tag]]=1\n",
    "    return(ides_in)\n",
    "\n",
    "#Crea el archivo de papers filtrados, la lista y el diccionario de frecuencias de citas\n",
    "def agregar_contar(ides_in,ides_out,R_n,paper_conjuntos):\n",
    "    paper_conjuntos=filtrar_papers(R_n,'Nature')\n",
    "    ides_in=contador(ides_in,ides_out,paper_conjuntos)\n",
    "    return(ides_in,ides_out)\n",
    "    \n",
    "ides_out=[]\n",
    "ides_in={}\n",
    "for i in range(160,167):\n",
    "    ides_in,ides_out=agregar_contar(ides_in,ides_out,str(i),[])\n",
    "    print(i)\n",
    "    \n",
    "#ides_in,ides_out=agregar_contar(ides_in,ides_out,str(162),[])"
   ]
  },
  {
   "cell_type": "markdown",
   "metadata": {},
   "source": [
    "#### Esta es la rutina que hay que correr sobre los 166 archivos. En promedio va a dar unos 100.000 papers en total, antes de la intersección."
   ]
  },
  {
   "cell_type": "code",
   "execution_count": null,
   "metadata": {},
   "outputs": [],
   "source": [
    "papers_filtrados = []\n",
    "version=1\n",
    "for i in range(160,167):\n",
    "    filtrar_papers(str(i),'Nature',version)\n",
    "    print(i)\n",
    "    "
   ]
  }
 ],
 "metadata": {
  "kernelspec": {
   "display_name": "Python 3",
   "language": "python",
   "name": "python3"
  },
  "language_info": {
   "codemirror_mode": {
    "name": "ipython",
    "version": 3
   },
   "file_extension": ".py",
   "mimetype": "text/x-python",
   "name": "python",
   "nbconvert_exporter": "python",
   "pygments_lexer": "ipython3",
   "version": "3.6.5"
  }
 },
 "nbformat": 4,
 "nbformat_minor": 2
}

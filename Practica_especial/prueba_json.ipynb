{
 "cells": [
  {
   "cell_type": "code",
   "execution_count": 1,
   "metadata": {},
   "outputs": [],
   "source": [
    "import numpy as np\n",
    "import ast\n",
    "import networkx as nx\n",
    "import matplotlib.pyplot as plt\n",
    "import json"
   ]
  },
  {
   "cell_type": "code",
   "execution_count": 52,
   "metadata": {},
   "outputs": [
    {
     "name": "stdout",
     "output_type": "stream",
     "text": [
      "0\n"
     ]
    }
   ],
   "source": [
    "#R = open('D:\\Para procesar\\Académica\\Ciencias Físicas\\Doctorado\\Materias\\Redes complejas\\Trabajos_prácticos\\Practica_computacional\\mag_papers_166.txt', 'r') \n",
    "version=6\n",
    "paper_conjuntos = []\n",
    "\n",
    "#Saca el campo del diccionario\n",
    "def sacarcampo(paper,key):\n",
    "    if key in paper:\n",
    "        del paper[key]\n",
    "\n",
    "#Filtra papers, saca campos innecesarios y guarda en archivo \"papers_filtro_n.txt\"\n",
    "def agregarpaper(R_n,paper_conjuntos):\n",
    "    paper_conjuntos = []\n",
    "    db={}\n",
    "    with open('/media/fede/My Passport/tp redes/papers_pruebaguardar'+str(version)+'.txt', 'w',encoding='utf8') as archivo_guardar:\n",
    "         \n",
    "    #archivo_guardar = open('C:\\\\Users\\\\Usuario\\\\Documents\\\\GitHub\\\\Red\\\\papers_filtro_'+str(version)+'.txt','a',encoding='utf-8') \n",
    "    \n",
    "        R = open('/media/fede/My Passport/tp redes/mag_papers_166.txt', 'r') \n",
    "        N = 300000\n",
    "        i = 0\n",
    "        for line in R:\n",
    "            paper=ast.literal_eval(line)\n",
    "            try:\n",
    "                paper['doc_type']\n",
    "                paper['fos']\n",
    "                paper['keywords']\n",
    "                paper['references']\n",
    "                paper['venue']\n",
    "                if paper['doc_type']=='Journal' and paper['lang']=='en':\n",
    "                    paper_conjuntos.append(paper)\n",
    "                    key='abstract';sacarcampo(paper,key)\n",
    "                    key='url';sacarcampo(paper,key)\n",
    "                    key='lang';sacarcampo(paper,key)\n",
    "                    key='page_start';sacarcampo(paper,key)\n",
    "                    key='page_end';sacarcampo(paper,key)\n",
    "                    key='doc_type';sacarcampo(paper,key)\n",
    "                    key='pdf';sacarcampo(paper,key)\n",
    "#             s=json.dump(paper, archivo_guardar, ensure_ascii=False, encoding='UTF8')\n",
    "#             s = s.encode('utf-8')\n",
    "#             json_db.write(s)\n",
    "                    json.dump(paper, archivo_guardar, ensure_ascii=False)\n",
    "                    archivo_guardar.write('\\n')\n",
    "            #archivo_guardar.write(str(paper)+'\\n')\n",
    "            except KeyError:\n",
    "                pass\n",
    "            i+=1\n",
    "            if i==N:\n",
    "                break\n",
    "        R.close()\n",
    "    archivo_guardar.close()\n",
    "    return(paper_conjuntos)\n",
    "\n",
    "#Crea lista de papers filtrados y diccionario de papers citados y su frecuencia\n",
    "def contador(ides_in,ides_out,paper_conjuntos):\n",
    "    for line in range(len(paper_conjuntos)):\n",
    "        ides_out.append(paper_conjuntos[line]['id'])\n",
    "        a=paper_conjuntos[line]['references']\n",
    "        for tag in range(len(a)):\n",
    "            try:\n",
    "                b=ides_in[a[tag]]\n",
    "                b+=1\n",
    "                ides_in.update({a[tag]:b})\n",
    "            except:\n",
    "                ides_in[a[tag]]=1\n",
    "    return(ides_in)\n",
    "\n",
    "#Crea el archivo de papers filtrados, la lista y el diccionario de frecuencias de citas\n",
    "def agregar_contar(ides_in,ides_out,R_n,paper_conjuntos):\n",
    "    paper_conjuntos=agregarpaper(R_n,paper_conjuntos)\n",
    "    ides_in=contador(ides_in,ides_out,paper_conjuntos)\n",
    "    return(ides_in,ides_out)\n",
    "    \n",
    "ides_out=[]\n",
    "ides_in={}\n",
    "for i in range(1):\n",
    "    ides_in,ides_out=agregar_contar(ides_in,ides_out,str(i),[])\n",
    "    print(i)"
   ]
  },
  {
   "cell_type": "code",
   "execution_count": 53,
   "metadata": {},
   "outputs": [
    {
     "name": "stdout",
     "output_type": "stream",
     "text": [
      "0\n",
      "23030\n"
     ]
    }
   ],
   "source": [
    "#version=str(version)\n",
    "def filtrar_paper(G,interseccion):\n",
    "    i=0\n",
    "    j=0\n",
    "    paper_conjuntos = []\n",
    "    #R = open('C:\\\\Users\\\\Usuario\\\\Documents\\\\GitHub\\\\Red\\\\papers_filtro_'+version+'.txt','r') \n",
    "    R = open('/media/fede/My Passport/tp redes/papers_pruebaguardar6.txt','r') \n",
    "#     archivo_red = open('C:\\\\Users\\\\Usuario\\\\Documents\\\\GitHub\\\\Red\\\\archivo_red'+version+'.txt','a',encoding='utf-8')\n",
    "#     archivo_year = open('C:\\\\Users\\\\Usuario\\\\Documents\\\\GitHub\\\\Red\\\\archivo_year'+version+'.txt','a',encoding='utf-8')\n",
    "#     archivo_venue = open('C:\\\\Users\\\\Usuario\\\\Documents\\\\GitHub\\\\Red\\\\archivo_venue'+version+'.txt','a',encoding='utf-8')\n",
    "#     archivo_fos = open('C:\\\\Users\\\\Usuario\\\\Documents\\\\GitHub\\\\Red\\\\archivo_fos'+version+'.txt','a',encoding='utf-8')\n",
    "#     archivo_keywords = open('C:\\\\Users\\\\Usuario\\\\Documents\\\\GitHub\\\\Red\\\\archivo_keywords'+version+'.txt','a',encoding='utf-8')\n",
    "#     archivo_name = open('C:\\\\Users\\\\Usuario\\\\Documents\\\\GitHub\\\\Red\\\\archivo_name'+version+'.txt','a',encoding='utf-8')\n",
    "#     archivo_org = open('C:\\\\Users\\\\Usuario\\\\Documents\\\\GitHub\\\\Red\\\\archivo_org'+version+'.txt','a',encoding='utf-8')\n",
    "    for line in R:\n",
    "        try:\n",
    "            paper=ast.literal_eval(line)\n",
    "            j+=1\n",
    "        except:\n",
    "            i+=1\n",
    "#         if paper['id'] in interseccion:\n",
    "#             pass\n",
    "            #archivo_year.write(str(paper['id'])+' '+str(paper['year'])+'\\n')\n",
    "            #archivo_fos.write(str(paper['id'])+' '+str(paper['fos'])+'\\n')\n",
    "            #archivo_venue.write(str(paper['id'])+' '+str(paper['venue'])+'\\n')\n",
    "#             try:\n",
    "#                 archivo_keywords.write(paper['id']+' '+str(paper['keywords'])+'\\n')\n",
    "#             except KeyError:\n",
    "#                 pass\n",
    "#             try:\n",
    "#                 archivo_name.write(paper['id']+' '+paper['authors'][0]['name']+'\\n')\n",
    "#             except KeyError:\n",
    "#                 pass\n",
    "#             try:\n",
    "#                 archivo_org.write(paper['id']+' '+paper['authors'][0]['org']+'\\n')\n",
    "#             except KeyError:\n",
    "#                 pass\n",
    "            \n",
    "#             for cita in paper['references']:\n",
    "#                 if cita in interseccion:\n",
    "#                     pass\n",
    "                    #G.add_edge(paper['id'],cita)  \n",
    "                    #archivo_red.write(str(paper['id'])+' '+cita+'\\n')\n",
    "    R.close()\n",
    "#     archivo_red.close()\n",
    "#     archivo_year.close()\n",
    "#     archivo_venue.close()\n",
    "#     archivo_fos.close()\n",
    "#     archivo_keywords.close()\n",
    "#     archivo_name.close()\n",
    "#     archivo_org.close()\n",
    "    print(i)\n",
    "    print(j)\n",
    "    return(G)\n",
    "\n",
    "G=nx.DiGraph()\n",
    "G=filtrar_paper(G,interseccion=2)"
   ]
  },
  {
   "cell_type": "code",
   "execution_count": 3,
   "metadata": {},
   "outputs": [],
   "source": [
    "R.close()"
   ]
  },
  {
   "cell_type": "code",
   "execution_count": 21,
   "metadata": {},
   "outputs": [],
   "source": [
    "R = open('/media/fede/My Passport/tp redes/mag_papers_166.txt', 'r') "
   ]
  },
  {
   "cell_type": "code",
   "execution_count": 22,
   "metadata": {},
   "outputs": [
    {
     "data": {
      "text/plain": [
       "<_io.TextIOWrapper name='/media/fede/My Passport/tp redes/mag_papers_166.txt' mode='r' encoding='UTF-8'>"
      ]
     },
     "execution_count": 22,
     "metadata": {},
     "output_type": "execute_result"
    }
   ],
   "source": [
    "R"
   ]
  },
  {
   "cell_type": "code",
   "execution_count": null,
   "metadata": {},
   "outputs": [],
   "source": []
  }
 ],
 "metadata": {
  "kernelspec": {
   "display_name": "Python 3",
   "language": "python",
   "name": "python3"
  },
  "language_info": {
   "codemirror_mode": {
    "name": "ipython",
    "version": 3
   },
   "file_extension": ".py",
   "mimetype": "text/x-python",
   "name": "python",
   "nbconvert_exporter": "python",
   "pygments_lexer": "ipython3",
   "version": "3.5.2"
  }
 },
 "nbformat": 4,
 "nbformat_minor": 2
}

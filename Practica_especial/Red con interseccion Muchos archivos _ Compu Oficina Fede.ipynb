{
 "cells": [
  {
   "cell_type": "code",
   "execution_count": 3,
   "metadata": {
    "collapsed": true
   },
   "outputs": [],
   "source": [
    "import numpy as np\n",
    "import ast\n",
    "import networkx as nx\n",
    "import matplotlib.pyplot as plt"
   ]
  },
  {
   "cell_type": "code",
   "execution_count": 11,
   "metadata": {},
   "outputs": [
    {
     "name": "stdout",
     "output_type": "stream",
     "text": [
      "0\n",
      "1\n",
      "2\n",
      "3\n",
      "4\n",
      "5\n",
      "6\n"
     ]
    }
   ],
   "source": [
    "#R = open('D:\\Para procesar\\Académica\\Ciencias Físicas\\Doctorado\\Materias\\Redes complejas\\Trabajos_prácticos\\Practica_computacional\\mag_papers_166.txt', 'r') \n",
    "\n",
    "paper_conjuntos = []\n",
    "\n",
    "#Saca el campo del diccionario\n",
    "def sacarcampo(paper,key):\n",
    "    if key in paper:\n",
    "        del paper[key]\n",
    "\n",
    "#Filtra papers, saca campos innecesarios y guarda en archivo \"papers_filtro_n.txt\"\n",
    "def agregarpaper(R_n,paper_conjuntos):\n",
    "    paper_conjuntos = []\n",
    "    archivo_guardar = open('C:\\\\Users\\\\Usuario\\\\Documents\\\\GitHub\\\\Red\\\\papers_filtro_11.txt','a',encoding='utf-8') \n",
    "    R = open('C:\\\\Users\\\\Usuario\\\\Documents\\\\GitHub\\\\Red\\\\mag_papers_'+R_n+'.txt', 'r') \n",
    "    N = 999999\n",
    "    i = 0\n",
    "    for line in R:\n",
    "        paper=ast.literal_eval(line)\n",
    "        try:\n",
    "            paper['doc_type']\n",
    "            paper['fos']\n",
    "            paper['keywords']\n",
    "            paper['references']\n",
    "            paper['venue']\n",
    "            if paper['doc_type']=='Journal' and paper['lang']=='en':\n",
    "                paper_conjuntos.append(paper)\n",
    "                key='abstract';sacarcampo(paper,key)\n",
    "                key='url';sacarcampo(paper,key)\n",
    "                key='lang';sacarcampo(paper,key)\n",
    "                key='page_start';sacarcampo(paper,key)\n",
    "                key='page_end';sacarcampo(paper,key)\n",
    "                key='doc_type';sacarcampo(paper,key)\n",
    "                key='pdf';sacarcampo(paper,key)\n",
    "                archivo_guardar.write(str(paper)+'\\n')\n",
    "        except KeyError:\n",
    "            pass\n",
    "        i+=1\n",
    "        if i==N:\n",
    "            break\n",
    "    R.close()\n",
    "    archivo_guardar.close()\n",
    "    return(paper_conjuntos)\n",
    "\n",
    "#Crea lista de papers filtrados y diccionario de papers citados y su frecuencia\n",
    "def contador(ides_in,ides_out,paper_conjuntos):\n",
    "    for line in range(len(paper_conjuntos)):\n",
    "        ides_out.append(paper_conjuntos[line]['id'])\n",
    "        a=paper_conjuntos[line]['references']\n",
    "        for tag in range(len(a)):\n",
    "            try:\n",
    "                b=ides_in[a[tag]]\n",
    "                b+=1\n",
    "                ides_in.update({a[tag]:b})\n",
    "            except:\n",
    "                ides_in[a[tag]]=1\n",
    "    return(ides_in)\n",
    "\n",
    "#Crea el archivo de papers filtrados, la lista y el diccionario de frecuencias de citas\n",
    "def agregar_contar(ides_in,ides_out,R_n,paper_conjuntos):\n",
    "    paper_conjuntos=agregarpaper(R_n,paper_conjuntos)\n",
    "    ides_in=contador(ides_in,ides_out,paper_conjuntos)\n",
    "    return(ides_in,ides_out)\n",
    "    \n",
    "ides_out=[]\n",
    "ides_in={}\n",
    "for i in range(50):\n",
    "    ides_in,ides_out=agregar_contar(ides_in,ides_out,str(i),[])\n",
    "    print(i)"
   ]
  },
  {
   "cell_type": "code",
   "execution_count": 13,
   "metadata": {},
   "outputs": [
    {
     "data": {
      "text/plain": [
       "285356"
      ]
     },
     "execution_count": 13,
     "metadata": {},
     "output_type": "execute_result"
    }
   ],
   "source": [
    "interseccion=(set(ides_out).intersection(list(ides_in.keys())))\n",
    "len(interseccion)"
   ]
  },
  {
   "cell_type": "code",
   "execution_count": 41,
   "metadata": {},
   "outputs": [
    {
     "name": "stdout",
     "output_type": "stream",
     "text": [
      "0\n",
      "1\n",
      "2\n",
      "3\n",
      "4\n",
      "5\n",
      "6\n"
     ]
    }
   ],
   "source": [
    "def filtrar_paper(G,interseccion):\n",
    "    paper_conjuntos = []\n",
    "    version=str(1)\n",
    "    R = open('C:\\\\Users\\\\Usuario\\\\Documents\\\\GitHub\\\\Red\\\\papers_filtro_11.txt','a',encoding='utf-8') \n",
    "    archivo_red = open('C:\\\\Users\\\\Usuario\\\\Documents\\\\GitHub\\\\Red\\\\archivo_red'+version+'.txt','a',encoding='utf-8')\n",
    "    archivo_year = open('C:\\\\Users\\\\Usuario\\\\Documents\\\\GitHub\\\\Red\\\\archivo_year'+version+'.txt','a',encoding='utf-8')\n",
    "    archivo_venue = open('C:\\\\Users\\\\Usuario\\\\Documents\\\\GitHub\\\\Red\\\\archivo_venue'+version+'.txt','a',encoding='utf-8')\n",
    "    archivo_fos = open('C:\\\\Users\\\\Usuario\\\\Documents\\\\GitHub\\\\Red\\\\archivo_fos'+version+'.txt','a',encoding='utf-8')\n",
    "    archivo_keywords = open('C:\\\\Users\\\\Usuario\\\\Documents\\\\GitHub\\\\Red\\\\archivo_keywords'+version+'.txt','a',encoding='utf-8')\n",
    "    archivo_name = open('C:\\\\Users\\\\Usuario\\\\Documents\\\\GitHub\\\\Red\\\\archivo_name'+version+'.txt','a',encoding='utf-8')\n",
    "    archivo_org = open('C:\\\\Users\\\\Usuario\\\\Documents\\\\GitHub\\\\Red\\\\archivo_org'+version+'.txt','a',encoding='utf-8')\n",
    "    for line in R:\n",
    "        paper=ast.literal_eval(line)\n",
    "        if paper['id'] in interseccion:\n",
    "            archivo_year.write(paper['id']+' '+str(paper['year'])+'\\n')\n",
    "            archivo_fos.write(paper['id']+' '+str(paper['fos'])+'\\n')\n",
    "            try:\n",
    "                archivo_keywords.write(paper['id']+' '+str(paper['keywords'])+'\\n')\n",
    "            except KeyError:\n",
    "                pass\n",
    "            try:\n",
    "                archivo_venue.write(paper['id']+' '+str(paper['venue'])+'\\n')\n",
    "            except KeyError:\n",
    "                pass\n",
    "            try:\n",
    "                archivo_name.write(paper['id']+' '+paper['authors'][0]['name']+'\\n')\n",
    "            except KeyError:\n",
    "                pass\n",
    "            try:\n",
    "                archivo_org.write(paper['id']+' '+paper['authors'][0]['org']+'\\n')\n",
    "            except KeyError:\n",
    "                pass\n",
    "            \n",
    "            for cita in paper['references']:\n",
    "                if cita in interseccion:\n",
    "                    G.add_edge(paper['id'],cita)  \n",
    "                    archivo_red.write(paper['id']+' '+cita+'\\n')\n",
    "    R.close()\n",
    "    archivo_red.close()\n",
    "    archivo_year.close()\n",
    "    archivo_venue.close()\n",
    "    archivo_fos.close()\n",
    "    archivo_keywords.close()\n",
    "    archivo_name.close()\n",
    "    archivo_org.close()\n",
    "    return(G)\n",
    "\n",
    "G=nx.DiGraph()\n",
    "conteo_archivos=[0, 1, 2, 3, 4, 5, 6]\n",
    "for i in conteo_archivos:\n",
    "    G=filtrar_paper(str(i),G,interseccion)\n",
    "    print(i)"
   ]
  },
  {
   "cell_type": "code",
   "execution_count": 42,
   "metadata": {},
   "outputs": [
    {
     "name": "stdout",
     "output_type": "stream",
     "text": [
      "191368\n"
     ]
    }
   ],
   "source": [
    "print(len(G))\n",
    "\n",
    "# grados_G = [gra for gra in G.out_degree().values()]\n",
    "# grados_G.count(0)"
   ]
  },
  {
   "cell_type": "code",
   "execution_count": 44,
   "metadata": {},
   "outputs": [
    {
     "data": {
      "image/png": "[encoded data removed]",
      "text/plain": [
       "<matplotlib.figure.Figure at 0x9c438198>"
      ]
     },
     "metadata": {},
     "output_type": "display_data"
    },
    {
     "data": {
      "image/png": "[encoded data removed]",
      "text/plain": [
       "<matplotlib.figure.Figure at 0x44f59a90>"
      ]
     },
     "metadata": {},
     "output_type": "display_data"
    },
    {
     "data": {
      "image/png": "[encoded data removed]",
      "text/plain": [
       "<matplotlib.figure.Figure at 0x4e69ef98>"
      ]
     },
     "metadata": {},
     "output_type": "display_data"
    }
   ],
   "source": [
    "# Distribución de grado\n",
    "plt.subplot(311)\n",
    "grados_G = [gra for gra in G.degree().values()]\n",
    "Datos = np.asarray(grados_G)\n",
    "b=np.logspace(0,3,50)\n",
    "plt.hist(Datos, bins=b, log=True) \n",
    "plt.xscale('log')\n",
    "plt.xlabel('k')\n",
    "#plt.yscale('log')\n",
    "plt.show()\n",
    "plt.subplot(312)\n",
    "# Distribución de grado IN\n",
    "grados_G = [gra for gra in G.in_degree().values()] \n",
    "Datos = np.asarray(grados_G)\n",
    "b=np.logspace(0,3,50)\n",
    "plt.hist(Datos, bins=b, log=True) \n",
    "plt.xscale('log')\n",
    "plt.xlabel('k_IN')\n",
    "#plt.yscale('log')\n",
    "plt.show()\n",
    "plt.subplot(313)\n",
    "# Distribución de grado OUT\n",
    "grados_G = [gra for gra in G.out_degree().values()]\n",
    "Datos = np.asarray(grados_G)\n",
    "b=np.logspace(0,3,50)\n",
    "plt.hist(Datos, bins=b, log=True) \n",
    "plt.xscale('log')\n",
    "plt.xlabel('k_OUT')\n",
    "#plt.yscale('log')\n",
    "plt.show()"
   ]
  },
  {
   "cell_type": "code",
   "execution_count": 56,
   "metadata": {},
   "outputs": [
    {
     "data": {
      "image/png": "[encoded data removed]",
      "text/plain": [
       "<matplotlib.figure.Figure at 0x9ffe8978>"
      ]
     },
     "metadata": {},
     "output_type": "display_data"
    }
   ],
   "source": [
    "GG=G.to_undirected()\n",
    "Componente_INT=sorted(nx.connected_components(GG), key=len, reverse=True)\n",
    "Componentes=[]\n",
    "\n",
    "for i in Componente_INT:\n",
    "    Componentes.append(GG.subgraph(i))\n",
    "largo=[]\n",
    "for i in Componentes:\n",
    "    largo.append(len(i))\n",
    "\n",
    "plt.figure()\n",
    "plt.loglog(range(1,len(largo)+1),largo,'o')\n",
    "plt.show()"
   ]
  },
  {
   "cell_type": "code",
   "execution_count": 46,
   "metadata": {},
   "outputs": [
    {
     "name": "stderr",
     "output_type": "stream",
     "text": [
      "C:\\Users\\Usuario\\Anaconda3\\lib\\site-packages\\networkx\\drawing\\nx_pylab.py:126: MatplotlibDeprecationWarning: pyplot.hold is deprecated.\n",
      "    Future behavior will be consistent with the long-time default:\n",
      "    plot commands add elements without first clearing the\n",
      "    Axes and/or Figure.\n",
      "  b = plt.ishold()\n",
      "C:\\Users\\Usuario\\Anaconda3\\lib\\site-packages\\networkx\\drawing\\nx_pylab.py:136: MatplotlibDeprecationWarning: pyplot.hold is deprecated.\n",
      "    Future behavior will be consistent with the long-time default:\n",
      "    plot commands add elements without first clearing the\n",
      "    Axes and/or Figure.\n",
      "  plt.hold(b)\n",
      "C:\\Users\\Usuario\\Anaconda3\\lib\\site-packages\\matplotlib\\__init__.py:917: UserWarning: axes.hold is deprecated. Please remove it from your matplotlibrc and/or style files.\n",
      "  warnings.warn(self.msg_depr_set % key)\n",
      "C:\\Users\\Usuario\\Anaconda3\\lib\\site-packages\\matplotlib\\rcsetup.py:152: UserWarning: axes.hold is deprecated, will be removed in 3.0\n",
      "  warnings.warn(\"axes.hold is deprecated, will be removed in 3.0\")\n"
     ]
    },
    {
     "ename": "MemoryError",
     "evalue": "",
     "output_type": "error",
     "traceback": [
      "\u001b[0;31m---------------------------------------------------------------------------\u001b[0m",
      "\u001b[0;31mKeyboardInterrupt\u001b[0m                         Traceback (most recent call last)",
      "\u001b[0;32mC:\\Users\\Usuario\\Anaconda3\\lib\\site-packages\\networkx\\drawing\\layout.py\u001b[0m in \u001b[0;36mfruchterman_reingold_layout\u001b[0;34m(G, dim, k, pos, fixed, iterations, weight, scale, center)\u001b[0m\n\u001b[1;32m    284\u001b[0m         \u001b[0mA\u001b[0m \u001b[1;33m=\u001b[0m \u001b[0mnx\u001b[0m\u001b[1;33m.\u001b[0m\u001b[0mto_scipy_sparse_matrix\u001b[0m\u001b[1;33m(\u001b[0m\u001b[0mG\u001b[0m\u001b[1;33m,\u001b[0m \u001b[0mweight\u001b[0m\u001b[1;33m=\u001b[0m\u001b[0mweight\u001b[0m\u001b[1;33m,\u001b[0m \u001b[0mdtype\u001b[0m\u001b[1;33m=\u001b[0m\u001b[1;34m'f'\u001b[0m\u001b[1;33m)\u001b[0m\u001b[1;33m\u001b[0m\u001b[0m\n\u001b[0;32m--> 285\u001b[0;31m         \u001b[0mpos\u001b[0m \u001b[1;33m=\u001b[0m \u001b[0m_sparse_fruchterman_reingold\u001b[0m\u001b[1;33m(\u001b[0m\u001b[0mA\u001b[0m\u001b[1;33m,\u001b[0m\u001b[0mdim\u001b[0m\u001b[1;33m,\u001b[0m\u001b[0mk\u001b[0m\u001b[1;33m,\u001b[0m\u001b[0mpos_arr\u001b[0m\u001b[1;33m,\u001b[0m\u001b[0mfixed\u001b[0m\u001b[1;33m,\u001b[0m\u001b[0miterations\u001b[0m\u001b[1;33m)\u001b[0m\u001b[1;33m\u001b[0m\u001b[0m\n\u001b[0m\u001b[1;32m    286\u001b[0m     \u001b[1;32mexcept\u001b[0m\u001b[1;33m:\u001b[0m\u001b[1;33m\u001b[0m\u001b[0m\n",
      "\u001b[0;32mC:\\Users\\Usuario\\Anaconda3\\lib\\site-packages\\networkx\\drawing\\layout.py\u001b[0m in \u001b[0;36m_sparse_fruchterman_reingold\u001b[0;34m(A, dim, k, pos, fixed, iterations)\u001b[0m\n\u001b[1;32m    409\u001b[0m             \u001b[1;31m# difference between this row's node position and all others\u001b[0m\u001b[1;33m\u001b[0m\u001b[1;33m\u001b[0m\u001b[0m\n\u001b[0;32m--> 410\u001b[0;31m             \u001b[0mdelta\u001b[0m\u001b[1;33m=\u001b[0m\u001b[1;33m(\u001b[0m\u001b[0mpos\u001b[0m\u001b[1;33m[\u001b[0m\u001b[0mi\u001b[0m\u001b[1;33m]\u001b[0m\u001b[1;33m-\u001b[0m\u001b[0mpos\u001b[0m\u001b[1;33m)\u001b[0m\u001b[1;33m.\u001b[0m\u001b[0mT\u001b[0m\u001b[1;33m\u001b[0m\u001b[0m\n\u001b[0m\u001b[1;32m    411\u001b[0m             \u001b[1;31m# distance between points\u001b[0m\u001b[1;33m\u001b[0m\u001b[1;33m\u001b[0m\u001b[0m\n",
      "\u001b[0;31mKeyboardInterrupt\u001b[0m: ",
      "\nDuring handling of the above exception, another exception occurred:\n",
      "\u001b[0;31mMemoryError\u001b[0m                               Traceback (most recent call last)",
      "\u001b[0;32m<ipython-input-46-f361036956ef>\u001b[0m in \u001b[0;36m<module>\u001b[0;34m()\u001b[0m\n\u001b[1;32m      7\u001b[0m \u001b[1;33m\u001b[0m\u001b[0m\n\u001b[1;32m      8\u001b[0m \u001b[1;32mfor\u001b[0m \u001b[0mi\u001b[0m \u001b[1;32min\u001b[0m \u001b[0mComponentes\u001b[0m\u001b[1;33m[\u001b[0m\u001b[1;33m:\u001b[0m\u001b[0mM\u001b[0m\u001b[1;33m]\u001b[0m\u001b[1;33m:\u001b[0m\u001b[1;33m\u001b[0m\u001b[0m\n\u001b[0;32m----> 9\u001b[0;31m     \u001b[0mnx\u001b[0m\u001b[1;33m.\u001b[0m\u001b[0mdraw\u001b[0m\u001b[1;33m(\u001b[0m\u001b[0mi\u001b[0m\u001b[1;33m,\u001b[0m \u001b[1;33m**\u001b[0m\u001b[0moptions\u001b[0m\u001b[1;33m)\u001b[0m\u001b[1;33m\u001b[0m\u001b[0m\n\u001b[0m\u001b[1;32m     10\u001b[0m     \u001b[0mplt\u001b[0m\u001b[1;33m.\u001b[0m\u001b[0mshow\u001b[0m\u001b[1;33m(\u001b[0m\u001b[1;33m)\u001b[0m\u001b[1;33m\u001b[0m\u001b[0m\n",
      "\u001b[0;32mC:\\Users\\Usuario\\Anaconda3\\lib\\site-packages\\networkx\\drawing\\nx_pylab.py\u001b[0m in \u001b[0;36mdraw\u001b[0;34m(G, pos, ax, hold, **kwds)\u001b[0m\n\u001b[1;32m    130\u001b[0m         \u001b[0mplt\u001b[0m\u001b[1;33m.\u001b[0m\u001b[0mhold\u001b[0m\u001b[1;33m(\u001b[0m\u001b[0mh\u001b[0m\u001b[1;33m)\u001b[0m\u001b[1;33m\u001b[0m\u001b[0m\n\u001b[1;32m    131\u001b[0m     \u001b[1;32mtry\u001b[0m\u001b[1;33m:\u001b[0m\u001b[1;33m\u001b[0m\u001b[0m\n\u001b[0;32m--> 132\u001b[0;31m         \u001b[0mdraw_networkx\u001b[0m\u001b[1;33m(\u001b[0m\u001b[0mG\u001b[0m\u001b[1;33m,\u001b[0m \u001b[0mpos\u001b[0m\u001b[1;33m=\u001b[0m\u001b[0mpos\u001b[0m\u001b[1;33m,\u001b[0m \u001b[0max\u001b[0m\u001b[1;33m=\u001b[0m\u001b[0max\u001b[0m\u001b[1;33m,\u001b[0m \u001b[1;33m**\u001b[0m\u001b[0mkwds\u001b[0m\u001b[1;33m)\u001b[0m\u001b[1;33m\u001b[0m\u001b[0m\n\u001b[0m\u001b[1;32m    133\u001b[0m         \u001b[0max\u001b[0m\u001b[1;33m.\u001b[0m\u001b[0mset_axis_off\u001b[0m\u001b[1;33m(\u001b[0m\u001b[1;33m)\u001b[0m\u001b[1;33m\u001b[0m\u001b[0m\n\u001b[1;32m    134\u001b[0m         \u001b[0mplt\u001b[0m\u001b[1;33m.\u001b[0m\u001b[0mdraw_if_interactive\u001b[0m\u001b[1;33m(\u001b[0m\u001b[1;33m)\u001b[0m\u001b[1;33m\u001b[0m\u001b[0m\n",
      "\u001b[0;32mC:\\Users\\Usuario\\Anaconda3\\lib\\site-packages\\networkx\\drawing\\nx_pylab.py\u001b[0m in \u001b[0;36mdraw_networkx\u001b[0;34m(G, pos, arrows, with_labels, **kwds)\u001b[0m\n\u001b[1;32m    271\u001b[0m \u001b[1;33m\u001b[0m\u001b[0m\n\u001b[1;32m    272\u001b[0m     \u001b[1;32mif\u001b[0m \u001b[0mpos\u001b[0m \u001b[1;32mis\u001b[0m \u001b[1;32mNone\u001b[0m\u001b[1;33m:\u001b[0m\u001b[1;33m\u001b[0m\u001b[0m\n\u001b[0;32m--> 273\u001b[0;31m         \u001b[0mpos\u001b[0m \u001b[1;33m=\u001b[0m \u001b[0mnx\u001b[0m\u001b[1;33m.\u001b[0m\u001b[0mdrawing\u001b[0m\u001b[1;33m.\u001b[0m\u001b[0mspring_layout\u001b[0m\u001b[1;33m(\u001b[0m\u001b[0mG\u001b[0m\u001b[1;33m)\u001b[0m  \u001b[1;31m# default to spring layout\u001b[0m\u001b[1;33m\u001b[0m\u001b[0m\n\u001b[0m\u001b[1;32m    274\u001b[0m \u001b[1;33m\u001b[0m\u001b[0m\n\u001b[1;32m    275\u001b[0m     \u001b[0mnode_collection\u001b[0m \u001b[1;33m=\u001b[0m \u001b[0mdraw_networkx_nodes\u001b[0m\u001b[1;33m(\u001b[0m\u001b[0mG\u001b[0m\u001b[1;33m,\u001b[0m \u001b[0mpos\u001b[0m\u001b[1;33m,\u001b[0m \u001b[1;33m**\u001b[0m\u001b[0mkwds\u001b[0m\u001b[1;33m)\u001b[0m\u001b[1;33m\u001b[0m\u001b[0m\n",
      "\u001b[0;32mC:\\Users\\Usuario\\Anaconda3\\lib\\site-packages\\networkx\\drawing\\layout.py\u001b[0m in \u001b[0;36mfruchterman_reingold_layout\u001b[0;34m(G, dim, k, pos, fixed, iterations, weight, scale, center)\u001b[0m\n\u001b[1;32m    285\u001b[0m         \u001b[0mpos\u001b[0m \u001b[1;33m=\u001b[0m \u001b[0m_sparse_fruchterman_reingold\u001b[0m\u001b[1;33m(\u001b[0m\u001b[0mA\u001b[0m\u001b[1;33m,\u001b[0m\u001b[0mdim\u001b[0m\u001b[1;33m,\u001b[0m\u001b[0mk\u001b[0m\u001b[1;33m,\u001b[0m\u001b[0mpos_arr\u001b[0m\u001b[1;33m,\u001b[0m\u001b[0mfixed\u001b[0m\u001b[1;33m,\u001b[0m\u001b[0miterations\u001b[0m\u001b[1;33m)\u001b[0m\u001b[1;33m\u001b[0m\u001b[0m\n\u001b[1;32m    286\u001b[0m     \u001b[1;32mexcept\u001b[0m\u001b[1;33m:\u001b[0m\u001b[1;33m\u001b[0m\u001b[0m\n\u001b[0;32m--> 287\u001b[0;31m         \u001b[0mA\u001b[0m \u001b[1;33m=\u001b[0m \u001b[0mnx\u001b[0m\u001b[1;33m.\u001b[0m\u001b[0mto_numpy_matrix\u001b[0m\u001b[1;33m(\u001b[0m\u001b[0mG\u001b[0m\u001b[1;33m,\u001b[0m \u001b[0mweight\u001b[0m\u001b[1;33m=\u001b[0m\u001b[0mweight\u001b[0m\u001b[1;33m)\u001b[0m\u001b[1;33m\u001b[0m\u001b[0m\n\u001b[0m\u001b[1;32m    288\u001b[0m         \u001b[0mpos\u001b[0m \u001b[1;33m=\u001b[0m \u001b[0m_fruchterman_reingold\u001b[0m\u001b[1;33m(\u001b[0m\u001b[0mA\u001b[0m\u001b[1;33m,\u001b[0m \u001b[0mdim\u001b[0m\u001b[1;33m,\u001b[0m \u001b[0mk\u001b[0m\u001b[1;33m,\u001b[0m \u001b[0mpos_arr\u001b[0m\u001b[1;33m,\u001b[0m \u001b[0mfixed\u001b[0m\u001b[1;33m,\u001b[0m \u001b[0miterations\u001b[0m\u001b[1;33m)\u001b[0m\u001b[1;33m\u001b[0m\u001b[0m\n\u001b[1;32m    289\u001b[0m \u001b[1;33m\u001b[0m\u001b[0m\n",
      "\u001b[0;32mC:\\Users\\Usuario\\Anaconda3\\lib\\site-packages\\networkx\\convert_matrix.py\u001b[0m in \u001b[0;36mto_numpy_matrix\u001b[0;34m(G, nodelist, dtype, order, multigraph_weight, weight, nonedge)\u001b[0m\n\u001b[1;32m    367\u001b[0m     \u001b[1;32melse\u001b[0m\u001b[1;33m:\u001b[0m\u001b[1;33m\u001b[0m\u001b[0m\n\u001b[1;32m    368\u001b[0m         \u001b[1;31m# Graph or DiGraph, this is much faster than above\u001b[0m\u001b[1;33m\u001b[0m\u001b[1;33m\u001b[0m\u001b[0m\n\u001b[0;32m--> 369\u001b[0;31m         \u001b[0mM\u001b[0m \u001b[1;33m=\u001b[0m \u001b[0mnp\u001b[0m\u001b[1;33m.\u001b[0m\u001b[0mzeros\u001b[0m\u001b[1;33m(\u001b[0m\u001b[1;33m(\u001b[0m\u001b[0mnlen\u001b[0m\u001b[1;33m,\u001b[0m\u001b[0mnlen\u001b[0m\u001b[1;33m)\u001b[0m\u001b[1;33m,\u001b[0m \u001b[0mdtype\u001b[0m\u001b[1;33m=\u001b[0m\u001b[0mdtype\u001b[0m\u001b[1;33m,\u001b[0m \u001b[0morder\u001b[0m\u001b[1;33m=\u001b[0m\u001b[0morder\u001b[0m\u001b[1;33m)\u001b[0m \u001b[1;33m+\u001b[0m \u001b[0mnp\u001b[0m\u001b[1;33m.\u001b[0m\u001b[0mnan\u001b[0m\u001b[1;33m\u001b[0m\u001b[0m\n\u001b[0m\u001b[1;32m    370\u001b[0m         \u001b[1;32mfor\u001b[0m \u001b[0mu\u001b[0m\u001b[1;33m,\u001b[0m\u001b[0mnbrdict\u001b[0m \u001b[1;32min\u001b[0m \u001b[0mG\u001b[0m\u001b[1;33m.\u001b[0m\u001b[0madjacency_iter\u001b[0m\u001b[1;33m(\u001b[0m\u001b[1;33m)\u001b[0m\u001b[1;33m:\u001b[0m\u001b[1;33m\u001b[0m\u001b[0m\n\u001b[1;32m    371\u001b[0m             \u001b[1;32mfor\u001b[0m \u001b[0mv\u001b[0m\u001b[1;33m,\u001b[0m\u001b[0md\u001b[0m \u001b[1;32min\u001b[0m \u001b[0mnbrdict\u001b[0m\u001b[1;33m.\u001b[0m\u001b[0mitems\u001b[0m\u001b[1;33m(\u001b[0m\u001b[1;33m)\u001b[0m\u001b[1;33m:\u001b[0m\u001b[1;33m\u001b[0m\u001b[0m\n",
      "\u001b[0;31mMemoryError\u001b[0m: "
     ]
    }
   ],
   "source": [
    "M=1\n",
    "\n",
    "options = {\n",
    "'node_size': 1,\n",
    "'width': 0.01,\n",
    "}\n",
    "\n",
    "for i in Componentes[:M]:\n",
    "    nx.draw(i, **options)\n",
    "    plt.show()"
   ]
  },
  {
   "cell_type": "code",
   "execution_count": 59,
   "metadata": {
    "scrolled": true
   },
   "outputs": [
    {
     "data": {
      "text/plain": [
       "10163"
      ]
     },
     "execution_count": 59,
     "metadata": {},
     "output_type": "execute_result"
    }
   ],
   "source": [
    "len(Componentes[0])"
   ]
  },
  {
   "cell_type": "code",
   "execution_count": 60,
   "metadata": {},
   "outputs": [
    {
     "data": {
      "image/png": "[encoded data removed]",
      "text/plain": [
       "<matplotlib.figure.Figure at 0x787c1ef0>"
      ]
     },
     "metadata": {},
     "output_type": "display_data"
    }
   ],
   "source": [
    "# Distribución de grado\n",
    "grados_G = [gra for gra in Componentes[0].degree().values()]\n",
    "Datos = np.asarray(grados_G)\n",
    "b=np.logspace(0,3,50)\n",
    "plt.hist(Datos, bins=b, log=True) \n",
    "plt.xscale('log')\n",
    "plt.xlabel('k')\n",
    "#plt.yscale('log')\n",
    "plt.show()"
   ]
  },
  {
   "cell_type": "code",
   "execution_count": null,
   "metadata": {
    "collapsed": true
   },
   "outputs": [],
   "source": []
  }
 ],
 "metadata": {
  "kernelspec": {
   "display_name": "Python 3",
   "language": "python",
   "name": "python3"
  },
  "language_info": {
   "codemirror_mode": {
    "name": "ipython",
    "version": 3
   },
   "file_extension": ".py",
   "mimetype": "text/x-python",
   "name": "python",
   "nbconvert_exporter": "python",
   "pygments_lexer": "ipython3",
   "version": "3.6.0"
  }
 },
 "nbformat": 4,
 "nbformat_minor": 2
}

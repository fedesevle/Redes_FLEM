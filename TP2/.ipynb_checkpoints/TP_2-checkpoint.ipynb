{
 "cells": [
  {
   "cell_type": "code",
   "execution_count": 90,
   "metadata": {},
   "outputs": [
    {
     "name": "stdout",
     "output_type": "stream",
     "text": [
      "numero de nodos de la red AP-MS    = 1622\n",
      "numero de nodos de la red Liter  = 1536\n",
      "numero de nodos de la red Y2H    = 1622\n",
      "numero de enlaces de la red AP-MS    = 9070\n",
      "numero de enlaces de la red Liter  = 2925\n",
      "numero de enlaces de la red Y2H. = 2930\n",
      " <k>AP-MS  = 11.1837237978\n",
      " <k>Liter = 3.80859375\n",
      " <k>Y2H  = 2.90386521308\n",
      "<C_av_local>AP-MS  = 0.5546360657013018\n",
      "<C_global>AP-MS = 0.6185901626483971\n",
      "<C_av_local>Liter  = 0.2924923005815711\n",
      "<C_global>Liter = 0.3461926495315878\n",
      "<C_av_local>Y2H = 0.046194001297365145\n",
      "<C_global>Y2H = 0.02361415364051535\n"
     ]
    }
   ],
   "source": [
    "import matplotlib.pylab as plt\n",
    "import networkx as nx\n",
    "import numpy as np\n",
    "\n",
    "def ldata(archive):\n",
    "    f=open(archive)\n",
    "    data=[]\n",
    "    for line in f:\n",
    "        line=line.strip()\n",
    "        col=line.split()\n",
    "        data.append(col)\n",
    "    return data\n",
    "\n",
    "a=ldata(\"yeast_AP-MS.txt\")\n",
    "b=ldata(\"yeast_LIT.txt\")\n",
    "d=ldata(\"yeast_Y2H.txt\")\n",
    "\n",
    "# print(\"(a) Red Yeast Y2H\")\n",
    "# G = nx.Graph()\n",
    "# G.add_edges_from(a)\n",
    "# nx.draw(G, node_size=5)\n",
    "# plt.show()\n",
    "\n",
    "G = nx.Graph()\n",
    "G.add_edges_from(a)\n",
    "\n",
    "H = nx.Graph()\n",
    "H.add_edges_from(b)\n",
    "\n",
    "J = nx.Graph()\n",
    "J.add_edges_from(d)\n",
    "\n",
    "an=G.number_of_nodes()\n",
    "bn=H.number_of_nodes()\n",
    "dn=J.number_of_nodes()\n",
    "\n",
    "print(\"numero de nodos de la red AP-MS    = \"+str(an))\n",
    "print(\"numero de nodos de la red Liter  = \"+str(bn))\n",
    "print(\"numero de nodos de la red Y2H    = \"+str(an))\n",
    "\n",
    "print(\"numero de enlaces de la red AP-MS    = \"+str(G.number_of_edges()))\n",
    "print(\"numero de enlaces de la red Liter  = \"+str(H.number_of_edges()))\n",
    "print(\"numero de enlaces de la red Y2H. = \"+str(J.number_of_edges()))\n",
    "\n",
    "grados = [gra for (nom,gra) in G.degree()] # [lo_que_quiero  for los_elementos in iterable]\n",
    "grados_media_g=np.mean(np.asarray(grados))\n",
    "print(' <k>AP-MS  = '+str(grados_media_g))\n",
    "\n",
    "grados = [gra for (nom,gra) in H.degree()] # [lo_que_quiero  for los_elementos in iterable]\n",
    "grados_media_h=np.mean(np.asarray(grados))\n",
    "print(' <k>Liter = '+str(grados_media_h))\n",
    "\n",
    "grados = [gra for (nom,gra) in J.degree()] # [lo_que_quiero  for los_elementos in iterable]\n",
    "grados_media_j=np.mean(np.asarray(grados))\n",
    "print(' <k>Y2H  = '+str(grados_media_j))\n",
    "\n",
    "av=nx.average_clustering(G)\n",
    "tr=nx.transitivity(G)\n",
    "print('<C_av_local>AP-MS  = '+str(av))\n",
    "print('<C_global>AP-MS = '+str(tr))\n",
    "\n",
    "av=nx.average_clustering(H)\n",
    "tr=nx.transitivity(H)\n",
    "print('<C_av_local>Liter  = '+str(av))\n",
    "print('<C_global>Liter = '+str(tr))\n",
    "\n",
    "av=nx.average_clustering(J)\n",
    "tr=nx.transitivity(J)\n",
    "print('<C_av_local>Y2H = '+str(av))\n",
    "print('<C_global>Y2H = '+str(tr))"
   ]
  },
  {
   "cell_type": "code",
   "execution_count": 2,
   "metadata": {},
   "outputs": [
    {
     "name": "stdout",
     "output_type": "stream",
     "text": [
      "0.14310915104740904\n",
      "0.4437606837606838\n",
      "0.02866593164277839\n",
      "0.08873720136518772\n",
      "0.08873720136518772\n",
      "0.08888888888888889\n"
     ]
    }
   ],
   "source": [
    "\n",
    "cont = 0\n",
    "for i in G.edges:\n",
    "    if i in H.edges:\n",
    "        cont=cont+1\n",
    "print(cont/G.number_of_edges())  \n",
    "\n",
    "cont = 0\n",
    "for i in H.edges:\n",
    "    if i in G.edges:\n",
    "        cont=cont+1\n",
    "print(cont/H.number_of_edges()) \n",
    "\n",
    "cont = 0\n",
    "for i in G.edges:\n",
    "    if i in J.edges:\n",
    "        cont=cont+1\n",
    "print(cont/G.number_of_edges()) \n",
    "\n",
    "cont = 0\n",
    "for i in J.edges:\n",
    "    if i in G.edges:\n",
    "        cont=cont+1\n",
    "print(cont/J.number_of_edges()) \n",
    "\n",
    "cont = 0\n",
    "for i in J.edges:\n",
    "    if i in H.edges:\n",
    "        cont=cont+1\n",
    "print(cont/J.number_of_edges()) \n",
    "\n",
    "cont = 0\n",
    "for i in H.edges:\n",
    "    if i in J.edges:\n",
    "        cont=cont+1  \n",
    "print(cont/H.number_of_edges()) \n"
   ]
  },
  {
   "cell_type": "code",
   "execution_count": 29,
   "metadata": {},
   "outputs": [],
   "source": [
    "es=ldata(\"esenciales.txt\")\n",
    "\n",
    "for i in G.nodes:\n",
    "    G.nodes[i][\"es\"] = 0\n",
    "\n",
    "for n in es:\n",
    "    if n[0] in G.nodes:\n",
    "        G.nodes[n[0]][\"es\"] = 1\n",
    "\n",
    "for i in J.nodes:\n",
    "    J.nodes[i][\"es\"] = 0\n",
    "\n",
    "for n in es:\n",
    "    if n[0] in J.nodes:\n",
    "        J.nodes[n[0]][\"es\"] = 1\n",
    "        \n",
    "for i in H.nodes:\n",
    "    H.nodes[i][\"es\"] = 0\n",
    "\n",
    "for n in es:\n",
    "    if n[0] in H.nodes:\n",
    "        H.nodes[n[0]][\"es\"] = 1"
   ]
  },
  {
   "cell_type": "code",
   "execution_count": 73,
   "metadata": {
    "scrolled": true
   },
   "outputs": [
    {
     "data": {
      "image/png": "[encoded data removed]",
      "text/plain": [
       "<matplotlib.figure.Figure at 0x7f0d58ec99b0>"
      ]
     },
     "metadata": {},
     "output_type": "display_data"
    },
    {
     "data": {
      "image/png": "[encoded data removed]",
      "text/plain": [
       "<matplotlib.figure.Figure at 0x7f0d5b2d9eb8>"
      ]
     },
     "metadata": {},
     "output_type": "display_data"
    },
    {
     "data": {
      "image/png": "[encoded data removed]",
      "text/plain": [
       "<matplotlib.figure.Figure at 0x7f0d5917c828>"
      ]
     },
     "metadata": {},
     "output_type": "display_data"
    },
    {
     "name": "stdout",
     "output_type": "stream",
     "text": [
      "[1.0, 0.98901098901098905, 0.97802197802197799, 0.96703296703296704, 0.95604395604395609, 0.94505494505494503, 0.93406593406593408, 0.92307692307692313, 0.91208791208791207, 0.90109890109890112, 0.89010989010989006, 0.87912087912087911, 0.86813186813186816, 0.8571428571428571, 0.84615384615384615, 0.83516483516483508, 0.82417582417582413, 0.81318681318681318, 0.80219780219780223, 0.79120879120879117, 0.78021978021978022, 0.76923076923076916, 0.75824175824175821, 0.74725274725274726, 0.73626373626373631, 0.72527472527472525, 0.71428571428571419, 0.70329670329670324, 0.69230769230769229, 0.68131868131868134, 0.67032967032967028, 0.65934065934065933, 0.64835164835164827, 0.63736263736263732, 0.62637362637362637, 0.61538461538461542, 0.60439560439560436, 0.5934065934065933, 0.58241758241758235, 0.5714285714285714, 0.56043956043956045, 0.5494505494505495, 0.53846153846153844, 0.52747252747252737, 0.51648351648351642, 0.50549450549450547, 0.49450549450549441, 0.48351648351648346, 0.47252747252747251, 0.46153846153846145, 0.4505494505494505, 0.43956043956043955, 0.42857142857142849, 0.41758241758241754, 0.40659340659340659, 0.39560439560439553, 0.38461538461538458, 0.37362637362637363, 0.36263736263736257, 0.35164835164835162, 0.34065934065934056, 0.32967032967032961, 0.31868131868131866, 0.3076923076923076, 0.29670329670329665, 0.2857142857142857, 0.27472527472527464, 0.26373626373626369, 0.25274725274725274, 0.24175824175824168, 0.23076923076923073, 0.21978021978021967, 0.20879120879120872, 0.19780219780219777, 0.1868131868131867, 0.17582417582417575, 0.1648351648351648, 0.15384615384615374, 0.14285714285714279, 0.13186813186813184, 0.12087912087912078, 0.10989010989010983, 0.098901098901098883, 0.087912087912087822, 0.076923076923076872, 0.065934065934065811, 0.054945054945054861, 0.043956043956043911, 0.03296703296703285, 0.0219780219780219, 0.01098901098901095]\n",
      "[0.0006393861892583121, 0.0006393861892583121, 0.0012376237623762376, 0.00205761316872428, 0.0030864197530864196, 0.004524886877828055, 0.006060606060606061, 0.008264462809917356, 0.010638297872340425, 0.013513513513513514, 0.016666666666666666, 0.0196078431372549, 0.022727272727272728, 0.027777777777777776, 0.030303030303030304, 0.03225806451612903, 0.04, 0.041666666666666664, 0.043478260869565216, 0.05, 0.05, 0.0625, 0.06666666666666667, 0.07142857142857142, 0.07692307692307693, 0.08333333333333333, 0.08333333333333333, 0.1, 0.1, 0.1, 0.14285714285714285, 0.16666666666666666, 0.16666666666666666, 0.2, 0.2, 0.2, 0.2, 0.2, 0.25, 0.25, 0.25, 0.25, 0.25, 0.3333333333333333, 0.3333333333333333, 0.3333333333333333, 0.3333333333333333, 0.3333333333333333, 0.3333333333333333, 0.3333333333333333, 0.3333333333333333, 0.3333333333333333, 0.3333333333333333, 0.5, 0.5, 0.5, 0.5, 0.5, 0.5, 0.5, 0.5, 0.5, 0.5, 0.5, 0.5, 0.5, 0.5, 0.5, 0.5, 0.5, 0.5, 0.5, 0.5, 0.5, 0.5, 0.5, 0.5, 0.5, 0.5, 0.5, 0.5, 0.5, 0.5, 1.0, 1.0, 1.0, 1.0, 1.0, 1.0, 1.0, 1.0]\n"
     ]
    }
   ],
   "source": [
    "grados = [gra for (nom,gra) in G.degree()] # [lo_que_quiero  for los_elementos in iterable]\n",
    "nombre = [nom for (nom,gra) in G.degree()] # [lo_que_quiero  for los_elementos in iterable]\n",
    "Datos = np.asarray(grados)\n",
    "\n",
    "frac=[]\n",
    "x=[]\n",
    "\n",
    "for i in range(max(Datos)):\n",
    "    ese=0\n",
    "    noese=0\n",
    "    for j in range(len(Datos)):\n",
    "        if Datos[j]>=i:\n",
    "            if G.nodes[nombre[j]]['es']==1:\n",
    "                ese=+1\n",
    "            else:\n",
    "                noese=noese+1\n",
    "    frac.append(ese/float(ese+noese))\n",
    "    xi=1-1/max(Datos)*i\n",
    "    x.append(xi)\n",
    "\n",
    "plt.plot(x,frac)\n",
    "plt.show()\n",
    "\n",
    "grados = [gra for (nom,gra) in H.degree()] # [lo_que_quiero  for los_elementos in iterable]\n",
    "nombre = [nom for (nom,gra) in H.degree()] # [lo_que_quiero  for los_elementos in iterable]\n",
    "Datos = np.asarray(grados)\n",
    "\n",
    "frac=[]\n",
    "x=[]\n",
    "\n",
    "for i in range(max(Datos)):\n",
    "    ese=0\n",
    "    noese=0\n",
    "    for j in range(len(Datos)):\n",
    "        if Datos[j]>=i:\n",
    "            if H.nodes[nombre[j]]['es']==1:\n",
    "                ese=+1\n",
    "            else:\n",
    "                noese=noese+1\n",
    "    frac.append(ese/float(ese+noese))\n",
    "    xi=1-1/max(Datos)*i\n",
    "    x.append(xi)\n",
    "\n",
    "plt.plot(x,frac)\n",
    "plt.show()\n",
    "\n",
    "grados = [gra for (nom,gra) in J.degree()] # [lo_que_quiero  for los_elementos in iterable]\n",
    "nombre = [nom for (nom,gra) in J.degree()] # [lo_que_quiero  for los_elementos in iterable]\n",
    "Datos = np.asarray(grados)\n",
    "\n",
    "frac=[]\n",
    "x=[]\n",
    "\n",
    "for i in range(max(Datos)):\n",
    "    ese=0\n",
    "    noese=0\n",
    "    for j in range(len(Datos)):\n",
    "        if Datos[j]>=i:\n",
    "            if J.nodes[nombre[j]]['es']==1:\n",
    "                ese=+1\n",
    "            else:\n",
    "                noese=noese+1\n",
    "    frac.append(ese/float(ese+noese))\n",
    "    xi=1-1/max(Datos)*i\n",
    "    x.append(xi)\n",
    "\n",
    "plt.plot(x,frac)\n",
    "plt.show()\n"
   ]
  },
  {
   "cell_type": "code",
   "execution_count": 120,
   "metadata": {},
   "outputs": [
    {
     "data": {
      "image/png": "[encoded data removed]",
      "text/plain": [
       "<matplotlib.figure.Figure at 0x7f0d5b80de48>"
      ]
     },
     "metadata": {},
     "output_type": "display_data"
    }
   ],
   "source": [
    "GG=G.copy()\n",
    "Componente_Gigante_INT=sorted(nx.connected_components(GG), key=len, reverse=True)[0]\n",
    "Componente_Gigante_1 = GG.subgraph(Componente_Gigante_INT)\n",
    "Componente_Gigante = GG.subgraph(Componente_Gigante_INT)\n",
    "\n",
    "paso=0\n",
    "dg=[]\n",
    "pasos=[]\n",
    "\n",
    "while len(Componente_Gigante)>1:\n",
    "    paso+=1\n",
    "    grados_GG = [gra for (nom,gra) in GG.degree()]\n",
    "    Grados = np.asarray(grados_GG)\n",
    "    I=GG.copy() #copio la red para que el iterable no cambie al remover un nodo\n",
    "    for i in I.nodes(): #remuevo el nodo de mayor grado\n",
    "        if GG.degree[i]==np.max(Grados):\n",
    "            GG.remove_node(i)\n",
    "    Componente_Gigante_INT=sorted(nx.connected_components(GG), key=len, reverse=True)[0]\n",
    "    Componente_Gigante = GG.subgraph(Componente_Gigante_INT)\n",
    "\n",
    "    fraccion=len(Componente_Gigante.nodes())/len(Componente_Gigante_1.nodes())\n",
    "    dg.append(fraccion)\n",
    "    pasos.append(paso/len(Componente_Gigante_1.nodes()))\n",
    "\n",
    "plt.legend()\n",
    "plt.xlabel('Fraccion de nodos')\n",
    "plt.ylabel('Componente gigante')\n",
    "plt.show()"
   ]
  },
  {
   "cell_type": "code",
   "execution_count": 137,
   "metadata": {},
   "outputs": [
    {
     "data": {
      "image/png": "[encoded data removed]",
      "text/plain": [
       "<matplotlib.figure.Figure at 0x7f0d5b8427b8>"
      ]
     },
     "metadata": {},
     "output_type": "display_data"
    }
   ],
   "source": [
    "import random\n",
    "\n",
    "GG=G.copy()\n",
    "Componente_Gigante_INT=sorted(nx.connected_components(GG), key=len, reverse=True)[0]\n",
    "Componente_Gigante_1 = GG.subgraph(Componente_Gigante_INT)\n",
    "Componente_Gigante = GG.subgraph(Componente_Gigante_INT)\n",
    "\n",
    "paso=0\n",
    "dg=[]\n",
    "pasos=[]\n",
    "\n",
    "while len(Componente_Gigante)>1:\n",
    "    paso+=1\n",
    "\n",
    "    listanodos = [nom for (nom,gra) in GG.degree()]\n",
    "    GG.remove_node(random.choice(listanodos))\n",
    "    \n",
    "    Componente_Gigante_INT=sorted(nx.connected_components(GG), key=len, reverse=True)[0]\n",
    "    Componente_Gigante = GG.subgraph(Componente_Gigante_INT)\n",
    "\n",
    "    fraccion=len(Componente_Gigante.nodes())/len(Componente_Gigante_1.nodes())\n",
    "    dg.append(fraccion)\n",
    "    pasos.append(paso/len(Componente_Gigante_1.nodes()))\n",
    "    GG=Componente_Gigante.copy()\n",
    "\n",
    "\n",
    "plt.legend()\n",
    "plt.xlabel('Fraccion de nodos')\n",
    "plt.ylabel('Componente gigante')\n",
    "plt.show()"
   ]
  },
  {
   "cell_type": "code",
   "execution_count": null,
   "metadata": {},
   "outputs": [],
   "source": []
  },
  {
   "cell_type": "code",
   "execution_count": null,
   "metadata": {},
   "outputs": [],
   "source": []
  },
  {
   "cell_type": "code",
   "execution_count": null,
   "metadata": {},
   "outputs": [],
   "source": []
  },
  {
   "cell_type": "code",
   "execution_count": null,
   "metadata": {},
   "outputs": [],
   "source": []
  },
  {
   "cell_type": "code",
   "execution_count": null,
   "metadata": {
    "collapsed": true
   },
   "outputs": [],
   "source": []
  }
 ],
 "metadata": {
  "kernelspec": {
   "display_name": "Python 3",
   "language": "python",
   "name": "python3"
  },
  "language_info": {
   "codemirror_mode": {
    "name": "ipython",
    "version": 3
   },
   "file_extension": ".py",
   "mimetype": "text/x-python",
   "name": "python",
   "nbconvert_exporter": "python",
   "pygments_lexer": "ipython3",
   "version": "3.5.2"
  }
 },
 "nbformat": 4,
 "nbformat_minor": 2
}

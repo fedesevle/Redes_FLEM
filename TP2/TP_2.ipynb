{
 "cells": [
  {
   "cell_type": "markdown",
   "metadata": {},
   "source": [
    "# Importamos todas las Redes y librerías"
   ]
  },
  {
   "cell_type": "code",
   "execution_count": 1,
   "metadata": {},
   "outputs": [],
   "source": [
    "import matplotlib.pylab as plt\n",
    "import networkx as nx\n",
    "import numpy as np\n",
    "import pandas as pd\n",
    "def ldata(archive):\n",
    "    f=open(archive)\n",
    "    data=[]\n",
    "    for line in f:\n",
    "        line=line.strip()\n",
    "        col=line.split()\n",
    "        data.append(col)\n",
    "    return data\n",
    "a=ldata(\"yeast_AP-MS.txt\");b=ldata(\"yeast_LIT.txt\");d=ldata(\"yeast_Y2H.txt\")\n",
    "G = nx.Graph();G.add_edges_from(a)\n",
    "H = nx.Graph();H.add_edges_from(b)\n",
    "J = nx.Graph();J.add_edges_from(d)"
   ]
  },
  {
   "cell_type": "markdown",
   "metadata": {},
   "source": [
    "# Tabla 1 de Zotenko"
   ]
  },
  {
   "cell_type": "code",
   "execution_count": 2,
   "metadata": {},
   "outputs": [
    {
     "name": "stdout",
     "output_type": "stream",
     "text": [
      "       Cantidad de nodos  Cantidad de enlaces  Grado medio  \\\n",
      "AP-MS               1622                 9070    11.183724   \n",
      "LIT                 1536                 2925     3.808594   \n",
      "Y2H                 2018                 2930     2.903865   \n",
      "\n",
      "       Clustering medio (promedio)  Clustering medio (global)  \n",
      "AP-MS                     0.554636                   0.618590  \n",
      "LIT                       0.292492                   0.346193  \n",
      "Y2H                       0.046194                   0.023614  \n"
     ]
    }
   ],
   "source": [
    "Cantidad_nodos=[G.number_of_nodes(),H.number_of_nodes(),J.number_of_nodes()]\n",
    "                \n",
    "Cantidad_enlaces=[G.number_of_edges(),H.number_of_edges(),J.number_of_edges()]\n",
    "                \n",
    "grados = [gra for (nom,gra) in G.degree()];grados_media_g=np.mean(np.asarray(grados))\n",
    "grados = [gra for (nom,gra) in H.degree()];grados_media_h=np.mean(np.asarray(grados))\n",
    "grados = [gra for (nom,gra) in J.degree()];grados_media_j=np.mean(np.asarray(grados))\n",
    "Grado_medio=[grados_media_g,grados_media_h,grados_media_j]\n",
    "\n",
    "cluster=[nx.average_clustering(G),nx.average_clustering(H),nx.average_clustering(J)]\n",
    "                \n",
    "trans=[nx.transitivity(G),nx.transitivity(H),nx.transitivity(J)]     \n",
    "\n",
    "d = {'Cantidad de nodos': Cantidad_nodos, 'Cantidad de enlaces': Cantidad_enlaces, 'Grado medio': Grado_medio, 'Clustering medio (promedio)': cluster, 'Clustering medio (global)': trans}\n",
    "Tabla_1=pd.DataFrame(data=d)\n",
    "Tabla_1.index=[\"AP-MS\",\"LIT\",\"Y2H\"]\n",
    "\n",
    "print(Tabla_1)"
   ]
  },
  {
   "cell_type": "markdown",
   "metadata": {},
   "source": [
    "# Tabla 2 de Zotenko"
   ]
  },
  {
   "cell_type": "code",
   "execution_count": 3,
   "metadata": {},
   "outputs": [
    {
     "name": "stdout",
     "output_type": "stream",
     "text": [
      "           0          1          2\n",
      "0      AP-MS   0.143109  0.0286659\n",
      "1   0.443761        LIT  0.0888889\n",
      "2  0.0887372  0.0887372        Y2H\n"
     ]
    }
   ],
   "source": [
    "def proporcion_edges(RED1,RED2):\n",
    "    cont = 0\n",
    "    for i in RED1.edges:\n",
    "        if i in RED2.edges:\n",
    "            cont=cont+1\n",
    "    return(cont/RED1.number_of_edges())\n",
    "GH=proporcion_edges(G,H);GJ=proporcion_edges(G,J)\n",
    "HG=proporcion_edges(H,G);HJ=proporcion_edges(H,J)\n",
    "JG=proporcion_edges(J,G);JH=proporcion_edges(J,H)\n",
    "col1=['AP-MS', GH, GJ];col2=[HG, 'LIT', HJ];col3=[JG, JH, 'Y2H']\n",
    "\n",
    "Tabla_2=pd.DataFrame(data=[col1, col2, col3])\n",
    "print(Tabla_2)"
   ]
  },
  {
   "cell_type": "code",
   "execution_count": 4,
   "metadata": {},
   "outputs": [],
   "source": [
    "es=ldata(\"esenciales.txt\")\n",
    "\n",
    "for i in G.nodes:\n",
    "    G.nodes[i][\"es\"] = 0\n",
    "\n",
    "for n in es:\n",
    "    if n[0] in G.nodes:\n",
    "        G.nodes[n[0]][\"es\"] = 1\n",
    "\n",
    "for i in J.nodes:\n",
    "    J.nodes[i][\"es\"] = 0\n",
    "\n",
    "for n in es:\n",
    "    if n[0] in J.nodes:\n",
    "        J.nodes[n[0]][\"es\"] = 1\n",
    "        \n",
    "for i in H.nodes:\n",
    "    H.nodes[i][\"es\"] = 0\n",
    "\n",
    "for n in es:\n",
    "    if n[0] in H.nodes:\n",
    "        H.nodes[n[0]][\"es\"] = 1"
   ]
  },
  {
   "cell_type": "markdown",
   "metadata": {},
   "source": [
    "# Figura 1 de Zotenko"
   ]
  },
  {
   "cell_type": "code",
   "execution_count": 5,
   "metadata": {
    "scrolled": true
   },
   "outputs": [
    {
     "data": {
      "image/png": "[encoded data removed]",
      "text/plain": [
       "<Figure size 432x288 with 1 Axes>"
      ]
     },
     "metadata": {},
     "output_type": "display_data"
    }
   ],
   "source": [
    "grados = [gra for (nom,gra) in G.degree()] # [lo_que_quiero  for los_elementos in iterable]\n",
    "nombre = [nom for (nom,gra) in G.degree()] # [lo_que_quiero  for los_elementos in iterable]\n",
    "Datos = np.asarray(grados)\n",
    "\n",
    "frac=[]\n",
    "x=[]\n",
    "\n",
    "for i in range(max(Datos)):\n",
    "    ese=0\n",
    "    noese=0\n",
    "    for j in range(len(Datos)):\n",
    "        if Datos[j]>=i:\n",
    "            if G.nodes[nombre[j]]['es']==1:\n",
    "                ese=+1\n",
    "            else:\n",
    "                noese=noese+1\n",
    "    frac.append(ese/float(ese+noese))\n",
    "    xi=1-1/max(Datos)*i\n",
    "    x.append(xi)\n",
    "Gx=x.copy()\n",
    "Gfrac=frac.copy()\n",
    "\n",
    "grados = [gra for (nom,gra) in H.degree()] # [lo_que_quiero  for los_elementos in iterable]\n",
    "nombre = [nom for (nom,gra) in H.degree()] # [lo_que_quiero  for los_elementos in iterable]\n",
    "Datos = np.asarray(grados)\n",
    "\n",
    "frac=[]\n",
    "x=[]\n",
    "\n",
    "for i in range(max(Datos)):\n",
    "    ese=0\n",
    "    noese=0\n",
    "    for j in range(len(Datos)):\n",
    "        if Datos[j]>=i:\n",
    "            if H.nodes[nombre[j]]['es']==1:\n",
    "                ese=+1\n",
    "            else:\n",
    "                noese=noese+1\n",
    "    frac.append(ese/float(ese+noese))\n",
    "    xi=1-1/max(Datos)*i\n",
    "    x.append(xi)\n",
    "Hx=x.copy()\n",
    "Hfrac=frac.copy()\n",
    "\n",
    "grados = [gra for (nom,gra) in J.degree()] # [lo_que_quiero  for los_elementos in iterable]\n",
    "nombre = [nom for (nom,gra) in J.degree()] # [lo_que_quiero  for los_elementos in iterable]\n",
    "Datos = np.asarray(grados)\n",
    "\n",
    "frac=[]\n",
    "x=[]\n",
    "\n",
    "for i in range(max(Datos)):\n",
    "    ese=0\n",
    "    noese=0\n",
    "    for j in range(len(Datos)):\n",
    "        if Datos[j]>=i:\n",
    "            if J.nodes[nombre[j]]['es']==1:\n",
    "                ese=+1\n",
    "            else:\n",
    "                noese=noese+1\n",
    "    frac.append(ese/float(ese+noese))\n",
    "    xi=1-1/max(Datos)*i\n",
    "    x.append(xi)\n",
    "Jx=x.copy()\n",
    "Jfrac=frac.copy() \n",
    "\n",
    "plt.plot(Gx,Gfrac,label='AP-MS');plt.plot(Hx,Hfrac,label='LIT');plt.plot(Jx,Jfrac,label='Y2H')\n",
    "plt.legend();plt.ylabel(\"Fracción de Nodos Esenciales\");plt.xlabel(\"Umbral de Hubs\")\n",
    "plt.show()"
   ]
  },
  {
   "cell_type": "markdown",
   "metadata": {},
   "source": [
    "# Figura 3 de Zotenko"
   ]
  },
  {
   "cell_type": "markdown",
   "metadata": {},
   "source": [
    "## Sacando al azar"
   ]
  },
  {
   "cell_type": "code",
   "execution_count": 6,
   "metadata": {},
   "outputs": [],
   "source": [
    "import random \n",
    "def sacar_random(RED):\n",
    "    GG=RED.copy() #Copio la red\n",
    "    Componente_Gigante_INT=sorted(nx.connected_components(GG), key=len, reverse=True)[0] #Conjunto de nodos comp_gigante\n",
    "    Componente_Gigante = GG.subgraph(Componente_Gigante_INT) #armo la RED con sólo la componente gigante\n",
    "    cantidad_nodos_gigante = len(Componente_Gigante)\n",
    "\n",
    "    paso=0\n",
    "    dg=[]\n",
    "    pasos=[]\n",
    "    while len(Componente_Gigante)>1:\n",
    "        paso+=1\n",
    "        listanodos = [nom for (nom,gra) in Componente_Gigante.degree()]\n",
    "        GG.remove_node(random.choice(listanodos))\n",
    "        Componente_Gigante_INT=sorted(nx.connected_components(GG), key=len, reverse=True)[0]\n",
    "        Componente_Gigante = GG.subgraph(Componente_Gigante_INT)\n",
    "        fraccion=len(Componente_Gigante)/cantidad_nodos_gigante\n",
    "        dg.append(fraccion)\n",
    "        pasos.append(paso/cantidad_nodos_gigante)\n",
    "        GG=Componente_Gigante.copy()\n",
    "    return(pasos,dg)"
   ]
  },
  {
   "cell_type": "markdown",
   "metadata": {},
   "source": [
    "## Sacando el de mayor grado"
   ]
  },
  {
   "cell_type": "code",
   "execution_count": 7,
   "metadata": {},
   "outputs": [],
   "source": [
    "def sacar_grado(RED):\n",
    "    GG=RED.copy() #Copio la red\n",
    "    Componente_Gigante_INT=sorted(nx.connected_components(GG), key=len, reverse=True)[0] #Conjunto de nodos comp_gigante\n",
    "    Componente_Gigante = GG.subgraph(Componente_Gigante_INT) #armo la RED con sólo la componente gigante\n",
    "    cantidad_nodos_gigante = len(Componente_Gigante)\n",
    "\n",
    "    paso=0\n",
    "    dg=[]\n",
    "    pasos=[]\n",
    "    while len(Componente_Gigante)>1:\n",
    "        paso+=1\n",
    "        grados_GG = [gra for (nom,gra) in GG.degree()]\n",
    "        Grados = np.asarray(grados_GG)\n",
    "        I=GG.copy() #copio la red para que el iterable no cambie al remover un nodo\n",
    "        for i in I.nodes(): #remuevo el nodo de mayor grado\n",
    "            if GG.degree[i]==np.max(Grados):\n",
    "                GG.remove_node(i)\n",
    "        Componente_Gigante_INT=sorted(nx.connected_components(GG), key=len, reverse=True)[0] #Redefino la componente gigante sin el nodo que saqué\n",
    "        Componente_Gigante = GG.subgraph(Componente_Gigante_INT)\n",
    "        GG=Componente_Gigante.copy()\n",
    "        fraccion=len(Componente_Gigante)/cantidad_nodos_gigante #proporción de nodos que restan\n",
    "        dg.append(fraccion)\n",
    "        pasos.append(paso/cantidad_nodos_gigante) #proporción de nodos que saqué del total de la comp gigante original\n",
    "    return(pasos,dg)"
   ]
  },
  {
   "cell_type": "markdown",
   "metadata": {},
   "source": [
    "## Sacando el de mayor betweenes"
   ]
  },
  {
   "cell_type": "code",
   "execution_count": 8,
   "metadata": {},
   "outputs": [],
   "source": [
    "def sacar_between(RED):\n",
    "    GG=RED.copy()\n",
    "    Componente_Gigante_INT=sorted(nx.connected_components(GG), key=len, reverse=True)[0]\n",
    "    Componente_Gigante = GG.subgraph(Componente_Gigante_INT)\n",
    "    cantidad_nodos_gigante = len(Componente_Gigante)\n",
    "    bet=nx.betweenness_centrality(Componente_Gigante, k=None, normalized=True, weight=None, endpoints=False, seed=None)\n",
    "\n",
    "    paso=0\n",
    "    dg=[]\n",
    "    pasos=[]\n",
    "\n",
    "    nom_GG = [nom for (nom,betw) in bet.items()]\n",
    "    betw_GG = [betw for (nom,betw) in bet.items()]\n",
    "    betw = np.asarray(betw_GG)\n",
    "\n",
    "    while len(Componente_Gigante)>1:\n",
    "        if nom_GG[np.argmax(betw)] in GG.nodes():\n",
    "            GG.remove_node(nom_GG[np.argmax(betw)])\n",
    "            #betw = betw[betw!=np.max(betw)]\n",
    "            del(betw_GG[np.argmax(betw)])\n",
    "            del(nom_GG[np.argmax(betw)])\n",
    "            betw = np.asarray(betw_GG)\n",
    "            Componente_Gigante_INT=sorted(nx.connected_components(GG), key=len, reverse=True)[0]\n",
    "            Componente_Gigante = GG.subgraph(Componente_Gigante_INT)\n",
    "            paso+=1\n",
    "            GG=Componente_Gigante.copy()\n",
    "        else:\n",
    "            del(betw_GG[np.argmax(betw)])\n",
    "            del(nom_GG[np.argmax(betw)])\n",
    "            betw = np.asarray(betw_GG)\n",
    "        fraccion=len(Componente_Gigante)/cantidad_nodos_gigante\n",
    "        dg.append(fraccion)\n",
    "        pasos.append(paso/cantidad_nodos_gigante)\n",
    "    return(pasos,dg)"
   ]
  },
  {
   "cell_type": "markdown",
   "metadata": {},
   "source": [
    "## Sacando el de mayor Eigenvector"
   ]
  },
  {
   "cell_type": "code",
   "execution_count": 9,
   "metadata": {},
   "outputs": [],
   "source": [
    "def sacar_eigen(RED):\n",
    "    GG=RED.copy()\n",
    "    Componente_Gigante_INT=sorted(nx.connected_components(GG), key=len, reverse=True)[0]\n",
    "    Componente_Gigante = GG.subgraph(Componente_Gigante_INT)\n",
    "    cantidad_nodos_gigante = len(Componente_Gigante)\n",
    "    GG=Componente_Gigante.copy()\n",
    "    bet=nx.eigenvector_centrality(Componente_Gigante, max_iter=100, tol=1e-06, nstart=None, weight='weight')\n",
    "\n",
    "    paso=0\n",
    "    dg=[]\n",
    "    pasos=[]\n",
    "\n",
    "    nom_GG = [nom for (nom,betw) in bet.items()]\n",
    "    betw_GG = [betw for (nom,betw) in bet.items()]\n",
    "    betw = np.asarray(betw_GG)\n",
    "\n",
    "    while len(Componente_Gigante)>1:\n",
    "        if nom_GG[np.argmax(betw)] in GG.nodes():\n",
    "            GG.remove_node(nom_GG[np.argmax(betw)])\n",
    "            del(betw_GG[np.argmax(betw)])\n",
    "            del(nom_GG[np.argmax(betw)])\n",
    "            betw = np.asarray(betw_GG)\n",
    "            Componente_Gigante_INT=sorted(nx.connected_components(GG), key=len, reverse=True)[0]\n",
    "            Componente_Gigante = GG.subgraph(Componente_Gigante_INT)\n",
    "            paso+=1\n",
    "            GG=Componente_Gigante.copy()\n",
    "        else:\n",
    "            del(betw_GG[np.argmax(betw)])\n",
    "            del(nom_GG[np.argmax(betw)])\n",
    "            betw = np.asarray(betw_GG)  \n",
    "        fraccion=len(Componente_Gigante)/cantidad_nodos_gigante\n",
    "        dg.append(fraccion)\n",
    "        pasos.append(paso/cantidad_nodos_gigante)\n",
    "    return(pasos,dg)"
   ]
  },
  {
   "cell_type": "markdown",
   "metadata": {},
   "source": [
    "## Calculo las funciones a todas las redes"
   ]
  },
  {
   "cell_type": "code",
   "execution_count": 10,
   "metadata": {},
   "outputs": [],
   "source": [
    "RED=G\n",
    "pasos_random_G,nodos_random_G=sacar_random(RED)\n",
    "pasos_grado_G,nodos_grado_G=sacar_grado(RED)\n",
    "pasos_between_G,nodos_between_G=sacar_between(RED)\n",
    "pasos_eigen_G,nodos_eigen_G=sacar_eigen(RED)"
   ]
  },
  {
   "cell_type": "code",
   "execution_count": 11,
   "metadata": {},
   "outputs": [],
   "source": [
    "RED=H\n",
    "pasos_random_H,nodos_random_H=sacar_random(RED)\n",
    "pasos_grado_H,nodos_grado_H=sacar_grado(RED)\n",
    "pasos_between_H,nodos_between_H=sacar_between(RED)\n",
    "pasos_eigen_H,nodos_eigen_H=sacar_eigen(RED)"
   ]
  },
  {
   "cell_type": "code",
   "execution_count": 12,
   "metadata": {},
   "outputs": [],
   "source": [
    "RED=J\n",
    "pasos_random_J,nodos_random_J=sacar_random(RED)\n",
    "pasos_grado_J,nodos_grado_J=sacar_grado(RED)\n",
    "pasos_between_J,nodos_between_J=sacar_between(RED)\n",
    "pasos_eigen_J,nodos_eigen_J=sacar_eigen(RED)"
   ]
  },
  {
   "cell_type": "markdown",
   "metadata": {},
   "source": [
    "## Ploteo"
   ]
  },
  {
   "cell_type": "code",
   "execution_count": 13,
   "metadata": {},
   "outputs": [
    {
     "data": {
      "image/png": "[encoded data removed]",
      "text/plain": [
       "<Figure size 432x288 with 1 Axes>"
      ]
     },
     "metadata": {},
     "output_type": "display_data"
    },
    {
     "data": {
      "image/png": "[encoded data removed]",
      "text/plain": [
       "<Figure size 432x288 with 1 Axes>"
      ]
     },
     "metadata": {},
     "output_type": "display_data"
    },
    {
     "data": {
      "image/png": "[encoded data removed]",
      "text/plain": [
       "<Figure size 432x288 with 1 Axes>"
      ]
     },
     "metadata": {},
     "output_type": "display_data"
    }
   ],
   "source": [
    "plt.figure()\n",
    "plt.plot(pasos_random_G,nodos_random_G,label=\"Random\")\n",
    "plt.plot(pasos_grado_G,nodos_grado_G,label=\"Mayor grado\")\n",
    "plt.plot(pasos_between_G,nodos_between_G,label=\"Betweenes\")\n",
    "plt.plot(pasos_eigen_G,nodos_eigen_G,label=\"Eigenvector\")\n",
    "plt.legend();plt.title(\"AP-MS\");plt.xlabel('Fraccion de nodos');plt.ylabel('Componente gigante');plt.xlim([0,0.5])\n",
    "plt.figure()\n",
    "plt.plot(pasos_random_H,nodos_random_H,label=\"Random\")\n",
    "plt.plot(pasos_grado_H,nodos_grado_H,label=\"Mayor grado\")\n",
    "plt.plot(pasos_between_H,nodos_between_H,label=\"Betweenes\")\n",
    "plt.plot(pasos_eigen_H,nodos_eigen_H,label=\"Eigenvector\")\n",
    "plt.legend();plt.title(\"LIT\");plt.xlabel('Fraccion de nodos');plt.ylabel('Componente gigante');plt.xlim([0,0.5])\n",
    "plt.figure()\n",
    "plt.plot(pasos_random_J,nodos_random_J,label=\"Random\")\n",
    "plt.plot(pasos_grado_J,nodos_grado_J,label=\"Mayor grado\")\n",
    "plt.plot(pasos_between_J,nodos_between_J,label=\"Betweenes\")\n",
    "plt.plot(pasos_eigen_J,nodos_eigen_J,label=\"Eigenvector\")\n",
    "plt.legend();plt.title(\"Y2H\");plt.xlabel('Fraccion de nodos');plt.ylabel('Componente gigante');plt.xlim([0,0.5])\n",
    "plt.show()"
   ]
  },
  {
   "cell_type": "markdown",
   "metadata": {
    "collapsed": true
   },
   "source": [
    "# Tabla 3 Zotenko"
   ]
  },
  {
   "cell_type": "markdown",
   "metadata": {
    "collapsed": true
   },
   "source": [
    "## Saco nodos esenciales al azar"
   ]
  },
  {
   "cell_type": "code",
   "execution_count": 54,
   "metadata": {},
   "outputs": [],
   "source": [
    "def saco_esenciales(RED):\n",
    "    GG_es=RED.copy()\n",
    "    Componente_Gigante_INT_es=sorted(nx.connected_components(GG_es), key=len, reverse=True)[0]\n",
    "    Componente_Gigante_es = GG_es.subgraph(Componente_Gigante_INT_es)\n",
    "    cantidad_nodos_gigante = len(Componente_Gigante_es)\n",
    "\n",
    "    GG_nes=GG_es.copy()\n",
    "    Componente_Gigante_INT_nes=sorted(nx.connected_components(GG_nes), key=len, reverse=True)[0]\n",
    "    Componente_Gigante_nes = GG_nes.subgraph(Componente_Gigante_INT_nes)\n",
    "\n",
    "    #Armo lista con nodos esenciales\n",
    "    esenciales = []\n",
    "    no_esenciales = []\n",
    "    for (p, d) in Componente_Gigante_es.nodes(data=True):\n",
    "        if d['es'] == 1:\n",
    "            esenciales.append(p)\n",
    "        else:\n",
    "            no_esenciales.append(p)\n",
    "\n",
    "    esenciales=np.random.choice(esenciales,len(esenciales),replace=False) #Mezcla esenciales\n",
    "    esenciales=np.ndarray.tolist(esenciales)\n",
    "\n",
    "    no_esenciales=np.random.choice(no_esenciales,len(no_esenciales),replace=False) #Mezcla esenciales\n",
    "    no_esenciales=np.ndarray.tolist(no_esenciales)\n",
    "\n",
    "    grados_no_esenciales = [gra for (nom,gra) in Componente_Gigante_nes.degree(no_esenciales)]\n",
    "    Grados_ne = np.asarray(grados_no_esenciales)\n",
    "    Grados_ne_lista=np.ndarray.tolist(Grados_ne)\n",
    "\n",
    "    grados_esenciales = [gra for (nom,gra) in Componente_Gigante_es.degree(esenciales)]\n",
    "    Grados_e = np.asarray(grados_esenciales)\n",
    "    Grados_e_lista=np.ndarray.tolist(Grados_e)\n",
    "\n",
    "    paso=0\n",
    "    pasos=[]\n",
    "    dg_esencial=[]\n",
    "    dg_no_esencial=[]\n",
    "    grado=[]\n",
    "    # La condición ahora es que aún existan nodos esenciales en la componente gigante\n",
    "    while len(esenciales)>0 and len(no_esenciales)>0:\n",
    "        if esenciales[0] in GG_es.nodes():\n",
    "            nodo_random_esencial=esenciales[0]\n",
    "            grado_es=RED.degree(nodo_random_esencial)\n",
    "            if grado_es in Grados_ne:\n",
    "\n",
    "                ind=Grados_ne_lista.index(grado_es)\n",
    "                grado_nes=Grados_ne_lista[ind]\n",
    "\n",
    "                nodo_random_no_esencial=no_esenciales[ind]\n",
    "                GG_es.remove_node(nodo_random_esencial)\n",
    "                GG_nes.remove_node(nodo_random_no_esencial)\n",
    "\n",
    "                esenciales.remove(nodo_random_esencial)\n",
    "                no_esenciales.remove(nodo_random_no_esencial)\n",
    "                Grados_ne_lista.remove(grado_nes)\n",
    "                Grados_e_lista.remove(grado_es)\n",
    "\n",
    "                Componente_Gigante_INT_es=sorted(nx.connected_components(GG_es), key=len, reverse=True)[0]\n",
    "                Componente_Gigante_es = GG_es.subgraph(Componente_Gigante_INT_es)\n",
    "                GG_es=Componente_Gigante_es.copy()\n",
    "\n",
    "                Componente_Gigante_INT_nes=sorted(nx.connected_components(GG_nes), key=len, reverse=True)[0]\n",
    "                Componente_Gigante_nes = GG_nes.subgraph(Componente_Gigante_INT_nes)\n",
    "                GG_nes=Componente_Gigante_nes.copy()\n",
    "\n",
    "                grados_no_esenciales = [gra for (nom,gra) in RED.degree(no_esenciales)]\n",
    "                Grados_ne = np.asarray(grados_no_esenciales)\n",
    "                Grados_ne_lista=np.ndarray.tolist(Grados_ne)\n",
    "\n",
    "                grados_esenciales = [gra for (nom,gra) in RED.degree(esenciales)]\n",
    "                Grados_e = np.asarray(grados_esenciales)\n",
    "                Grados_e_lista=np.ndarray.tolist(Grados_e)\n",
    "\n",
    "                no_esenciales = []\n",
    "                for (p, d) in GG_nes.nodes(data=True):\n",
    "                    if d['es'] == 0:\n",
    "                        no_esenciales.append(p)\n",
    "\n",
    "                paso+=1\n",
    "                fraccion_es=len(Componente_Gigante_es)/cantidad_nodos_gigante\n",
    "                fraccion_nes=len(Componente_Gigante_nes)/cantidad_nodos_gigante\n",
    "                dg_esencial.append(fraccion_es)\n",
    "                dg_no_esencial.append(fraccion_nes)\n",
    "                pasos.append(paso/cantidad_nodos_gigante)\n",
    "                grados.append(grado_es)\n",
    "            else:\n",
    "                Grados_e_lista.remove(RED.degree(esenciales[0]))\n",
    "                esenciales.remove(esenciales[0])         \n",
    "        else:\n",
    "            Grados_e_lista.remove(RED.degree(esenciales[0]))\n",
    "            esenciales.remove(esenciales[0]) \n",
    "    return(pasos,dg_esencial,dg_no_esencial)           "
   ]
  },
  {
   "cell_type": "markdown",
   "metadata": {
    "collapsed": true
   },
   "source": [
    "## Aplico N veces para obtener una distribución a las 3 redes"
   ]
  },
  {
   "cell_type": "markdown",
   "metadata": {
    "collapsed": true
   },
   "source": [
    "### Red AP-MS"
   ]
  },
  {
   "cell_type": "code",
   "execution_count": null,
   "metadata": {},
   "outputs": [],
   "source": [
    "N=30\n",
    "G_nodos_sacados_lista=[]\n",
    "G_nodos_restantes_esencial_lista=[]\n",
    "G_nodos_restantes_no_esencial_lista=[]\n",
    "for i in range(N):\n",
    "    nodos_sacados,nodos_restantes_esencial,nodos_restantes_no_esencial=saco_esenciales(G)\n",
    "    G_nodos_sacados_lista.append(nodos_sacados)\n",
    "    G_nodos_restantes_esencial_lista.append(nodos_restantes_esencial)\n",
    "    G_nodos_restantes_no_esencial_lista.append(nodos_restantes_no_esencial)\n",
    "    #print(i/N)"
   ]
  },
  {
   "cell_type": "markdown",
   "metadata": {
    "collapsed": true
   },
   "source": [
    "### Red LIT"
   ]
  },
  {
   "cell_type": "code",
   "execution_count": null,
   "metadata": {},
   "outputs": [],
   "source": [
    "H_nodos_sacados_lista=[]\n",
    "H_nodos_restantes_esencial_lista=[]\n",
    "H_nodos_restantes_no_esencial_lista=[]\n",
    "for i in range(N):\n",
    "    nodos_sacados,nodos_restantes_esencial,nodos_restantes_no_esencial=saco_esenciales(H)\n",
    "    H_nodos_sacados_lista.append(nodos_sacados)\n",
    "    H_nodos_restantes_esencial_lista.append(nodos_restantes_esencial)\n",
    "    H_nodos_restantes_no_esencial_lista.append(nodos_restantes_no_esencial)\n",
    "    #print(i/N)"
   ]
  },
  {
   "cell_type": "markdown",
   "metadata": {
    "collapsed": true
   },
   "source": [
    "### Red Y2H"
   ]
  },
  {
   "cell_type": "code",
   "execution_count": null,
   "metadata": {},
   "outputs": [],
   "source": [
    "J_nodos_sacados_lista=[]\n",
    "J_nodos_restantes_esencial_lista=[]\n",
    "J_nodos_restantes_no_esencial_lista=[]\n",
    "for i in range(N):\n",
    "    nodos_sacados,nodos_restantes_esencial,nodos_restantes_no_esencial=saco_esenciales(J)\n",
    "    J_nodos_sacados_lista.append(nodos_sacados)\n",
    "    J_nodos_restantes_esencial_lista.append(nodos_restantes_esencial)\n",
    "    J_nodos_restantes_no_esencial_lista.append(nodos_restantes_no_esencial)\n",
    "    #print(i/N)"
   ]
  },
  {
   "cell_type": "markdown",
   "metadata": {
    "collapsed": true
   },
   "source": [
    "## Grafico para las 3 redes"
   ]
  },
  {
   "cell_type": "code",
   "execution_count": null,
   "metadata": {},
   "outputs": [],
   "source": [
    "for i in range(len(G_nodos_sacados_lista)):\n",
    "    plt.plot(G_nodos_sacados_lista[i],G_nodos_restantes_esencial_lista[i],'r')\n",
    "    plt.plot(G_nodos_sacados_lista[i],G_nodos_restantes_no_esencial_lista[i],'b')\n",
    "plt.plot(G_nodos_sacados_lista[i],G_nodos_restantes_esencial_lista[i],'r',label='Esenciales')\n",
    "plt.plot(G_nodos_sacados_lista[i],G_nodos_restantes_no_esencial_lista[i],'b',label='NO esenciales')\n",
    "plt.legend();plt.title('AP-MS')\n",
    "plt.show()\n",
    "for i in range(len(H_nodos_sacados_lista)):\n",
    "    plt.plot(H_nodos_sacados_lista[i],H_nodos_restantes_esencial_lista[i],'r')\n",
    "    plt.plot(H_nodos_sacados_lista[i],H_nodos_restantes_no_esencial_lista[i],'b')\n",
    "plt.plot(H_nodos_sacados_lista[i],H_nodos_restantes_esencial_lista[i],'r',label='Esenciales')\n",
    "plt.plot(H_nodos_sacados_lista[i],H_nodos_restantes_no_esencial_lista[i],'b',label='NO esenciales')\n",
    "plt.legend();plt.title('LIT')\n",
    "plt.show()\n",
    "for i in range(len(J_nodos_sacados_lista)):\n",
    "    plt.plot(J_nodos_sacados_lista[i],J_nodos_restantes_esencial_lista[i],'r')\n",
    "    plt.plot(J_nodos_sacados_lista[i],J_nodos_restantes_no_esencial_lista[i],'b')\n",
    "plt.plot(J_nodos_sacados_lista[i],J_nodos_restantes_esencial_lista[i],'r',label='Esenciales')\n",
    "plt.plot(J_nodos_sacados_lista[i],J_nodos_restantes_no_esencial_lista[i],'b',label='NO esenciales')\n",
    "plt.legend();plt.title('Y2H')\n",
    "plt.show()"
   ]
  },
  {
   "cell_type": "code",
   "execution_count": null,
   "metadata": {},
   "outputs": [],
   "source": []
  }
 ],
 "metadata": {
  "kernelspec": {
   "display_name": "Python 3",
   "language": "python",
   "name": "python3"
  },
  "language_info": {
   "codemirror_mode": {
    "name": "ipython",
    "version": 3
   },
   "file_extension": ".py",
   "mimetype": "text/x-python",
   "name": "python",
   "nbconvert_exporter": "python",
   "pygments_lexer": "ipython3",
   "version": "3.6.5"
  }
 },
 "nbformat": 4,
 "nbformat_minor": 2
}

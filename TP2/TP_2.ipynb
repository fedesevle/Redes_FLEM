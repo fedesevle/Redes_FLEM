{
 "cells": [
  {
   "cell_type": "markdown",
   "metadata": {},
   "source": [
    "# Importamos todas las Redes y librerías"
   ]
  },
  {
   "cell_type": "code",
   "execution_count": 1,
   "metadata": {},
   "outputs": [
    {
     "name": "stderr",
     "output_type": "stream",
     "text": [
      "/usr/local/lib/python3.5/dist-packages/pandas/core/computation/__init__.py:18: UserWarning: The installed version of numexpr 2.4.3 is not supported in pandas and will be not be used\n",
      "The minimum supported version is 2.4.6\n",
      "\n",
      "  ver=ver, min_ver=_MIN_NUMEXPR_VERSION), UserWarning)\n"
     ]
    }
   ],
   "source": [
    "import matplotlib.pylab as plt\n",
    "import networkx as nx\n",
    "import numpy as np\n",
    "import pandas as pd\n",
    "def ldata(archive):\n",
    "    f=open(archive)\n",
    "    data=[]\n",
    "    for line in f:\n",
    "        line=line.strip()\n",
    "        col=line.split()\n",
    "        data.append(col)\n",
    "    return data\n",
    "a=ldata(\"yeast_AP-MS.txt\");b=ldata(\"yeast_LIT.txt\");d=ldata(\"yeast_Y2H.txt\")\n",
    "G = nx.Graph();G.add_edges_from(a)\n",
    "H = nx.Graph();H.add_edges_from(b)\n",
    "J = nx.Graph();J.add_edges_from(d)"
   ]
  },
  {
   "cell_type": "markdown",
   "metadata": {},
   "source": [
    "# Tabla 1 de Zotenko"
   ]
  },
  {
   "cell_type": "code",
   "execution_count": 2,
   "metadata": {},
   "outputs": [
    {
     "name": "stdout",
     "output_type": "stream",
     "text": [
      "       Cantidad de enlaces  Cantidad de nodos  Clustering medio (global)  \\\n",
      "AP-MS                 9070               1622                   0.618590   \n",
      "LIT                   2925               1536                   0.346193   \n",
      "Y2H                   2930               2018                   0.023614   \n",
      "\n",
      "       Clustering medio (promedio)  Grado medio  \n",
      "AP-MS                     0.554636    11.183724  \n",
      "LIT                       0.292492     3.808594  \n",
      "Y2H                       0.046194     2.903865  \n"
     ]
    }
   ],
   "source": [
    "Cantidad_nodos=[G.number_of_nodes(),H.number_of_nodes(),J.number_of_nodes()]\n",
    "                \n",
    "Cantidad_enlaces=[G.number_of_edges(),H.number_of_edges(),J.number_of_edges()]\n",
    "                \n",
    "grados = [gra for (nom,gra) in G.degree()];grados_media_g=np.mean(np.asarray(grados))\n",
    "grados = [gra for (nom,gra) in H.degree()];grados_media_h=np.mean(np.asarray(grados))\n",
    "grados = [gra for (nom,gra) in J.degree()];grados_media_j=np.mean(np.asarray(grados))\n",
    "Grado_medio=[grados_media_g,grados_media_h,grados_media_j]\n",
    "\n",
    "cluster=[nx.average_clustering(G),nx.average_clustering(H),nx.average_clustering(J)]\n",
    "                \n",
    "trans=[nx.transitivity(G),nx.transitivity(H),nx.transitivity(J)]     \n",
    "\n",
    "d = {'Cantidad de nodos': Cantidad_nodos, 'Cantidad de enlaces': Cantidad_enlaces, 'Grado medio': Grado_medio, 'Clustering medio (promedio)': cluster, 'Clustering medio (global)': trans}\n",
    "Tabla_1=pd.DataFrame(data=d)\n",
    "Tabla_1.index=[\"AP-MS\",\"LIT\",\"Y2H\"]\n",
    "\n",
    "print(Tabla_1)"
   ]
  },
  {
   "cell_type": "markdown",
   "metadata": {},
   "source": [
    "# Tabla 2 de Zotenko"
   ]
  },
  {
   "cell_type": "code",
   "execution_count": 3,
   "metadata": {},
   "outputs": [
    {
     "name": "stdout",
     "output_type": "stream",
     "text": [
      "           0          1          2\n",
      "0      AP-MS   0.143109  0.0286659\n",
      "1   0.443761        LIT  0.0888889\n",
      "2  0.0887372  0.0887372        Y2H\n"
     ]
    }
   ],
   "source": [
    "def proporcion_edges(RED1,RED2):\n",
    "    cont = 0\n",
    "    for i in RED1.edges:\n",
    "        if i in RED2.edges:\n",
    "            cont=cont+1\n",
    "    return(cont/RED1.number_of_edges())\n",
    "GH=proporcion_edges(G,H);GJ=proporcion_edges(G,J)\n",
    "HG=proporcion_edges(H,G);HJ=proporcion_edges(H,J)\n",
    "JG=proporcion_edges(J,G);JH=proporcion_edges(J,H)\n",
    "col1=['AP-MS', GH, GJ];col2=[HG, 'LIT', HJ];col3=[JG, JH, 'Y2H']\n",
    "\n",
    "Tabla_2=pd.DataFrame(data=[col1, col2, col3])\n",
    "print(Tabla_2)"
   ]
  },
  {
   "cell_type": "code",
   "execution_count": 4,
   "metadata": {
    "collapsed": true
   },
   "outputs": [],
   "source": [
    "es=ldata(\"esenciales.txt\")\n",
    "\n",
    "for i in G.nodes:\n",
    "    G.nodes[i][\"es\"] = 0\n",
    "\n",
    "for n in es:\n",
    "    if n[0] in G.nodes:\n",
    "        G.nodes[n[0]][\"es\"] = 1\n",
    "\n",
    "for i in J.nodes:\n",
    "    J.nodes[i][\"es\"] = 0\n",
    "\n",
    "for n in es:\n",
    "    if n[0] in J.nodes:\n",
    "        J.nodes[n[0]][\"es\"] = 1\n",
    "        \n",
    "for i in H.nodes:\n",
    "    H.nodes[i][\"es\"] = 0\n",
    "\n",
    "for n in es:\n",
    "    if n[0] in H.nodes:\n",
    "        H.nodes[n[0]][\"es\"] = 1"
   ]
  },
  {
   "cell_type": "markdown",
   "metadata": {},
   "source": [
    "# Figura 1 de Zotenko"
   ]
  },
  {
   "cell_type": "code",
   "execution_count": 5,
   "metadata": {
    "scrolled": true
   },
   "outputs": [
    {
     "data": {
      "image/png": "[encoded data removed]",
      "text/plain": [
       "<matplotlib.figure.Figure at 0x7f2c653d5c18>"
      ]
     },
     "metadata": {},
     "output_type": "display_data"
    }
   ],
   "source": [
    "grados = [gra for (nom,gra) in G.degree()] # [lo_que_quiero  for los_elementos in iterable]\n",
    "nombre = [nom for (nom,gra) in G.degree()] # [lo_que_quiero  for los_elementos in iterable]\n",
    "Datos = np.asarray(grados)\n",
    "\n",
    "frac=[]\n",
    "x=[]\n",
    "\n",
    "for i in range(max(Datos)):\n",
    "    ese=0\n",
    "    noese=0\n",
    "    for j in range(len(Datos)):\n",
    "        if Datos[j]>=i:\n",
    "            if G.nodes[nombre[j]]['es']==1:\n",
    "                ese=+1\n",
    "            else:\n",
    "                noese=noese+1\n",
    "    frac.append(ese/float(ese+noese))\n",
    "    xi=1-1/max(Datos)*i\n",
    "    x.append(xi)\n",
    "Gx=x.copy()\n",
    "Gfrac=frac.copy()\n",
    "\n",
    "grados = [gra for (nom,gra) in H.degree()] # [lo_que_quiero  for los_elementos in iterable]\n",
    "nombre = [nom for (nom,gra) in H.degree()] # [lo_que_quiero  for los_elementos in iterable]\n",
    "Datos = np.asarray(grados)\n",
    "\n",
    "frac=[]\n",
    "x=[]\n",
    "\n",
    "for i in range(max(Datos)):\n",
    "    ese=0\n",
    "    noese=0\n",
    "    for j in range(len(Datos)):\n",
    "        if Datos[j]>=i:\n",
    "            if H.nodes[nombre[j]]['es']==1:\n",
    "                ese=+1\n",
    "            else:\n",
    "                noese=noese+1\n",
    "    frac.append(ese/float(ese+noese))\n",
    "    xi=1-1/max(Datos)*i\n",
    "    x.append(xi)\n",
    "Hx=x.copy()\n",
    "Hfrac=frac.copy()\n",
    "\n",
    "grados = [gra for (nom,gra) in J.degree()] # [lo_que_quiero  for los_elementos in iterable]\n",
    "nombre = [nom for (nom,gra) in J.degree()] # [lo_que_quiero  for los_elementos in iterable]\n",
    "Datos = np.asarray(grados)\n",
    "\n",
    "frac=[]\n",
    "x=[]\n",
    "\n",
    "for i in range(max(Datos)):\n",
    "    ese=0\n",
    "    noese=0\n",
    "    for j in range(len(Datos)):\n",
    "        if Datos[j]>=i:\n",
    "            if J.nodes[nombre[j]]['es']==1:\n",
    "                ese=+1\n",
    "            else:\n",
    "                noese=noese+1\n",
    "    frac.append(ese/float(ese+noese))\n",
    "    xi=1-1/max(Datos)*i\n",
    "    x.append(xi)\n",
    "Jx=x.copy()\n",
    "Jfrac=frac.copy() \n",
    "\n",
    "plt.plot(Gx,Gfrac,label='AP-MS');plt.plot(Hx,Hfrac,label='LIT');plt.plot(Jx,Jfrac,label='Y2H')\n",
    "plt.legend();plt.ylabel(\"Fracción de Nodos Esenciales\");plt.xlabel(\"Umbral de Hubs\")\n",
    "plt.show()"
   ]
  },
  {
   "cell_type": "markdown",
   "metadata": {},
   "source": [
    "# Figura 3 de Zotenko"
   ]
  },
  {
   "cell_type": "markdown",
   "metadata": {},
   "source": [
    "## Sacando al azar"
   ]
  },
  {
   "cell_type": "code",
   "execution_count": 6,
   "metadata": {
    "collapsed": true
   },
   "outputs": [],
   "source": [
    "import random \n",
    "def sacar_random(RED):\n",
    "    GG=RED.copy() #Copio la red\n",
    "    Componente_Gigante_INT=sorted(nx.connected_components(GG), key=len, reverse=True)[0] #Conjunto de nodos comp_gigante\n",
    "    Componente_Gigante = GG.subgraph(Componente_Gigante_INT) #armo la RED con sólo la componente gigante\n",
    "    cantidad_nodos_gigante = len(Componente_Gigante)\n",
    "\n",
    "    paso=0\n",
    "    dg=[]\n",
    "    pasos=[]\n",
    "    while len(Componente_Gigante)>1:\n",
    "        paso+=1\n",
    "        listanodos = [nom for (nom,gra) in Componente_Gigante.degree()]\n",
    "        GG.remove_node(random.choice(listanodos))\n",
    "        Componente_Gigante_INT=sorted(nx.connected_components(GG), key=len, reverse=True)[0]\n",
    "        Componente_Gigante = GG.subgraph(Componente_Gigante_INT)\n",
    "        fraccion=len(Componente_Gigante)/cantidad_nodos_gigante\n",
    "        dg.append(fraccion)\n",
    "        pasos.append(paso/cantidad_nodos_gigante)\n",
    "        GG=Componente_Gigante.copy()\n",
    "    return(pasos,dg)"
   ]
  },
  {
   "cell_type": "markdown",
   "metadata": {},
   "source": [
    "## Sacando el de mayor grado"
   ]
  },
  {
   "cell_type": "code",
   "execution_count": 7,
   "metadata": {
    "collapsed": true
   },
   "outputs": [],
   "source": [
    "def sacar_grado(RED):\n",
    "    GG=RED.copy() #Copio la red\n",
    "    Componente_Gigante_INT=sorted(nx.connected_components(GG), key=len, reverse=True)[0] #Conjunto de nodos comp_gigante\n",
    "    Componente_Gigante = GG.subgraph(Componente_Gigante_INT) #armo la RED con sólo la componente gigante\n",
    "    cantidad_nodos_gigante = len(Componente_Gigante)\n",
    "\n",
    "    paso=0\n",
    "    dg=[]\n",
    "    pasos=[]\n",
    "    while len(Componente_Gigante)>1:\n",
    "        paso+=1\n",
    "        grados_GG = [gra for (nom,gra) in GG.degree()]\n",
    "        Grados = np.asarray(grados_GG)\n",
    "        I=GG.copy() #copio la red para que el iterable no cambie al remover un nodo\n",
    "        for i in I.nodes(): #remuevo el nodo de mayor grado\n",
    "            if GG.degree[i]==np.max(Grados):\n",
    "                GG.remove_node(i)\n",
    "        Componente_Gigante_INT=sorted(nx.connected_components(GG), key=len, reverse=True)[0] #Redefino la componente gigante sin el nodo que saqué\n",
    "        Componente_Gigante = GG.subgraph(Componente_Gigante_INT)\n",
    "        GG=Componente_Gigante.copy()\n",
    "        fraccion=len(Componente_Gigante)/cantidad_nodos_gigante #proporción de nodos que restan\n",
    "        dg.append(fraccion)\n",
    "        pasos.append(paso/cantidad_nodos_gigante) #proporción de nodos que saqué del total de la comp gigante original\n",
    "    return(pasos,dg)"
   ]
  },
  {
   "cell_type": "markdown",
   "metadata": {},
   "source": [
    "## Sacando el de mayor betweenes"
   ]
  },
  {
   "cell_type": "code",
   "execution_count": 8,
   "metadata": {
    "collapsed": true
   },
   "outputs": [],
   "source": [
    "def sacar_between(RED):\n",
    "    GG=RED.copy()\n",
    "    Componente_Gigante_INT=sorted(nx.connected_components(GG), key=len, reverse=True)[0]\n",
    "    Componente_Gigante = GG.subgraph(Componente_Gigante_INT)\n",
    "    cantidad_nodos_gigante = len(Componente_Gigante)\n",
    "    bet=nx.betweenness_centrality(Componente_Gigante, k=None, normalized=True, weight=None, endpoints=False, seed=None)\n",
    "\n",
    "    paso=0\n",
    "    dg=[]\n",
    "    pasos=[]\n",
    "\n",
    "    nom_GG = [nom for (nom,betw) in bet.items()]\n",
    "    betw_GG = [betw for (nom,betw) in bet.items()]\n",
    "    betw = np.asarray(betw_GG)\n",
    "\n",
    "    while len(Componente_Gigante)>1:\n",
    "        if nom_GG[np.argmax(betw)] in GG.nodes():\n",
    "            GG.remove_node(nom_GG[np.argmax(betw)])\n",
    "            #betw = betw[betw!=np.max(betw)]\n",
    "            del(betw_GG[np.argmax(betw)])\n",
    "            del(nom_GG[np.argmax(betw)])\n",
    "            betw = np.asarray(betw_GG)\n",
    "            Componente_Gigante_INT=sorted(nx.connected_components(GG), key=len, reverse=True)[0]\n",
    "            Componente_Gigante = GG.subgraph(Componente_Gigante_INT)\n",
    "            paso+=1\n",
    "            GG=Componente_Gigante.copy()\n",
    "        else:\n",
    "            del(betw_GG[np.argmax(betw)])\n",
    "            del(nom_GG[np.argmax(betw)])\n",
    "            betw = np.asarray(betw_GG)\n",
    "        fraccion=len(Componente_Gigante)/cantidad_nodos_gigante\n",
    "        dg.append(fraccion)\n",
    "        pasos.append(paso/cantidad_nodos_gigante)\n",
    "    return(pasos,dg)"
   ]
  },
  {
   "cell_type": "markdown",
   "metadata": {},
   "source": [
    "## Sacando el de mayor Eigenvector"
   ]
  },
  {
   "cell_type": "code",
   "execution_count": 9,
   "metadata": {
    "collapsed": true
   },
   "outputs": [],
   "source": [
    "def sacar_eigen(RED):\n",
    "    GG=RED.copy()\n",
    "    Componente_Gigante_INT=sorted(nx.connected_components(GG), key=len, reverse=True)[0]\n",
    "    Componente_Gigante = GG.subgraph(Componente_Gigante_INT)\n",
    "    cantidad_nodos_gigante = len(Componente_Gigante)\n",
    "    GG=Componente_Gigante.copy()\n",
    "    bet=nx.eigenvector_centrality(Componente_Gigante, max_iter=100, tol=1e-06, nstart=None, weight='weight')\n",
    "\n",
    "    paso=0\n",
    "    dg=[]\n",
    "    pasos=[]\n",
    "\n",
    "    nom_GG = [nom for (nom,betw) in bet.items()]\n",
    "    betw_GG = [betw for (nom,betw) in bet.items()]\n",
    "    betw = np.asarray(betw_GG)\n",
    "\n",
    "    while len(Componente_Gigante)>1:\n",
    "        if nom_GG[np.argmax(betw)] in GG.nodes():\n",
    "            GG.remove_node(nom_GG[np.argmax(betw)])\n",
    "            del(betw_GG[np.argmax(betw)])\n",
    "            del(nom_GG[np.argmax(betw)])\n",
    "            betw = np.asarray(betw_GG)\n",
    "            Componente_Gigante_INT=sorted(nx.connected_components(GG), key=len, reverse=True)[0]\n",
    "            Componente_Gigante = GG.subgraph(Componente_Gigante_INT)\n",
    "            paso+=1\n",
    "            GG=Componente_Gigante.copy()\n",
    "        else:\n",
    "            del(betw_GG[np.argmax(betw)])\n",
    "            del(nom_GG[np.argmax(betw)])\n",
    "            betw = np.asarray(betw_GG)  \n",
    "        fraccion=len(Componente_Gigante)/cantidad_nodos_gigante\n",
    "        dg.append(fraccion)\n",
    "        pasos.append(paso/cantidad_nodos_gigante)\n",
    "    return(pasos,dg)"
   ]
  },
  {
   "cell_type": "markdown",
   "metadata": {},
   "source": [
    "## Calculo las funciones a todas las redes"
   ]
  },
  {
   "cell_type": "code",
   "execution_count": 10,
   "metadata": {
    "collapsed": true
   },
   "outputs": [],
   "source": [
    "RED=G\n",
    "pasos_random_G,nodos_random_G=sacar_random(RED)\n",
    "pasos_grado_G,nodos_grado_G=sacar_grado(RED)\n",
    "pasos_between_G,nodos_between_G=sacar_between(RED)\n",
    "pasos_eigen_G,nodos_eigen_G=sacar_eigen(RED)"
   ]
  },
  {
   "cell_type": "code",
   "execution_count": 11,
   "metadata": {
    "collapsed": true
   },
   "outputs": [],
   "source": [
    "RED=H\n",
    "pasos_random_H,nodos_random_H=sacar_random(RED)\n",
    "pasos_grado_H,nodos_grado_H=sacar_grado(RED)\n",
    "pasos_between_H,nodos_between_H=sacar_between(RED)\n",
    "pasos_eigen_H,nodos_eigen_H=sacar_eigen(RED)"
   ]
  },
  {
   "cell_type": "code",
   "execution_count": 12,
   "metadata": {
    "collapsed": true
   },
   "outputs": [],
   "source": [
    "RED=J\n",
    "pasos_random_J,nodos_random_J=sacar_random(RED)\n",
    "pasos_grado_J,nodos_grado_J=sacar_grado(RED)\n",
    "pasos_between_J,nodos_between_J=sacar_between(RED)\n",
    "pasos_eigen_J,nodos_eigen_J=sacar_eigen(RED)"
   ]
  },
  {
   "cell_type": "markdown",
   "metadata": {},
   "source": [
    "## Ploteo"
   ]
  },
  {
   "cell_type": "code",
   "execution_count": 13,
   "metadata": {},
   "outputs": [
    {
     "data": {
      "image/png": "[encoded data removed]",
      "text/plain": [
       "<matplotlib.figure.Figure at 0x7f2c5c6c66a0>"
      ]
     },
     "metadata": {},
     "output_type": "display_data"
    },
    {
     "data": {
      "image/png": "[encoded data removed]",
      "text/plain": [
       "<matplotlib.figure.Figure at 0x7f2c5ff56be0>"
      ]
     },
     "metadata": {},
     "output_type": "display_data"
    },
    {
     "data": {
      "image/png": "[encoded data removed]",
      "text/plain": [
       "<matplotlib.figure.Figure at 0x7f2c5c4af4a8>"
      ]
     },
     "metadata": {},
     "output_type": "display_data"
    }
   ],
   "source": [
    "plt.figure()\n",
    "plt.plot(pasos_random_G,nodos_random_G,label=\"Random\")\n",
    "plt.plot(pasos_grado_G,nodos_grado_G,label=\"Mayor grado\")\n",
    "plt.plot(pasos_between_G,nodos_between_G,label=\"Betweenes\")\n",
    "plt.plot(pasos_eigen_G,nodos_eigen_G,label=\"Eigenvector\")\n",
    "plt.legend();plt.title(\"AP-MS\");plt.xlabel('Fraccion de nodos');plt.ylabel('Componente gigante');plt.xlim([0,0.5])\n",
    "plt.figure()\n",
    "plt.plot(pasos_random_H,nodos_random_H,label=\"Random\")\n",
    "plt.plot(pasos_grado_H,nodos_grado_H,label=\"Mayor grado\")\n",
    "plt.plot(pasos_between_H,nodos_between_H,label=\"Betweenes\")\n",
    "plt.plot(pasos_eigen_H,nodos_eigen_H,label=\"Eigenvector\")\n",
    "plt.legend();plt.title(\"LIT\");plt.xlabel('Fraccion de nodos');plt.ylabel('Componente gigante');plt.xlim([0,0.5])\n",
    "plt.figure()\n",
    "plt.plot(pasos_random_J,nodos_random_J,label=\"Random\")\n",
    "plt.plot(pasos_grado_J,nodos_grado_J,label=\"Mayor grado\")\n",
    "plt.plot(pasos_between_J,nodos_between_J,label=\"Betweenes\")\n",
    "plt.plot(pasos_eigen_J,nodos_eigen_J,label=\"Eigenvector\")\n",
    "plt.legend();plt.title(\"Y2H\");plt.xlabel('Fraccion de nodos');plt.ylabel('Componente gigante');plt.xlim([0,0.5])\n",
    "plt.show()"
   ]
  },
  {
   "cell_type": "markdown",
   "metadata": {
    "collapsed": true
   },
   "source": [
    "# Tabla 3 Zotenko"
   ]
  },
  {
   "cell_type": "code",
   "execution_count": 81,
   "metadata": {},
   "outputs": [
    {
     "name": "stderr",
     "output_type": "stream",
     "text": [
      "IOPub data rate exceeded.\n",
      "The notebook server will temporarily stop sending output\n",
      "to the client in order to avoid crashing it.\n",
      "To change this limit, set the config variable\n",
      "`--NotebookApp.iopub_data_rate_limit`.\n"
     ]
    }
   ],
   "source": [
    "grados = [gra for (nom,gra) in G.degree()]\n",
    "nombre = [nom for (nom,gra) in G.degree()]\n",
    "Datos = np.asarray(grados)\n",
    "\n",
    "frac=[]\n",
    "esential=[]\n",
    "x=[]\n",
    "\n",
    "for i in range(max(Datos)):\n",
    "    ese=0\n",
    "    noese=0\n",
    "    for j in range(len(Datos)):\n",
    "        if Datos[j]>=i:\n",
    "            if G.nodes[nombre[j]]['es']==1:\n",
    "                ese=+1\n",
    "                esential.append(G.degree())\n",
    "            else:\n",
    "                noese=noese+1\n",
    "    frac.append(ese/float(ese+noese))\n",
    "    xi=1-1/max(Datos)*i\n",
    "    x.append(xi)\n",
    "Gx=x.copy()\n",
    "Gfrac=frac.copy()\n",
    "print(esential)"
   ]
  },
  {
   "cell_type": "markdown",
   "metadata": {
    "collapsed": true
   },
   "source": [
    "## Saco nodos esenciales al azar"
   ]
  },
  {
   "cell_type": "code",
   "execution_count": 47,
   "metadata": {},
   "outputs": [
    {
     "name": "stdout",
     "output_type": "stream",
     "text": [
      "952\n",
      "393\n",
      "559\n"
     ]
    },
    {
     "ename": "ValueError",
     "evalue": "list.remove(x): x not in list",
     "output_type": "error",
     "traceback": [
      "\u001b[0;31m---------------------------------------------------------------------------\u001b[0m",
      "\u001b[0;31mValueError\u001b[0m                                Traceback (most recent call last)",
      "\u001b[0;32m<ipython-input-47-2799e256548c>\u001b[0m in \u001b[0;36m<module>\u001b[0;34m()\u001b[0m\n\u001b[1;32m     52\u001b[0m         \u001b[0mesenciales\u001b[0m\u001b[0;34m.\u001b[0m\u001b[0mremove\u001b[0m\u001b[0;34m(\u001b[0m\u001b[0mnodo_random_esencial\u001b[0m\u001b[0;34m)\u001b[0m\u001b[0;34m\u001b[0m\u001b[0m\n\u001b[1;32m     53\u001b[0m         \u001b[0mno_esenciales\u001b[0m\u001b[0;34m.\u001b[0m\u001b[0mremove\u001b[0m\u001b[0;34m(\u001b[0m\u001b[0mno_esenciales\u001b[0m\u001b[0;34m[\u001b[0m\u001b[0mind\u001b[0m\u001b[0;34m]\u001b[0m\u001b[0;34m)\u001b[0m\u001b[0;34m\u001b[0m\u001b[0m\n\u001b[0;32m---> 54\u001b[0;31m         \u001b[0mGrados_ne_lista\u001b[0m\u001b[0;34m.\u001b[0m\u001b[0mremove\u001b[0m\u001b[0;34m(\u001b[0m\u001b[0mind\u001b[0m\u001b[0;34m)\u001b[0m\u001b[0;34m\u001b[0m\u001b[0m\n\u001b[0m\u001b[1;32m     55\u001b[0m         \u001b[0mGrados_e_lista\u001b[0m\u001b[0;34m.\u001b[0m\u001b[0mremove\u001b[0m\u001b[0;34m(\u001b[0m\u001b[0mi\u001b[0m\u001b[0;34m)\u001b[0m\u001b[0;34m\u001b[0m\u001b[0m\n\u001b[1;32m     56\u001b[0m \u001b[0;34m\u001b[0m\u001b[0m\n",
      "\u001b[0;31mValueError\u001b[0m: list.remove(x): x not in list"
     ]
    }
   ],
   "source": [
    "GG_es=G.copy()\n",
    "Componente_Gigante_INT=sorted(nx.connected_components(GG), key=len, reverse=True)[0]\n",
    "Componente_Gigante = GG.subgraph(Componente_Gigante_INT)\n",
    "cantidad_nodos_gigante = len(Componente_Gigante)\n",
    "\n",
    "GG_nes=GG_e.copy()\n",
    "\n",
    "#Armo lista con nodos esenciales\n",
    "esenciales = []\n",
    "no_esenciales = []\n",
    "for (p, d) in Componente_Gigante.nodes(data=True):\n",
    "    if d['es'] == 1:\n",
    "        esenciales.append(p)\n",
    "    else:\n",
    "        no_esenciales.append(p)\n",
    "        \n",
    "print(cantidad_nodos_gigante)\n",
    "print(len(esenciales))\n",
    "print(len(no_esenciales))\n",
    "\n",
    "esenciales=np.random.choice(esenciales,len(esenciales)) #Mezcla esenciales\n",
    "#esenciales=np.random.choice(esenciales,len(esenciales),replace=False) #Mezcla esenciales\n",
    "esenciales=np.ndarray.tolist(esenciales)\n",
    "\n",
    "no_esenciales=np.random.choice(no_esenciales,len(no_esenciales)) #Mezcla esenciales\n",
    "#esenciales=np.random.choice(esenciales,len(esenciales),replace=False) #Mezcla esenciales\n",
    "no_esenciales=np.ndarray.tolist(no_esenciales)\n",
    "\n",
    "grados_no_esenciales = [gra for (nom,gra) in Componente_Gigante.degree(no_esenciales)]\n",
    "Grados_ne = np.asarray(grados_no_esenciales)\n",
    "Grados_ne_lista=np.ndarray.tolist(Grados_ne)\n",
    "\n",
    "grados_esenciales = [gra for (nom,gra) in Componente_Gigante.degree(esenciales)]\n",
    "Grados_e = np.asarray(grados_esenciales)\n",
    "Grados_e_lista=np.ndarray.tolist(Grados_e)\n",
    "\n",
    "paso=0\n",
    "dg=[]\n",
    "pasos_esencial=[]\n",
    "dg_esencial=[]\n",
    "grado=[]\n",
    "# La condición ahora es que aún existan nodos esenciales en la componente gigante\n",
    "for i in range(50):\n",
    "    nodo_random_esencial=esenciales[i]\n",
    "    grado=GG_es.degree(nodo_random_esencial)\n",
    "    \n",
    "    if nodo_random_esencial in GG_es.nodes() and (grado in Grados_ne):\n",
    "        ind=Grados_ne_lista.index(grado)\n",
    "        GG_es.remove_node(nodo_random_esencial)\n",
    "        GG_nes.remove_node(no_esenciales[ind])\n",
    "        \n",
    "        esenciales.remove(nodo_random_esencial)\n",
    "        no_esenciales.remove(no_esenciales[ind])\n",
    "        Grados_ne_lista.remove(ind)\n",
    "        Grados_e_lista.remove(i)\n",
    "        \n",
    "        Componente_Gigante_INT_es=sorted(nx.connected_components(GG_es), key=len, reverse=True)[0]\n",
    "        Componente_Gigante_es = GG.subgraph(Componente_Gigante_INT_es)\n",
    "        GG_es=Componente_Gigante_es.copy()\n",
    "        \n",
    "        Componente_Gigante_INT_nes=sorted(nx.connected_components(GG_nes), key=len, reverse=True)[0]\n",
    "        Componente_Gigante_nes = GG_nes.subgraph(Componente_Gigante_INT_nes)\n",
    "        GG_nes=Componente_Gigante_nes.copy()\n",
    "        \n",
    "        paso+=1\n",
    "    fraccion=len(Componente_Gigante)/cantidad_nodos_gigante\n",
    "    dg_esencial.append(fraccion)\n",
    "    pasos_esencial.append(paso/cantidad_nodos_gigante)\n",
    "    grados.append(grado)\n",
    "    \n",
    "plt.plot(pasos_esencial,dg_esencial)\n",
    "plt.show()"
   ]
  },
  {
   "cell_type": "code",
   "execution_count": 27,
   "metadata": {},
   "outputs": [
    {
     "name": "stdout",
     "output_type": "stream",
     "text": [
      "1004\n",
      "409\n",
      "595\n"
     ]
    },
    {
     "data": {
      "image/png": "[encoded data removed]",
      "text/plain": [
       "<matplotlib.figure.Figure at 0x7f2c5a3a20b8>"
      ]
     },
     "metadata": {},
     "output_type": "display_data"
    }
   ],
   "source": [
    "GG=G.copy()\n",
    "Componente_Gigante_INT=sorted(nx.connected_components(GG), key=len, reverse=True)[0]\n",
    "Componente_Gigante = GG.subgraph(Componente_Gigante_INT)\n",
    "cantidad_nodos_gigante = len(Componente_Gigante)\n",
    "\n",
    "#Armo lista con nodos esenciales\n",
    "esenciales = []\n",
    "no_esenciales = []\n",
    "for (p, d) in Componente_Gigante.nodes(data=True):\n",
    "    if d['es'] == 1:\n",
    "        esenciales.append(p)\n",
    "    else:\n",
    "        no_esenciales.append(p)\n",
    "        \n",
    "print(cantidad_nodos_gigante)\n",
    "print(len(esenciales))\n",
    "print(len(no_esenciales))\n",
    "\n",
    "grados_no_esenciales = [gra for (nom,gra) in Componente_Gigante.degree(no_esenciales)]\n",
    "Grados_ne = np.asarray(grados_no_esenciales)\n",
    "\n",
    "grados_esenciales = [gra for (nom,gra) in Componente_Gigante.degree(esenciales)]\n",
    "Grados_e = np.asarray(grados_esenciales)\n",
    "\n",
    "plt.hist(Grados_e)\n",
    "plt.hist(Grados_ne)\n",
    "plt.show()"
   ]
  },
  {
   "cell_type": "code",
   "execution_count": 38,
   "metadata": {},
   "outputs": [
    {
     "data": {
      "image/png": "[encoded data removed]",
      "text/plain": [
       "<matplotlib.figure.Figure at 0x7f2c5c5f2780>"
      ]
     },
     "metadata": {},
     "output_type": "display_data"
    }
   ],
   "source": [
    "GG=G.copy() #Copio la red\n",
    "Componente_Gigante_INT=sorted(nx.connected_components(GG), key=len, reverse=True)[0] #Conjunto de nodos comp_gigante\n",
    "Componente_Gigante = GG.subgraph(Componente_Gigante_INT) #armo la RED con sólo la componente gigante\n",
    "cantidad_nodos_gigante = len(Componente_Gigante)\n",
    "\n",
    "paso=0\n",
    "dg_random=[]\n",
    "pasos_random=[]\n",
    "while len(Componente_Gigante)>1 and (grados[paso] in Grados_e):\n",
    "    grados_GG = [gra for (nom,gra) in GG.degree()]\n",
    "    Grados = np.asarray(grados_GG)\n",
    "    I=GG.copy() #copio la red para que el iterable no cambie al remover un nodo\n",
    "    llave=0\n",
    "    for i in I.nodes(): #remuevo el nodo degrado más cercano al del nodo esencial\n",
    "        if i in GG.nodes() and llave==0:\n",
    "            if GG.degree[i]==grados[paso]:\n",
    "                GG.remove_node(i)\n",
    "                llave=1\n",
    "    paso+=1\n",
    "    Componente_Gigante_INT=sorted(nx.connected_components(GG), key=len, reverse=True)[0] #Redefino la componente gigante sin el nodo que saqué\n",
    "    Componente_Gigante = GG.subgraph(Componente_Gigante_INT)\n",
    "    GG=Componente_Gigante.copy()\n",
    "    fraccion=len(Componente_Gigante)/cantidad_nodos_gigante #proporción de nodos que restan\n",
    "    dg_random.append(fraccion)\n",
    "    pasos_random.append(paso/cantidad_nodos_gigante) #proporción de nodos que saqué del total de la comp gigante original\n",
    "\n",
    "plt.plot(pasos_random,dg_random,label=\"Random mismo grado\")\n",
    "plt.plot(pasos_esencial,dg_esencial,label=\"Esenciales\")\n",
    "plt.legend();plt.title(\"Y2H\");plt.xlabel('Fraccion de nodos');plt.ylabel('Componente gigante')\n",
    "plt.show()\n"
   ]
  },
  {
   "cell_type": "code",
   "execution_count": 44,
   "metadata": {},
   "outputs": [
    {
     "ename": "ValueError",
     "evalue": "1000 is not in list",
     "output_type": "error",
     "traceback": [
      "\u001b[0;31m---------------------------------------------------------------------------\u001b[0m",
      "\u001b[0;31mValueError\u001b[0m                                Traceback (most recent call last)",
      "\u001b[0;32m<ipython-input-44-19571dae00c5>\u001b[0m in \u001b[0;36m<module>\u001b[0;34m()\u001b[0m\n\u001b[1;32m      1\u001b[0m \u001b[0;34m\u001b[0m\u001b[0m\n\u001b[0;32m----> 2\u001b[0;31m \u001b[0mGrados_ne\u001b[0m\u001b[0;34m.\u001b[0m\u001b[0mindex\u001b[0m\u001b[0;34m(\u001b[0m\u001b[0;36m1000\u001b[0m\u001b[0;34m)\u001b[0m\u001b[0;34m\u001b[0m\u001b[0m\n\u001b[0m",
      "\u001b[0;31mValueError\u001b[0m: 1000 is not in list"
     ]
    }
   ],
   "source": [
    "\n",
    "Grados_ne.index(1000)"
   ]
  },
  {
   "cell_type": "code",
   "execution_count": 159,
   "metadata": {},
   "outputs": [
    {
     "data": {
      "text/plain": [
       "[<matplotlib.lines.Line2D at 0x1d6a68cde48>]"
      ]
     },
     "execution_count": 159,
     "metadata": {},
     "output_type": "execute_result"
    },
    {
     "data": {
      "image/png": "[encoded data removed]",
      "text/plain": [
       "<Figure size 432x288 with 1 Axes>"
      ]
     },
     "metadata": {},
     "output_type": "display_data"
    }
   ],
   "source": [
    "options = {\n",
    "     'node_color':[\"blue\" if es==1 else \"red\" for es in nx.get_node_attributes(G, \"es\").values()],\n",
    "     'node_size': 5,\n",
    "     'width': 2,}\n",
    "\n",
    "nx.draw_kamada_kawai(G, **options)\n",
    "plt.show()"
   ]
  },
  {
   "cell_type": "code",
   "execution_count": null,
   "metadata": {
    "collapsed": true
   },
   "outputs": [],
   "source": []
  }
 ],
 "metadata": {
  "kernelspec": {
   "display_name": "Python 3",
   "language": "python",
   "name": "python3"
  },
  "language_info": {
   "codemirror_mode": {
    "name": "ipython",
    "version": 3
   },
   "file_extension": ".py",
   "mimetype": "text/x-python",
   "name": "python",
   "nbconvert_exporter": "python",
   "pygments_lexer": "ipython3",
   "version": "3.5.2"
  }
 },
 "nbformat": 4,
 "nbformat_minor": 2
}
